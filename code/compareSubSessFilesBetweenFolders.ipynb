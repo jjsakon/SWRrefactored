{
 "cells": [
  {
   "cell_type": "code",
   "execution_count": 29,
   "id": "03ee74d8-4cca-4458-be5c-0156bff651c5",
   "metadata": {},
   "outputs": [],
   "source": [
    "import pandas as pd; pd.set_option('display.max_columns', 30)\n",
    "import numpy as np\n",
    "from cmlreaders import CMLReader, get_data_index\n",
    "import ptsa\n",
    "import sys\n",
    "import os\n",
    "import shutil"
   ]
  },
  {
   "cell_type": "markdown",
   "id": "11cc0eb0-8528-4de1-874d-f944c2f46630",
   "metadata": {},
   "source": [
    "# code to find differences in files between each folders"
   ]
  },
  {
   "cell_type": "code",
   "execution_count": 18,
   "id": "8c03db3d-1248-400d-8ead-9306271c4c52",
   "metadata": {},
   "outputs": [
    {
     "name": "stdout",
     "output_type": "stream",
     "text": [
      "Files in IRIonly folder but not in ENCODING folder for region 'HPC':\n",
      "['SWR_catFR1_R1488T_0_HPC_surrounding_recall_soz_in_hamming.p']\n",
      "\n",
      "Files in ENCODING folder but not in IRIonly folder for region 'HPC':\n",
      "[]\n"
     ]
    }
   ],
   "source": [
    "region_to_print_differences = 'HPC'  # Set to 'HPC', 'AMY', or 'ENTPHC'\n",
    "\n",
    "# Define the paths to your folders\n",
    "iri_folder = \"/scratch/john/SWRrefactored/patient_info/catFR1/IRIonly\"\n",
    "encoding_folder = \"/scratch/john/SWRrefactored/patient_info/catFR1/ENCODING\"\n",
    "\n",
    "# Function to extract patient-session-region combo from filenames\n",
    "def extract_patient_session_region(filename, region):\n",
    "    parts = filename.split('_')\n",
    "    if len(parts) >= 5 and parts[4] == region:\n",
    "        patient_session_region = parts[2] + '_' + parts[3] + '_' + parts[4]\n",
    "        return patient_session_region\n",
    "    return None\n",
    "\n",
    "# List all files in both folders\n",
    "iri_files = os.listdir(iri_folder)\n",
    "encoding_files = os.listdir(encoding_folder)\n",
    "\n",
    "# Extract patient-session-region combos from filenames for the specified region\n",
    "iri_combos = {extract_patient_session_region(f, region_to_print_differences) for f in iri_files}\n",
    "iri_combos.discard(None)  # Remove None values\n",
    "\n",
    "encoding_combos = {extract_patient_session_region(f, region_to_print_differences) for f in encoding_files}\n",
    "encoding_combos.discard(None)  # Remove None values\n",
    "\n",
    "# Find combos that are not in the other folder\n",
    "iri_only_combos = iri_combos - encoding_combos\n",
    "encoding_only_combos = encoding_combos - iri_combos\n",
    "\n",
    "# Get the list of files that are not in the other folder\n",
    "iri_only_files = [f for f in iri_files if extract_patient_session_region(f, region_to_print_differences) in iri_only_combos]\n",
    "encoding_only_files = [f for f in encoding_files if extract_patient_session_region(f, region_to_print_differences) in encoding_only_combos]\n",
    "\n",
    "print(f\"Files in IRIonly folder but not in ENCODING folder for region '{region_to_print_differences}':\")\n",
    "print(iri_only_files)\n",
    "\n",
    "print(f\"\\nFiles in ENCODING folder but not in IRIonly folder for region '{region_to_print_differences}':\")\n",
    "print(encoding_only_files)\n"
   ]
  },
  {
   "cell_type": "markdown",
   "id": "15e86b1a-11f0-42bc-9783-3ada63d859b2",
   "metadata": {},
   "source": [
    "## this code will put all subject_session files not in IRIonly folder in a \"/files_not_in_IRI\" folder"
   ]
  },
  {
   "cell_type": "code",
   "execution_count": 14,
   "id": "6dda32c9-d1ad-4110-8007-4efab0f5c4ce",
   "metadata": {
    "collapsed": true,
    "jupyter": {
     "outputs_hidden": true
    },
    "tags": []
   },
   "outputs": [
    {
     "data": {
      "text/plain": [
       "'/scratch/john/SWRrefactored/patient_info/catFR1/ENCODING/files_not_in_IRI/SWR_catFR1_R1486J_2_ENTPHC_encodingNOIRI_soz_in_hamming.p'"
      ]
     },
     "execution_count": 14,
     "metadata": {},
     "output_type": "execute_result"
    },
    {
     "data": {
      "text/plain": [
       "'/scratch/john/SWRrefactored/patient_info/catFR1/ENCODING/files_not_in_IRI/SWR_catFR1_R1061T_0_ENTPHC_encodingNOIRI_soz_in_hamming.p'"
      ]
     },
     "execution_count": 14,
     "metadata": {},
     "output_type": "execute_result"
    },
    {
     "data": {
      "text/plain": [
       "'/scratch/john/SWRrefactored/patient_info/catFR1/ENCODING/files_not_in_IRI/SWR_catFR1_R1157C_2_ENTPHC_encodingNOIRI_soz_in_hamming.p'"
      ]
     },
     "execution_count": 14,
     "metadata": {},
     "output_type": "execute_result"
    },
    {
     "data": {
      "text/plain": [
       "'/scratch/john/SWRrefactored/patient_info/catFR1/ENCODING/files_not_in_IRI/SWR_catFR1_R1186P_0_ENTPHC_encodingNOIRI_soz_in_hamming.p'"
      ]
     },
     "execution_count": 14,
     "metadata": {},
     "output_type": "execute_result"
    },
    {
     "data": {
      "text/plain": [
       "'/scratch/john/SWRrefactored/patient_info/catFR1/ENCODING/files_not_in_IRI/SWR_catFR1_R1190P_1_ENTPHC_encodingNOIRI_soz_in_hamming.p'"
      ]
     },
     "execution_count": 14,
     "metadata": {},
     "output_type": "execute_result"
    },
    {
     "data": {
      "text/plain": [
       "'/scratch/john/SWRrefactored/patient_info/catFR1/ENCODING/files_not_in_IRI/SWR_catFR1_R1190P_0_ENTPHC_encodingNOIRI_soz_in_hamming.p'"
      ]
     },
     "execution_count": 14,
     "metadata": {},
     "output_type": "execute_result"
    },
    {
     "data": {
      "text/plain": [
       "'/scratch/john/SWRrefactored/patient_info/catFR1/ENCODING/files_not_in_IRI/SWR_catFR1_R1215M_0_ENTPHC_encodingNOIRI_soz_in_hamming.p'"
      ]
     },
     "execution_count": 14,
     "metadata": {},
     "output_type": "execute_result"
    },
    {
     "data": {
      "text/plain": [
       "'/scratch/john/SWRrefactored/patient_info/catFR1/ENCODING/files_not_in_IRI/SWR_catFR1_R1239E_1_ENTPHC_encodingNOIRI_soz_in_hamming.p'"
      ]
     },
     "execution_count": 14,
     "metadata": {},
     "output_type": "execute_result"
    },
    {
     "data": {
      "text/plain": [
       "'/scratch/john/SWRrefactored/patient_info/catFR1/ENCODING/files_not_in_IRI/SWR_catFR1_R1247P_1_ENTPHC_encodingNOIRI_soz_in_hamming.p'"
      ]
     },
     "execution_count": 14,
     "metadata": {},
     "output_type": "execute_result"
    },
    {
     "data": {
      "text/plain": [
       "'/scratch/john/SWRrefactored/patient_info/catFR1/ENCODING/files_not_in_IRI/SWR_catFR1_R1247P_2_ENTPHC_encodingNOIRI_soz_in_hamming.p'"
      ]
     },
     "execution_count": 14,
     "metadata": {},
     "output_type": "execute_result"
    },
    {
     "data": {
      "text/plain": [
       "'/scratch/john/SWRrefactored/patient_info/catFR1/ENCODING/files_not_in_IRI/SWR_catFR1_R1266J_1_ENTPHC_encodingNOIRI_soz_in_hamming.p'"
      ]
     },
     "execution_count": 14,
     "metadata": {},
     "output_type": "execute_result"
    },
    {
     "data": {
      "text/plain": [
       "'/scratch/john/SWRrefactored/patient_info/catFR1/ENCODING/files_not_in_IRI/SWR_catFR1_R1266J_2_ENTPHC_encodingNOIRI_soz_in_hamming.p'"
      ]
     },
     "execution_count": 14,
     "metadata": {},
     "output_type": "execute_result"
    },
    {
     "data": {
      "text/plain": [
       "'/scratch/john/SWRrefactored/patient_info/catFR1/ENCODING/files_not_in_IRI/SWR_catFR1_R1266J_3_ENTPHC_encodingNOIRI_soz_in_hamming.p'"
      ]
     },
     "execution_count": 14,
     "metadata": {},
     "output_type": "execute_result"
    },
    {
     "data": {
      "text/plain": [
       "'/scratch/john/SWRrefactored/patient_info/catFR1/ENCODING/files_not_in_IRI/SWR_catFR1_R1266J_5_ENTPHC_encodingNOIRI_soz_in_hamming.p'"
      ]
     },
     "execution_count": 14,
     "metadata": {},
     "output_type": "execute_result"
    },
    {
     "data": {
      "text/plain": [
       "'/scratch/john/SWRrefactored/patient_info/catFR1/ENCODING/files_not_in_IRI/SWR_catFR1_R1274T_1_ENTPHC_encodingNOIRI_soz_in_hamming.p'"
      ]
     },
     "execution_count": 14,
     "metadata": {},
     "output_type": "execute_result"
    },
    {
     "data": {
      "text/plain": [
       "'/scratch/john/SWRrefactored/patient_info/catFR1/ENCODING/files_not_in_IRI/SWR_catFR1_R1274T_0_ENTPHC_encodingNOIRI_soz_in_hamming.p'"
      ]
     },
     "execution_count": 14,
     "metadata": {},
     "output_type": "execute_result"
    },
    {
     "data": {
      "text/plain": [
       "'/scratch/john/SWRrefactored/patient_info/catFR1/ENCODING/files_not_in_IRI/SWR_catFR1_R1279P_1_ENTPHC_encodingNOIRI_soz_in_hamming.p'"
      ]
     },
     "execution_count": 14,
     "metadata": {},
     "output_type": "execute_result"
    },
    {
     "data": {
      "text/plain": [
       "'/scratch/john/SWRrefactored/patient_info/catFR1/ENCODING/files_not_in_IRI/SWR_catFR1_R1288P_0_ENTPHC_encodingNOIRI_soz_in_hamming.p'"
      ]
     },
     "execution_count": 14,
     "metadata": {},
     "output_type": "execute_result"
    },
    {
     "data": {
      "text/plain": [
       "'/scratch/john/SWRrefactored/patient_info/catFR1/ENCODING/files_not_in_IRI/SWR_catFR1_R1320D_0_ENTPHC_encodingNOIRI_soz_in_hamming.p'"
      ]
     },
     "execution_count": 14,
     "metadata": {},
     "output_type": "execute_result"
    },
    {
     "data": {
      "text/plain": [
       "'/scratch/john/SWRrefactored/patient_info/catFR1/ENCODING/files_not_in_IRI/SWR_catFR1_R1320D_1_ENTPHC_encodingNOIRI_soz_in_hamming.p'"
      ]
     },
     "execution_count": 14,
     "metadata": {},
     "output_type": "execute_result"
    },
    {
     "data": {
      "text/plain": [
       "'/scratch/john/SWRrefactored/patient_info/catFR1/ENCODING/files_not_in_IRI/SWR_catFR1_R1320D_2_ENTPHC_encodingNOIRI_soz_in_hamming.p'"
      ]
     },
     "execution_count": 14,
     "metadata": {},
     "output_type": "execute_result"
    },
    {
     "data": {
      "text/plain": [
       "'/scratch/john/SWRrefactored/patient_info/catFR1/ENCODING/files_not_in_IRI/SWR_catFR1_R1330D_0_ENTPHC_encodingNOIRI_soz_in_hamming.p'"
      ]
     },
     "execution_count": 14,
     "metadata": {},
     "output_type": "execute_result"
    },
    {
     "data": {
      "text/plain": [
       "'/scratch/john/SWRrefactored/patient_info/catFR1/ENCODING/files_not_in_IRI/SWR_catFR1_R1361C_0_ENTPHC_encodingNOIRI_soz_in_hamming.p'"
      ]
     },
     "execution_count": 14,
     "metadata": {},
     "output_type": "execute_result"
    },
    {
     "data": {
      "text/plain": [
       "'/scratch/john/SWRrefactored/patient_info/catFR1/ENCODING/files_not_in_IRI/SWR_catFR1_R1354E_2_ENTPHC_encodingNOIRI_soz_in_hamming.p'"
      ]
     },
     "execution_count": 14,
     "metadata": {},
     "output_type": "execute_result"
    },
    {
     "data": {
      "text/plain": [
       "'/scratch/john/SWRrefactored/patient_info/catFR1/ENCODING/files_not_in_IRI/SWR_catFR1_R1361C_1_ENTPHC_encodingNOIRI_soz_in_hamming.p'"
      ]
     },
     "execution_count": 14,
     "metadata": {},
     "output_type": "execute_result"
    },
    {
     "data": {
      "text/plain": [
       "'/scratch/john/SWRrefactored/patient_info/catFR1/ENCODING/files_not_in_IRI/SWR_catFR1_R1374T_0_ENTPHC_encodingNOIRI_soz_in_hamming.p'"
      ]
     },
     "execution_count": 14,
     "metadata": {},
     "output_type": "execute_result"
    },
    {
     "data": {
      "text/plain": [
       "'/scratch/john/SWRrefactored/patient_info/catFR1/ENCODING/files_not_in_IRI/SWR_catFR1_R1372C_0_ENTPHC_encodingNOIRI_soz_in_hamming.p'"
      ]
     },
     "execution_count": 14,
     "metadata": {},
     "output_type": "execute_result"
    },
    {
     "data": {
      "text/plain": [
       "'/scratch/john/SWRrefactored/patient_info/catFR1/ENCODING/files_not_in_IRI/SWR_catFR1_R1372C_2_ENTPHC_encodingNOIRI_soz_in_hamming.p'"
      ]
     },
     "execution_count": 14,
     "metadata": {},
     "output_type": "execute_result"
    },
    {
     "data": {
      "text/plain": [
       "'/scratch/john/SWRrefactored/patient_info/catFR1/ENCODING/files_not_in_IRI/SWR_catFR1_R1380D_4_ENTPHC_encodingNOIRI_soz_in_hamming.p'"
      ]
     },
     "execution_count": 14,
     "metadata": {},
     "output_type": "execute_result"
    },
    {
     "data": {
      "text/plain": [
       "'/scratch/john/SWRrefactored/patient_info/catFR1/ENCODING/files_not_in_IRI/SWR_catFR1_R1388T_1_ENTPHC_encodingNOIRI_soz_in_hamming.p'"
      ]
     },
     "execution_count": 14,
     "metadata": {},
     "output_type": "execute_result"
    },
    {
     "data": {
      "text/plain": [
       "'/scratch/john/SWRrefactored/patient_info/catFR1/ENCODING/files_not_in_IRI/SWR_catFR1_R1388T_0_ENTPHC_encodingNOIRI_soz_in_hamming.p'"
      ]
     },
     "execution_count": 14,
     "metadata": {},
     "output_type": "execute_result"
    },
    {
     "data": {
      "text/plain": [
       "'/scratch/john/SWRrefactored/patient_info/catFR1/ENCODING/files_not_in_IRI/SWR_catFR1_R1391T_1_ENTPHC_encodingNOIRI_soz_in_hamming.p'"
      ]
     },
     "execution_count": 14,
     "metadata": {},
     "output_type": "execute_result"
    },
    {
     "data": {
      "text/plain": [
       "'/scratch/john/SWRrefactored/patient_info/catFR1/ENCODING/files_not_in_IRI/SWR_catFR1_R1393T_1_ENTPHC_encodingNOIRI_soz_in_hamming.p'"
      ]
     },
     "execution_count": 14,
     "metadata": {},
     "output_type": "execute_result"
    },
    {
     "data": {
      "text/plain": [
       "'/scratch/john/SWRrefactored/patient_info/catFR1/ENCODING/files_not_in_IRI/SWR_catFR1_R1391T_0_ENTPHC_encodingNOIRI_soz_in_hamming.p'"
      ]
     },
     "execution_count": 14,
     "metadata": {},
     "output_type": "execute_result"
    },
    {
     "data": {
      "text/plain": [
       "'/scratch/john/SWRrefactored/patient_info/catFR1/ENCODING/files_not_in_IRI/SWR_catFR1_R1393T_2_ENTPHC_encodingNOIRI_soz_in_hamming.p'"
      ]
     },
     "execution_count": 14,
     "metadata": {},
     "output_type": "execute_result"
    },
    {
     "data": {
      "text/plain": [
       "'/scratch/john/SWRrefactored/patient_info/catFR1/ENCODING/files_not_in_IRI/SWR_catFR1_R1398J_0_ENTPHC_encodingNOIRI_soz_in_hamming.p'"
      ]
     },
     "execution_count": 14,
     "metadata": {},
     "output_type": "execute_result"
    },
    {
     "data": {
      "text/plain": [
       "'/scratch/john/SWRrefactored/patient_info/catFR1/ENCODING/files_not_in_IRI/SWR_catFR1_R1397D_1_ENTPHC_encodingNOIRI_soz_in_hamming.p'"
      ]
     },
     "execution_count": 14,
     "metadata": {},
     "output_type": "execute_result"
    },
    {
     "data": {
      "text/plain": [
       "'/scratch/john/SWRrefactored/patient_info/catFR1/ENCODING/files_not_in_IRI/SWR_catFR1_R1397D_3_ENTPHC_encodingNOIRI_soz_in_hamming.p'"
      ]
     },
     "execution_count": 14,
     "metadata": {},
     "output_type": "execute_result"
    },
    {
     "data": {
      "text/plain": [
       "'/scratch/john/SWRrefactored/patient_info/catFR1/ENCODING/files_not_in_IRI/SWR_catFR1_R1408N_0_ENTPHC_encodingNOIRI_soz_in_hamming.p'"
      ]
     },
     "execution_count": 14,
     "metadata": {},
     "output_type": "execute_result"
    },
    {
     "data": {
      "text/plain": [
       "'/scratch/john/SWRrefactored/patient_info/catFR1/ENCODING/files_not_in_IRI/SWR_catFR1_R1415T_0_ENTPHC_encodingNOIRI_soz_in_hamming.p'"
      ]
     },
     "execution_count": 14,
     "metadata": {},
     "output_type": "execute_result"
    },
    {
     "data": {
      "text/plain": [
       "'/scratch/john/SWRrefactored/patient_info/catFR1/ENCODING/files_not_in_IRI/SWR_catFR1_R1420T_0_ENTPHC_encodingNOIRI_soz_in_hamming.p'"
      ]
     },
     "execution_count": 14,
     "metadata": {},
     "output_type": "execute_result"
    },
    {
     "data": {
      "text/plain": [
       "'/scratch/john/SWRrefactored/patient_info/catFR1/ENCODING/files_not_in_IRI/SWR_catFR1_R1421M_0_ENTPHC_encodingNOIRI_soz_in_hamming.p'"
      ]
     },
     "execution_count": 14,
     "metadata": {},
     "output_type": "execute_result"
    },
    {
     "data": {
      "text/plain": [
       "'/scratch/john/SWRrefactored/patient_info/catFR1/ENCODING/files_not_in_IRI/SWR_catFR1_R1444D_2_ENTPHC_encodingNOIRI_soz_in_hamming.p'"
      ]
     },
     "execution_count": 14,
     "metadata": {},
     "output_type": "execute_result"
    },
    {
     "data": {
      "text/plain": [
       "'/scratch/john/SWRrefactored/patient_info/catFR1/ENCODING/files_not_in_IRI/SWR_catFR1_R1444D_1_ENTPHC_encodingNOIRI_soz_in_hamming.p'"
      ]
     },
     "execution_count": 14,
     "metadata": {},
     "output_type": "execute_result"
    },
    {
     "data": {
      "text/plain": [
       "'/scratch/john/SWRrefactored/patient_info/catFR1/ENCODING/files_not_in_IRI/SWR_catFR1_R1445E_0_ENTPHC_encodingNOIRI_soz_in_hamming.p'"
      ]
     },
     "execution_count": 14,
     "metadata": {},
     "output_type": "execute_result"
    },
    {
     "data": {
      "text/plain": [
       "'/scratch/john/SWRrefactored/patient_info/catFR1/ENCODING/files_not_in_IRI/SWR_catFR1_R1444D_3_ENTPHC_encodingNOIRI_soz_in_hamming.p'"
      ]
     },
     "execution_count": 14,
     "metadata": {},
     "output_type": "execute_result"
    },
    {
     "data": {
      "text/plain": [
       "'/scratch/john/SWRrefactored/patient_info/catFR1/ENCODING/files_not_in_IRI/SWR_catFR1_R1450D_1_ENTPHC_encodingNOIRI_soz_in_hamming.p'"
      ]
     },
     "execution_count": 14,
     "metadata": {},
     "output_type": "execute_result"
    },
    {
     "data": {
      "text/plain": [
       "'/scratch/john/SWRrefactored/patient_info/catFR1/ENCODING/files_not_in_IRI/SWR_catFR1_R1450D_3_ENTPHC_encodingNOIRI_soz_in_hamming.p'"
      ]
     },
     "execution_count": 14,
     "metadata": {},
     "output_type": "execute_result"
    },
    {
     "data": {
      "text/plain": [
       "'/scratch/john/SWRrefactored/patient_info/catFR1/ENCODING/files_not_in_IRI/SWR_catFR1_R1450D_4_ENTPHC_encodingNOIRI_soz_in_hamming.p'"
      ]
     },
     "execution_count": 14,
     "metadata": {},
     "output_type": "execute_result"
    },
    {
     "data": {
      "text/plain": [
       "'/scratch/john/SWRrefactored/patient_info/catFR1/ENCODING/files_not_in_IRI/SWR_catFR1_R1459M_1_ENTPHC_encodingNOIRI_soz_in_hamming.p'"
      ]
     },
     "execution_count": 14,
     "metadata": {},
     "output_type": "execute_result"
    },
    {
     "data": {
      "text/plain": [
       "'/scratch/john/SWRrefactored/patient_info/catFR1/ENCODING/files_not_in_IRI/SWR_catFR1_R1467M_0_ENTPHC_encodingNOIRI_soz_in_hamming.p'"
      ]
     },
     "execution_count": 14,
     "metadata": {},
     "output_type": "execute_result"
    },
    {
     "data": {
      "text/plain": [
       "'/scratch/john/SWRrefactored/patient_info/catFR1/ENCODING/files_not_in_IRI/SWR_catFR1_R1465D_3_ENTPHC_encodingNOIRI_soz_in_hamming.p'"
      ]
     },
     "execution_count": 14,
     "metadata": {},
     "output_type": "execute_result"
    },
    {
     "data": {
      "text/plain": [
       "'/scratch/john/SWRrefactored/patient_info/catFR1/ENCODING/files_not_in_IRI/SWR_catFR1_R1468J_1_ENTPHC_encodingNOIRI_soz_in_hamming.p'"
      ]
     },
     "execution_count": 14,
     "metadata": {},
     "output_type": "execute_result"
    },
    {
     "data": {
      "text/plain": [
       "'/scratch/john/SWRrefactored/patient_info/catFR1/ENCODING/files_not_in_IRI/SWR_catFR1_R1468J_3_ENTPHC_encodingNOIRI_soz_in_hamming.p'"
      ]
     },
     "execution_count": 14,
     "metadata": {},
     "output_type": "execute_result"
    },
    {
     "data": {
      "text/plain": [
       "'/scratch/john/SWRrefactored/patient_info/catFR1/ENCODING/files_not_in_IRI/SWR_catFR1_R1469D_3_ENTPHC_encodingNOIRI_soz_in_hamming.p'"
      ]
     },
     "execution_count": 14,
     "metadata": {},
     "output_type": "execute_result"
    },
    {
     "data": {
      "text/plain": [
       "'/scratch/john/SWRrefactored/patient_info/catFR1/ENCODING/files_not_in_IRI/SWR_catFR1_R1474T_0_ENTPHC_encodingNOIRI_soz_in_hamming.p'"
      ]
     },
     "execution_count": 14,
     "metadata": {},
     "output_type": "execute_result"
    },
    {
     "data": {
      "text/plain": [
       "'/scratch/john/SWRrefactored/patient_info/catFR1/ENCODING/files_not_in_IRI/SWR_catFR1_R1484T_1_ENTPHC_encodingNOIRI_soz_in_hamming.p'"
      ]
     },
     "execution_count": 14,
     "metadata": {},
     "output_type": "execute_result"
    },
    {
     "data": {
      "text/plain": [
       "'/scratch/john/SWRrefactored/patient_info/catFR1/ENCODING/files_not_in_IRI/SWR_catFR1_R1487T_0_ENTPHC_encodingNOIRI_soz_in_hamming.p'"
      ]
     },
     "execution_count": 14,
     "metadata": {},
     "output_type": "execute_result"
    },
    {
     "data": {
      "text/plain": [
       "'/scratch/john/SWRrefactored/patient_info/catFR1/ENCODING/files_not_in_IRI/SWR_catFR1_R1487T_2_ENTPHC_encodingNOIRI_soz_in_hamming.p'"
      ]
     },
     "execution_count": 14,
     "metadata": {},
     "output_type": "execute_result"
    },
    {
     "data": {
      "text/plain": [
       "'/scratch/john/SWRrefactored/patient_info/catFR1/ENCODING/files_not_in_IRI/SWR_catFR1_R1487T_1_ENTPHC_encodingNOIRI_soz_in_hamming.p'"
      ]
     },
     "execution_count": 14,
     "metadata": {},
     "output_type": "execute_result"
    },
    {
     "data": {
      "text/plain": [
       "'/scratch/john/SWRrefactored/patient_info/catFR1/ENCODING/files_not_in_IRI/SWR_catFR1_R1491T_2_ENTPHC_encodingNOIRI_soz_in_hamming.p'"
      ]
     },
     "execution_count": 14,
     "metadata": {},
     "output_type": "execute_result"
    },
    {
     "data": {
      "text/plain": [
       "'/scratch/john/SWRrefactored/patient_info/catFR1/ENCODING/files_not_in_IRI/SWR_catFR1_R1489E_3_ENTPHC_encodingNOIRI_soz_in_hamming.p'"
      ]
     },
     "execution_count": 14,
     "metadata": {},
     "output_type": "execute_result"
    },
    {
     "data": {
      "text/plain": [
       "'/scratch/john/SWRrefactored/patient_info/catFR1/ENCODING/files_not_in_IRI/SWR_catFR1_R1489E_4_ENTPHC_encodingNOIRI_soz_in_hamming.p'"
      ]
     },
     "execution_count": 14,
     "metadata": {},
     "output_type": "execute_result"
    },
    {
     "data": {
      "text/plain": [
       "'/scratch/john/SWRrefactored/patient_info/catFR1/ENCODING/files_not_in_IRI/SWR_catFR1_R1491T_4_ENTPHC_encodingNOIRI_soz_in_hamming.p'"
      ]
     },
     "execution_count": 14,
     "metadata": {},
     "output_type": "execute_result"
    },
    {
     "data": {
      "text/plain": [
       "'/scratch/john/SWRrefactored/patient_info/catFR1/ENCODING/files_not_in_IRI/SWR_catFR1_R1493T_0_ENTPHC_encodingNOIRI_soz_in_hamming.p'"
      ]
     },
     "execution_count": 14,
     "metadata": {},
     "output_type": "execute_result"
    },
    {
     "data": {
      "text/plain": [
       "'/scratch/john/SWRrefactored/patient_info/catFR1/ENCODING/files_not_in_IRI/SWR_catFR1_R1515T_0_ENTPHC_encodingNOIRI_soz_in_hamming.p'"
      ]
     },
     "execution_count": 14,
     "metadata": {},
     "output_type": "execute_result"
    },
    {
     "data": {
      "text/plain": [
       "'/scratch/john/SWRrefactored/patient_info/catFR1/ENCODING/files_not_in_IRI/SWR_catFR1_R1515T_3_ENTPHC_encodingNOIRI_soz_in_hamming.p'"
      ]
     },
     "execution_count": 14,
     "metadata": {},
     "output_type": "execute_result"
    },
    {
     "data": {
      "text/plain": [
       "'/scratch/john/SWRrefactored/patient_info/catFR1/ENCODING/files_not_in_IRI/SWR_catFR1_R1530J_4_ENTPHC_encodingNOIRI_soz_in_hamming.p'"
      ]
     },
     "execution_count": 14,
     "metadata": {},
     "output_type": "execute_result"
    },
    {
     "data": {
      "text/plain": [
       "'/scratch/john/SWRrefactored/patient_info/catFR1/ENCODING/files_not_in_IRI/SWR_catFR1_R1616S_3_ENTPHC_encodingNOIRI_soz_in_hamming.p'"
      ]
     },
     "execution_count": 14,
     "metadata": {},
     "output_type": "execute_result"
    },
    {
     "data": {
      "text/plain": [
       "'/scratch/john/SWRrefactored/patient_info/catFR1/ENCODING/files_not_in_IRI/SWR_catFR1_R1616S_5_ENTPHC_encodingNOIRI_soz_in_hamming.p'"
      ]
     },
     "execution_count": 14,
     "metadata": {},
     "output_type": "execute_result"
    },
    {
     "data": {
      "text/plain": [
       "'/scratch/john/SWRrefactored/patient_info/catFR1/ENCODING/files_not_in_IRI/SWR_catFR1_R1616S_4_ENTPHC_encodingNOIRI_soz_in_hamming.p'"
      ]
     },
     "execution_count": 14,
     "metadata": {},
     "output_type": "execute_result"
    },
    {
     "data": {
      "text/plain": [
       "'/scratch/john/SWRrefactored/patient_info/catFR1/ENCODING/files_not_in_IRI/SWR_catFR1_R1658S_0_ENTPHC_encodingNOIRI_soz_in_hamming.p'"
      ]
     },
     "execution_count": 14,
     "metadata": {},
     "output_type": "execute_result"
    },
    {
     "data": {
      "text/plain": [
       "'/scratch/john/SWRrefactored/patient_info/catFR1/ENCODING/files_not_in_IRI/SWR_catFR1_R1658S_2_ENTPHC_encodingNOIRI_soz_in_hamming.p'"
      ]
     },
     "execution_count": 14,
     "metadata": {},
     "output_type": "execute_result"
    },
    {
     "data": {
      "text/plain": [
       "'/scratch/john/SWRrefactored/patient_info/catFR1/ENCODING/files_not_in_IRI/SWR_catFR1_R1658S_4_ENTPHC_encodingNOIRI_soz_in_hamming.p'"
      ]
     },
     "execution_count": 14,
     "metadata": {},
     "output_type": "execute_result"
    },
    {
     "data": {
      "text/plain": [
       "'/scratch/john/SWRrefactored/patient_info/catFR1/ENCODING/files_not_in_IRI/SWR_catFR1_R1659A_1_ENTPHC_encodingNOIRI_soz_in_hamming.p'"
      ]
     },
     "execution_count": 14,
     "metadata": {},
     "output_type": "execute_result"
    },
    {
     "data": {
      "text/plain": [
       "'/scratch/john/SWRrefactored/patient_info/catFR1/ENCODING/files_not_in_IRI/SWR_catFR1_R1659A_2_ENTPHC_encodingNOIRI_soz_in_hamming.p'"
      ]
     },
     "execution_count": 14,
     "metadata": {},
     "output_type": "execute_result"
    },
    {
     "data": {
      "text/plain": [
       "'/scratch/john/SWRrefactored/patient_info/catFR1/ENCODING/files_not_in_IRI/SWR_catFR1_R1668S_4_ENTPHC_encodingNOIRI_soz_in_hamming.p'"
      ]
     },
     "execution_count": 14,
     "metadata": {},
     "output_type": "execute_result"
    },
    {
     "data": {
      "text/plain": [
       "'/scratch/john/SWRrefactored/patient_info/catFR1/ENCODING/files_not_in_IRI/SWR_catFR1_R1668S_2_ENTPHC_encodingNOIRI_soz_in_hamming.p'"
      ]
     },
     "execution_count": 14,
     "metadata": {},
     "output_type": "execute_result"
    },
    {
     "data": {
      "text/plain": [
       "'/scratch/john/SWRrefactored/patient_info/catFR1/ENCODING/files_not_in_IRI/SWR_catFR1_R1680T_0_ENTPHC_encodingNOIRI_soz_in_hamming.p'"
      ]
     },
     "execution_count": 14,
     "metadata": {},
     "output_type": "execute_result"
    },
    {
     "data": {
      "text/plain": [
       "'/scratch/john/SWRrefactored/patient_info/catFR1/ENCODING/files_not_in_IRI/SWR_catFR1_R1683A_2_ENTPHC_encodingNOIRI_soz_in_hamming.p'"
      ]
     },
     "execution_count": 14,
     "metadata": {},
     "output_type": "execute_result"
    },
    {
     "data": {
      "text/plain": [
       "'/scratch/john/SWRrefactored/patient_info/catFR1/ENCODING/files_not_in_IRI/SWR_catFR1_R1679J_0_ENTPHC_encodingNOIRI_soz_in_hamming.p'"
      ]
     },
     "execution_count": 14,
     "metadata": {},
     "output_type": "execute_result"
    },
    {
     "name": "stdout",
     "output_type": "stream",
     "text": [
      "Moved 81 files to '/scratch/john/SWRrefactored/patient_info/catFR1/ENCODING/files_not_in_IRI'.\n"
     ]
    }
   ],
   "source": [
    "region_to_print_differences = 'ENTPHC'  # Set to 'HPC', 'AMY', or 'ENTPHC'\n",
    "\n",
    "# Define the paths to your folders\n",
    "iri_folder = \"/scratch/john/SWRrefactored/patient_info/catFR1/IRIonly\"\n",
    "encoding_folder = \"/scratch/john/SWRrefactored/patient_info/catFR1/ENCODING\"\n",
    "\n",
    "output_folder = os.path.join(encoding_folder, \"files_not_in_IRI\")\n",
    "\n",
    "# Create the output folder if it doesn't exist\n",
    "os.makedirs(output_folder, exist_ok=True)\n",
    "\n",
    "# Function to extract patient-session-region combo from filenames\n",
    "def extract_patient_session_region(filename, region):\n",
    "    parts = filename.split('_')\n",
    "    if len(parts) >= 5 and parts[4] == region:\n",
    "        patient_session_region = parts[2] + '_' + parts[3] + '_' + parts[4]\n",
    "        return patient_session_region\n",
    "    return None\n",
    "\n",
    "# List all files in both folders\n",
    "iri_files = os.listdir(iri_folder)\n",
    "encoding_files = os.listdir(encoding_folder)\n",
    "\n",
    "# Extract patient-session-region combos from filenames for the specified region\n",
    "iri_combos = {extract_patient_session_region(f, region_to_print_differences) for f in iri_files}\n",
    "iri_combos.discard(None)  # Remove None values\n",
    "\n",
    "encoding_combos = {extract_patient_session_region(f, region_to_print_differences) for f in encoding_files}\n",
    "encoding_combos.discard(None)  # Remove None values\n",
    "\n",
    "# Find combos that are not in the IRIonly folder\n",
    "encoding_only_combos = encoding_combos - iri_combos\n",
    "\n",
    "# Get the list of files that are not in the IRIonly folder\n",
    "encoding_only_files = [f for f in encoding_files if extract_patient_session_region(f, region_to_print_differences) in encoding_only_combos]\n",
    "\n",
    "# Move the files to the new folder\n",
    "for file in encoding_only_files:\n",
    "    src_path = os.path.join(encoding_folder, file)\n",
    "    dst_path = os.path.join(output_folder, file)\n",
    "    shutil.move(src_path, dst_path)\n",
    "\n",
    "print(f\"Moved {len(encoding_only_files)} files to '{output_folder}'.\")\n"
   ]
  },
  {
   "cell_type": "markdown",
   "id": "258cbb91-7817-455e-a89f-5e5296e79460",
   "metadata": {},
   "source": [
    "## same but for the IRIonly folder"
   ]
  },
  {
   "cell_type": "code",
   "execution_count": 24,
   "id": "f1d66633-2aa3-4bd1-84fd-e158223c0338",
   "metadata": {},
   "outputs": [
    {
     "name": "stdout",
     "output_type": "stream",
     "text": [
      "Moved 0 files to '/scratch/john/SWRrefactored/patient_info/catFR1/IRIonly/not_in_ENCODING'.\n"
     ]
    }
   ],
   "source": [
    "region_to_print_differences = 'AMY'  # Set to 'HPC', 'AMY', or 'ENTPHC'\n",
    "\n",
    "# Define the paths to your folders\n",
    "iri_folder = \"/scratch/john/SWRrefactored/patient_info/catFR1/IRIonly\"\n",
    "encoding_folder = \"/scratch/john/SWRrefactored/patient_info/catFR1/ENCODING\"\n",
    "\n",
    "output_folder = os.path.join(iri_folder, \"not_in_ENCODING\")\n",
    "\n",
    "# Create the output folder if it doesn't exist\n",
    "os.makedirs(output_folder, exist_ok=True)\n",
    "\n",
    "# Function to extract patient-session-region combo from filenames\n",
    "def extract_patient_session_region(filename, region):\n",
    "    parts = filename.split('_')\n",
    "    if len(parts) >= 5 and parts[4] == region:\n",
    "        patient_session_region = parts[2] + '_' + parts[3] + '_' + parts[4]\n",
    "        return patient_session_region\n",
    "    return None\n",
    "\n",
    "# List all files in both folders\n",
    "iri_files = os.listdir(iri_folder)\n",
    "encoding_files = os.listdir(encoding_folder)\n",
    "\n",
    "# Extract patient-session-region combos from filenames for the specified region\n",
    "iri_combos = {extract_patient_session_region(f, region_to_print_differences) for f in iri_files}\n",
    "iri_combos.discard(None)  # Remove None values\n",
    "\n",
    "encoding_combos = {extract_patient_session_region(f, region_to_print_differences) for f in encoding_files}\n",
    "encoding_combos.discard(None)  # Remove None values\n",
    "\n",
    "# Find combos that are not in the ENCODING folder\n",
    "iri_only_combos = iri_combos - encoding_combos\n",
    "\n",
    "# Get the list of files that are not in the ENCODING folder\n",
    "iri_only_files = [f for f in iri_files if extract_patient_session_region(f, region_to_print_differences) in iri_only_combos]\n",
    "\n",
    "# Move the files to the new folder\n",
    "for file in iri_only_files:\n",
    "    src_path = os.path.join(iri_folder, file)\n",
    "    dst_path = os.path.join(output_folder, file)\n",
    "    shutil.move(src_path, dst_path)\n",
    "\n",
    "print(f\"Moved {len(iri_only_files)} files to '{output_folder}'.\")"
   ]
  },
  {
   "cell_type": "markdown",
   "id": "c425631a-97e7-4bcc-8859-307f6139cf55",
   "metadata": {},
   "source": [
    "# get the unique sessions and subjects for each region"
   ]
  },
  {
   "cell_type": "code",
   "execution_count": 40,
   "id": "5adea2ad-aa4a-4346-9b8c-b367abc81403",
   "metadata": {},
   "outputs": [
    {
     "name": "stdout",
     "output_type": "stream",
     "text": [
      "Cumulative summary for region 'HPC' in IRIonly folder:\n",
      "  321 sessions from 152 unique subjects\n",
      "\n",
      "Cumulative summary for region 'HPC' in ENCODING folder:\n",
      "  321 sessions from 152 unique subjects\n",
      "\n",
      "Cumulative summary for region 'ENTPHC' in IRIonly folder:\n",
      "  259 sessions from 121 unique subjects\n",
      "\n",
      "Cumulative summary for region 'ENTPHC' in ENCODING folder:\n",
      "  259 sessions from 121 unique subjects\n",
      "\n",
      "Cumulative summary for region 'AMY' in IRIonly folder:\n",
      "  234 sessions from 112 unique subjects\n",
      "\n",
      "Cumulative summary for region 'AMY' in ENCODING folder:\n",
      "  234 sessions from 112 unique subjects\n",
      "\n"
     ]
    }
   ],
   "source": [
    "import os\n",
    "\n",
    "# Define the paths to your folders and regions to compare\n",
    "iri_folder = \"/scratch/john/SWRrefactored/patient_info/catFR1/IRIonly\"\n",
    "encoding_folder = \"/scratch/john/SWRrefactored/patient_info/catFR1/ENCODING\"\n",
    "regions = ['HPC', 'ENTPHC', 'AMY']  # Regions to compare\n",
    "\n",
    "# Function to extract subject and session from filenames\n",
    "def extract_subject_session(filename, region):\n",
    "    parts = filename.split('_')\n",
    "    if len(parts) >= 5 and parts[4] == region:\n",
    "        subject_session = parts[2] + '_' + parts[3]\n",
    "        return subject_session\n",
    "    return None\n",
    "\n",
    "# Function to count unique subjects and sessions\n",
    "def count_subjects_sessions(files, region):\n",
    "    subject_session_set = set()\n",
    "    for file in files:\n",
    "        subject_session = extract_subject_session(file, region)\n",
    "        if subject_session:\n",
    "            subject_session_set.add(subject_session)\n",
    "    \n",
    "    subjects = set()\n",
    "    session_count = 0\n",
    "    for subject_session in subject_session_set:\n",
    "        subject, session = subject_session.split('_')\n",
    "        subjects.add(subject)\n",
    "        session_count += 1\n",
    "    \n",
    "    return len(subjects), session_count\n",
    "\n",
    "# List all files in the IRIonly and ENCODING folders (excluding subfolders)\n",
    "iri_files = [f for f in os.listdir(iri_folder) if os.path.isfile(os.path.join(iri_folder, f))]\n",
    "encoding_files = [f for f in os.listdir(encoding_folder) if os.path.isfile(os.path.join(encoding_folder, f))]\n",
    "\n",
    "# Separate cumulative summary for each region and folder\n",
    "for region in regions:\n",
    "    # IRIonly folder\n",
    "    iri_subjects, iri_sessions = count_subjects_sessions(iri_files, region)\n",
    "    print(f\"Cumulative summary for region '{region}' in IRIonly folder:\")\n",
    "    print(f\"  {iri_sessions} sessions from {iri_subjects} unique subjects\\n\")\n",
    "    \n",
    "    # ENCODING folder\n",
    "    encoding_subjects, encoding_sessions = count_subjects_sessions(encoding_files, region)\n",
    "    print(f\"Cumulative summary for region '{region}' in ENCODING folder:\")\n",
    "    print(f\"  {encoding_sessions} sessions from {encoding_subjects} unique subjects\\n\")\n"
   ]
  },
  {
   "cell_type": "code",
   "execution_count": 35,
   "id": "4dbd640f-62c3-4700-9c21-461512cb7754",
   "metadata": {},
   "outputs": [
    {
     "data": {
      "text/plain": [
       "815"
      ]
     },
     "execution_count": 35,
     "metadata": {},
     "output_type": "execute_result"
    }
   ],
   "source": [
    "len(iri_files)"
   ]
  },
  {
   "cell_type": "code",
   "execution_count": null,
   "id": "d522dcd0-0d3d-40af-ae7a-ed401a49eb23",
   "metadata": {},
   "outputs": [],
   "source": []
  }
 ],
 "metadata": {
  "kernelspec": {
   "display_name": "workshopJ",
   "language": "python",
   "name": "workshopj"
  },
  "language_info": {
   "codemirror_mode": {
    "name": "ipython",
    "version": 3
   },
   "file_extension": ".py",
   "mimetype": "text/x-python",
   "name": "python",
   "nbconvert_exporter": "python",
   "pygments_lexer": "ipython3",
   "version": "3.7.6"
  }
 },
 "nbformat": 4,
 "nbformat_minor": 5
}
