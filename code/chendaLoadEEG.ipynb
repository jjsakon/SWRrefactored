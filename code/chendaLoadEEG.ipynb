{
 "cells": [
  {
   "cell_type": "code",
   "execution_count": 10,
   "id": "fc17f345-6597-4a33-8ed8-1b3b07d4e1c7",
   "metadata": {},
   "outputs": [
    {
     "name": "stdout",
     "output_type": "stream",
     "text": [
      "The autoreload extension is already loaded. To reload it, use:\n",
      "  %reload_ext autoreload\n"
     ]
    }
   ],
   "source": [
    "%load_ext autoreload\n",
    "%autoreload\n",
    "\n",
    "import pandas as pd; pd.set_option('display.max_columns', 30); pd.set_option('display.max_rows', 100)\n",
    "import numpy as np\n",
    "from cmlreaders import CMLReader, get_data_index\n",
    "import ptsa\n",
    "import sys\n",
    "import os\n",
    "import matplotlib.pyplot as plt\n",
    "import matplotlib.gridspec as gridspec\n",
    "import seaborn as sb\n",
    "from pylab import *\n",
    "\n",
    "from copy import copy\n",
    "plt.rcParams['pdf.fonttype'] = 42; plt.rcParams['ps.fonttype'] = 42 # fix fonts for Illustrator\n",
    "sys.path.append('/home1/john/SWRrefactored/code/SWR_modules/')\n",
    "from SWRmodule import *\n",
    "from general import * #superVstack,findInd,findAinB\n",
    "from power_functions import z_score, process_power, load_z_scored_power\n",
    "\n",
    "base = '/home1/john/SWRrefactored'\n",
    "sys.path.append(f'{base}/code/')\n",
    "\n",
    "from load_data_numpy import load_data_np\n",
    "from SWRmodule import triangleSmooth\n",
    "# from comodulogram import remove_session_string, get_filtered_signal\n",
    "# from fooof import FOOOF\n",
    "\n",
    "import statsmodels.formula.api as smf\n",
    "from scipy.signal import decimate, resample, hilbert, welch, spectrogram\n",
    "from mne.time_frequency import tfr_array_morlet"
   ]
  },
  {
   "cell_type": "code",
   "execution_count": 9,
   "id": "5846d65a-6e2d-4517-a199-5519e465efa1",
   "metadata": {},
   "outputs": [],
   "source": [
    "## Params ##\n",
    "\n",
    "# for now the plotting code only works with one region at a time\n",
    "# The four possible regions I've saved the data: ['ENT'] # ['AMY'] ['HPC'] ['ACC_OF']\n",
    "region_name = ['HPC'] \n",
    "\n",
    "# [''] for all subregions\n",
    "# HPC: ['ca1'],['dg'] Note these are at IRI = 2000\n",
    "# FC: ['acgg'],['org'],['mfc'],['gre']. Note these are at IRI = 5000\n",
    "subregion = ['ca1'] \n",
    "\n",
    "task = 'catFR1' # I only provided 'catFR1' data so far\n",
    "savePath = f'{base}/figures/'\n",
    "\n",
    "# [1] for encoding, [0] for recall\n",
    "encoding_mode_arr = [0] # only provided recall dadta\n",
    "\n",
    "# Can ignore these:\n",
    "freq_range_str_arr = [[33.5,75],[80,120]] #,[7,9],[33.5,75],[80,120]] #[[33.5,75],[80,120]] #,[2,4],[7,9]] # [80,178]\n",
    "# these were selecetd to avoid 60 and 120 Hz using np.logspace(np.log10(30),np.log10(75),10)\n",
    "\n",
    "fs = 500 # sampling rate for raw data and ripples from createEventsForDF.py"
   ]
  },
  {
   "cell_type": "markdown",
   "id": "a1fac87f-8ed0-4a5d-a545-32e55efae129",
   "metadata": {},
   "source": [
    "## load data from files...only need to do this once and can select a number of sub-features below"
   ]
  },
  {
   "cell_type": "code",
   "execution_count": 3,
   "id": "105c8ab8-3da0-405c-921b-f9ae99143a46",
   "metadata": {
    "tags": []
   },
   "outputs": [
    {
     "name": "stdout",
     "output_type": "stream",
     "text": [
      "Loading data\n",
      "LOADING DATA FROM: HPC FOR EXPERIMENT catFR1\n",
      "Final number of trials in dict: 65228\n",
      "order: C\n",
      "ripple\n",
      "list_num\n",
      "correct\n",
      "subj\n",
      "sess\n",
      "elec_names\n",
      "elec_labels\n",
      "clust\n",
      "raw\n",
      "Some entries in raw are 1 element short. Padding with zeros...\n",
      "elec_by_elec_correlation\n",
      "serial_pos\n",
      "serialpos_lags\n",
      "recall_pos\n",
      "trial_by_trial_correlation\n",
      "elec_ripple_rate_array\n",
      "clust_int\n"
     ]
    }
   ],
   "source": [
    "# load data from dd_trials\n",
    "# If you've previously loaded with load_anew but think there are new sessions, need to rerun to get updated .npz\n",
    "\n",
    "load_anew = 0 # load power_z anew without saving or loading from previous runs\n",
    "\n",
    "for encoding_mode in encoding_mode_arr:\n",
    "\n",
    "    dd_trials = load_data_np(encoding_mode,task,\n",
    "        region_name=region_name, train_only=False) #, subregion=['']) stop including subregion since I now select it below\n",
    "    region_str = region_name[0]\n",
    "    subregion_str = subregion[0]\n",
    "    \n",
    "    clust = dd_trials['clust_int']\n",
    "    \n",
    "    start_cutoff = 0 # in samples\n",
    "    if encoding_mode == 1: # raw is from -1.7 to 3.3 s from word_on\n",
    "        saveName = 'encoding_'\n",
    "        recall_str = ''\n",
    "        correct = dd_trials['correct']\n",
    "        incorrect_idxs = np.argwhere(correct==0).squeeze()\n",
    "        end_cutoff = 2500 # just take the whole range of data to better estimate Morlet     \n",
    " \n",
    "    elif encoding_mode == 0: # raw is from -3 to 3 s from recall\n",
    "        saveName = 'recall_'\n",
    "        recall_str = '_recall'\n",
    "        if np.shape(dd_trials['raw'])[1] == 3000:\n",
    "            end_cutoff = 3000 # 3000 is with IRI = 2000 (buffer 500 on either side)\n",
    "        elif np.shape(dd_trials['raw'])[1] == 6000:\n",
    "            end_cutoff = 6000 # 6000 is with IRI = 5000 (buffer 500 on either side)\n",
    "        \n",
    "    sr_factor = 1000/fs\n",
    "    \n",
    "#     # Generate power_z\n",
    "    \n",
    "#     print(\"Generating figures for run_mode: \", encoding_mode)\n",
    "#     power_z = None  # Initialize power_z as None\n",
    "#     if load_anew == 1: # if encoding need to save in pieces\n",
    "#         # for recall can load them all together in power_z\n",
    "#         power_z = load_z_scored_power(dd_trials, freq_range_str_arr, encoding_mode,fs,start_cutoff, end_cutoff)\n",
    "#     else:\n",
    "#         for freq in freq_range_str_arr:\n",
    "#             saved_power_z_fn = f'/scratch/john/SWRrefactored/temp_dat/power_z_{task}_{saveName}{region_name[0]}_{subregion[0]}_freq{freq[0]}.npz'\n",
    "            \n",
    "#             if power_z is None:\n",
    "#                 if os.path.exists(saved_power_z_fn):\n",
    "#                     # Loading the file without creating a full copy in memory\n",
    "#                     power_z = np.load(saved_power_z_fn, mmap_mode='r')['power_z']\n",
    "#                 else: # if hasn't been made yet: create power_z anew\n",
    "#                     power_z = load_z_scored_power(dd_trials, [freq], encoding_mode, fs, start_cutoff, end_cutoff)\n",
    "#                     power_z = np.expand_dims(power_z, axis=0)  # Add the first dimension\n",
    "#                     np.savez_compressed(saved_power_z_fn, power_z=power_z)\n",
    "#             else:\n",
    "#                 if os.path.exists(saved_power_z_fn):\n",
    "#                     # Load the next frequency data directly into a new slice of power_z\n",
    "#                     next_slice = np.load(saved_power_z_fn, mmap_mode='r')['power_z']\n",
    "#                 else:\n",
    "#                     next_slice = load_z_scored_power(dd_trials, [freq], encoding_mode, fs, start_cutoff, end_cutoff)\n",
    "#                     next_slice = np.expand_dims(next_slice, axis=0)  # Add the first dimension\n",
    "#                     np.savez_compressed(saved_power_z_fn, power_z=next_slice)\n",
    "#                 # Append next_slice along the first dimension by expanding power_z\n",
    "#                 import gc # import garbage collection\n",
    "#                 power_z = np.concatenate((power_z, next_slice), axis=0)   \n",
    "#                 del next_slice # delete and trigger garbage collection\n",
    "#                 gc.collect()\n",
    "        \n",
    "#     # note that output is 50 Hz (20 ms bins) since started 500 hz and decimated 10x\n",
    "#     if len(subregion[0]) > 0:\n",
    "#         subregion_str = f'_{subregion[0]}'\n",
    "#     else:\n",
    "#         subregion_str = ''           \n",
    "\n",
    "a=1;            "
   ]
  },
  {
   "cell_type": "markdown",
   "id": "336861e3-f405-4775-a9c3-fb2c04ccb211",
   "metadata": {},
   "source": [
    "## Info for region load "
   ]
  },
  {
   "cell_type": "code",
   "execution_count": 7,
   "id": "306ee27f-6e67-4b7d-8287-69622a8cca9b",
   "metadata": {},
   "outputs": [
    {
     "data": {
      "text/plain": [
       "dict_keys(['ripple', 'list_num', 'correct', 'subj', 'sess', 'elec_names', 'elec_labels', 'clust', 'raw', 'elec_by_elec_correlation', 'serial_pos', 'serialpos_lags', 'recall_pos', 'trial_by_trial_correlation', 'elec_ripple_rate_array', 'clust_int'])"
      ]
     },
     "execution_count": 7,
     "metadata": {},
     "output_type": "execute_result"
    },
    {
     "data": {
      "text/plain": [
       "(65228, 2000)"
      ]
     },
     "execution_count": 7,
     "metadata": {},
     "output_type": "execute_result"
    },
    {
     "data": {
      "text/plain": [
       "(65228, 3000)"
      ]
     },
     "execution_count": 7,
     "metadata": {},
     "output_type": "execute_result"
    },
    {
     "data": {
      "text/plain": [
       "array(['left ca1', 'left ca2', 'left ca3', 'left dg', 'left hippocampus',\n",
       "       'left sub', 'right ca1', 'right dg', 'right hippocampus',\n",
       "       'right sub'], dtype='<U17')"
      ]
     },
     "execution_count": 7,
     "metadata": {},
     "output_type": "execute_result"
    },
    {
     "data": {
      "text/plain": [
       "[[33.5, 75], [80, 120]]"
      ]
     },
     "execution_count": 7,
     "metadata": {},
     "output_type": "execute_result"
    },
    {
     "name": "stdout",
     "output_type": "stream",
     "text": [
      "321 sessions from 152 subjects\n"
     ]
    }
   ],
   "source": [
    "# info\n",
    "dd_trials.keys()\n",
    "np.shape(dd_trials['ripple'])\n",
    "np.shape(dd_trials['raw'])\n",
    "np.unique(dd_trials['elec_names'])\n",
    "\n",
    "# np.shape(power_z)\n",
    "freq_range_str_arr\n",
    "\n",
    "print(f'{len(np.unique(dd_trials[\"sess\"]))} sessions from {len(np.unique(dd_trials[\"subj\"]))} subjects')\n",
    "\n"
   ]
  },
  {
   "cell_type": "code",
   "execution_count": 5,
   "id": "fdc051cd-fe6d-4aef-8004-bec018501fd0",
   "metadata": {},
   "outputs": [
    {
     "data": {
      "image/png": "[encoded data removed]",
      "text/plain": [
       "<Figure size 640x480 with 1 Axes>"
      ]
     },
     "metadata": {},
     "output_type": "display_data"
    }
   ],
   "source": [
    "np.shape(dd_trials['ripple'])\n",
    "plt.plot(np.mean(dd_trials['ripple'],0));"
   ]
  },
  {
   "cell_type": "markdown",
   "id": "ffd91999-58c4-4575-974c-ccafbb444600",
   "metadata": {},
   "source": [
    "## choose hemisphere, recall type, and gamma thresh"
   ]
  },
  {
   "cell_type": "code",
   "execution_count": 6,
   "id": "7c8960e2-8765-4f83-9a75-ad842b2c1c6d",
   "metadata": {
    "tags": []
   },
   "outputs": [
    {
     "name": "stdout",
     "output_type": "stream",
     "text": [
      "Number of trials: 22547 from the following subs:\n",
      "start array shape: (11997, 1999)\n",
      "4364 trials have ripples which is 36.38% of total\n",
      "Using regions: ['left ca1' 'right ca1']\n"
     ]
    }
   ],
   "source": [
    "### Additional input params ###\n",
    "\n",
    "# This flag decides which recalls to look at:\n",
    "# 1 means remove 1st recall on every list, \n",
    "# 2 means keep ONLY the first recall on every list\n",
    "# else for all trials\n",
    "remove_first_recalls = 1 \n",
    "\n",
    "# Left of right brain electrodes: 1 for left, 2 for right, other for all\n",
    "left_only = 0 \n",
    "\n",
    "# select a patient?\n",
    "patient_idx = -1 # -1 means all\n",
    "\n",
    "###\n",
    "\n",
    "if patient_idx >-1: \n",
    "    sub_idxs = dd_trials['subj']==unique_subs[patient_idx]\n",
    "else:\n",
    "    sub_idxs = np.ones(len(dd_trials['subj']),dtype=bool)\n",
    "\n",
    "# select left vs. right\n",
    "if left_only == 1:\n",
    "    left_index = ['left' in elec for elec in dd_trials['elec_names']]\n",
    "    sub_idxs = left_index  & sub_idxs\n",
    "elif left_only == 2:\n",
    "    right_index = ['right' in elec for elec in dd_trials['elec_names']]\n",
    "    sub_idxs = right_index  & sub_idxs\n",
    "# import ipdb; ipdb.set_trace()\n",
    "# select subregion\n",
    "if subregion != ['']:\n",
    "    subregion_idxs = np.char.find(dd_trials['elec_names'],subregion[0]) != -1\n",
    "    sub_idxs = sub_idxs & subregion_idxs\n",
    "    \n",
    "print(f'Number of trials: {sum(sub_idxs)} from the following subs:')\n",
    "# np.unique(dd_trials['subj'][sub_idxs])\n",
    "\n",
    "# if FR1 use lags to get the clustered state\n",
    "if task == 'FR1': \n",
    "    # clust is already all 0s...so will make high clust 1, low clust 2, and 0 means intrusions, repeat, etc.\n",
    "    clust[np.where(np.abs(dd_trials['serialpos_lags']) == 1)[0]] = 1\n",
    "    clust[np.where((np.abs(dd_trials['serialpos_lags']) >= 4) & (np.abs(dd_trials['serialpos_lags']) < 12))[0]] = 2\n",
    "\n",
    "# if recalls remove the intrusions (clust == 0)\n",
    "if encoding_mode == 0:    \n",
    "    if remove_first_recalls == 1:\n",
    "        final_sub_idxs = (sub_idxs) & (clust!=0) & (dd_trials['recall_pos']!=1)\n",
    "    elif remove_first_recalls == 2:\n",
    "        final_sub_idxs = (sub_idxs) & (clust!=0) & (dd_trials['recall_pos']==1)        \n",
    "    else:\n",
    "        final_sub_idxs = (sub_idxs) & (clust!=0)\n",
    "else:\n",
    "    final_sub_idxs = sub_idxs\n",
    "\n",
    "# update each variable with indices\n",
    "sub_ripples = dd_trials['ripple'][final_sub_idxs] # ripples are detected from -0.7 to 2.3 s @ 500 Hz\n",
    "# if power_z.ndim == 2:\n",
    "#     power_z = power_z[np.newaxis, :, :]\n",
    "# sub_Zs = power_z[:,final_sub_idxs,:]\n",
    "sub_clust_ID = clust[final_sub_idxs]\n",
    "# np.shape(sub_Zs)\n",
    "\n",
    "z_factor = sr_factor*10 # z_score was decimated 10x\n",
    "if encoding_mode == 1:\n",
    "    ripple_start_offset = -700 # ripple_trials go from -0.7 to 2.3 s (no buffers)\n",
    "    ripple_analysis_start = 300 # time in ms\n",
    "    ripple_analysis_end = 1300 # time in ms\n",
    "    \n",
    "    # average z-score over time for same range as ripples\n",
    "    gamma_time_range = slice(int((1700+ripple_analysis_start)/z_factor),int((1700+ripple_analysis_end)/z_factor)) # +1700 since goes from -1.7 to 3.3 s   \n",
    "    \n",
    "elif encoding_mode == 0:\n",
    "    ripple_start_offset = -(end_cutoff-1000) #-2000 # ripple matrix 2000 ms on either side of recall\n",
    "    ripple_analysis_start = -1900 # time in ms\n",
    "    ripple_analysis_end = -100 # time in ms    \n",
    "\n",
    "    # average z-score over time for same range as ripples\n",
    "    gamma_time_range = slice(int((3000+ripple_analysis_start)/z_factor),int((3000+ripple_analysis_end)/z_factor)) # +3000 since goes from -3 to 3 s\n",
    "# calculate ranges for plots below    \n",
    "ripple_swarm_start = int((-ripple_start_offset+ripple_analysis_start)/sr_factor)\n",
    "ripple_swarm_end = int((-ripple_start_offset+ripple_analysis_end)/sr_factor)\n",
    "ripple_swarm_duration = (ripple_analysis_end-ripple_analysis_start)/1000  # convert to seconds\n",
    "    \n",
    "# get idxs for trial selection in plots below\n",
    "if task == 'catFR1':\n",
    "    clust_clustered = sub_clust_ID > 1\n",
    "    clust_unclustered = sub_clust_ID < 0\n",
    "    clust_not_recalled = sub_clust_ID == 0\n",
    "elif task == 'FR1':\n",
    "    clust_clustered = sub_clust_ID == 1 # lag = 1\n",
    "    clust_unclustered = sub_clust_ID == 2 # lag ≥ 4\n",
    "    clust_not_recalled = sub_clust_ID == 0 # lag = other\n",
    "    \n",
    "# get start_array for all ripples!\n",
    "start_array,_ = getStartEndArrays(sub_ripples)\n",
    "# first bin has artificially high number due to how start_srray works\n",
    "start_array = start_array[:,1:] \n",
    "print(f'start array shape: {np.shape(start_array)}')\n",
    "    \n",
    "# # check power > thresh in gamma time range\n",
    "# z_low_gamma_trials = np.mean(sub_Zs[0,:,gamma_time_range],1)>=gamma_sd_thresh\n",
    "# if np.shape(sub_Zs)[0]>1:\n",
    "#     z_high_gamma_trials = np.mean(sub_Zs[1,:,gamma_time_range],1)>=gamma_sd_thresh \n",
    "\n",
    "# keep every trial just so the plotting below works\n",
    "z_low_gamma_trials = np.ones(sum(final_sub_idxs), dtype=bool)\n",
    "    \n",
    "ripple_trials = np.sum(sub_ripples[:,int((-ripple_start_offset+ripple_analysis_start)/sr_factor):\n",
    "                                   int((-ripple_start_offset+ripple_analysis_end)/sr_factor)],1)>0\n",
    "print(f'{sum(ripple_trials)} trials have ripples which is {np.round(100*sum(ripple_trials)/sum(final_sub_idxs),2)}% of total')\n",
    "\n",
    "# create df for Cohen's D calcs and models below\n",
    "ripple_data = start_array[:, ripple_swarm_start:ripple_swarm_end].sum(axis=1)\n",
    "\n",
    "# Create a DataFrame with the data\n",
    "df = pd.DataFrame({\n",
    "    'ripple_rate': ripple_data,\n",
    "    'clust_clustered': (sub_clust_ID > 1).astype(int),\n",
    "    'clust_unclustered': (sub_clust_ID < 0).astype(int),\n",
    "    'clust_not_recalled': (sub_clust_ID == 0).astype(int),\n",
    "    'session': dd_trials['sess'][final_sub_idxs],\n",
    "    'subject': dd_trials['subj'][final_sub_idxs],\n",
    "    'elec_labels': dd_trials['elec_labels'][final_sub_idxs],\n",
    "    'subregions': dd_trials['elec_names'][final_sub_idxs],\n",
    "    'low_gamma': z_low_gamma_trials # sub_Zs already indexed    \n",
    "})\n",
    "print(f'Using regions: {np.unique(df.subregions)}')"
   ]
  },
  {
   "cell_type": "markdown",
   "id": "34daacd0-3534-4967-b72d-e10603cfe897",
   "metadata": {},
   "source": [
    "## some checks:"
   ]
  },
  {
   "cell_type": "code",
   "execution_count": 7,
   "id": "fc7943b0-39ee-4d86-bcd5-a0741df700c6",
   "metadata": {},
   "outputs": [
    {
     "name": "stdout",
     "output_type": "stream",
     "text": [
      "558 elecs\n",
      "from 188 sessions\n",
      "from 98 patients\n"
     ]
    },
    {
     "data": {
      "text/plain": [
       "11997"
      ]
     },
     "execution_count": 7,
     "metadata": {},
     "output_type": "execute_result"
    },
    {
     "data": {
      "text/plain": [
       "11997"
      ]
     },
     "execution_count": 7,
     "metadata": {},
     "output_type": "execute_result"
    },
    {
     "data": {
      "text/plain": [
       "11997"
      ]
     },
     "execution_count": 7,
     "metadata": {},
     "output_type": "execute_result"
    },
    {
     "data": {
      "text/plain": [
       "11997"
      ]
     },
     "execution_count": 7,
     "metadata": {},
     "output_type": "execute_result"
    }
   ],
   "source": [
    "print(f\"{len(np.unique(dd_trials['elec_labels'][sub_idxs]))} elecs\")\n",
    "print(f\"from {len(np.unique(dd_trials['sess'][sub_idxs]))} sessions\")\n",
    "print(f\"from {len(np.unique(dd_trials['subj'][sub_idxs]))} patients\")\n",
    "\n",
    "if region_name == ['ENT']:\n",
    "    ENT_sess = np.unique(dd_trials['sess'][sub_idxs])\n",
    "    ENT_sub = np.unique(dd_trials['subj'][sub_idxs])\n",
    "elif region_name == ['HPC']:\n",
    "    HPC_sess = np.unique(dd_trials['sess'][sub_idxs])\n",
    "    HPC_sub = np.unique(dd_trials['subj'][sub_idxs])\n",
    "elif region_name == ['AMY']:\n",
    "    AMY_sess = np.unique(dd_trials['sess'][sub_idxs])\n",
    "    AMY_sub = np.unique(dd_trials['subj'][sub_idxs])\n",
    "    \n",
    "save_sub_sess_info = 0\n",
    "\n",
    "if save_sub_sess_info == 1:\n",
    "    import pickle\n",
    "    with open('../misc/region_data.pkl', 'wb') as f:\n",
    "        pickle.dump({\n",
    "            'ENT_sess': ENT_sess,\n",
    "            'ENT_sub': ENT_sub,\n",
    "            'HPC_sess': HPC_sess,\n",
    "            'HPC_sub': HPC_sub,\n",
    "            'AMY_sess': AMY_sess,\n",
    "            'AMY_sub': AMY_sub\n",
    "        }, f)   \n",
    "        \n",
    "# dd_trials['elec_labels']\n",
    "len(dd_trials['elec_labels'][final_sub_idxs])\n",
    "len(dd_trials['subj'][final_sub_idxs])\n",
    "len(dd_trials['sess'][final_sub_idxs])\n",
    "# np.shape(sub_Zs)\n",
    "len(sub_clust_ID)        "
   ]
  },
  {
   "cell_type": "markdown",
   "id": "6b8b3f33-dc02-4cd3-9c82-cd220456ddca",
   "metadata": {},
   "source": [
    "# Plot ripples"
   ]
  },
  {
   "cell_type": "code",
   "execution_count": 8,
   "id": "fffa8710-c991-4791-917d-ff195d4de2e4",
   "metadata": {},
   "outputs": [],
   "source": [
    "# Just leave this as 1 so the plotting code below will work:\n",
    "remove_low_freq = 1 "
   ]
  },
  {
   "cell_type": "code",
   "execution_count": 10,
   "id": "d5e8de0a-f33e-40dd-a9fb-7c77eb485820",
   "metadata": {},
   "outputs": [
    {
     "name": "stderr",
     "output_type": "stream",
     "text": [
      "/tmp/ipykernel_140051/2913480820.py:73: UserWarning: FixedFormatter should only be used together with FixedLocator\n",
      "  ax_bar.set_xticklabels(['Clustered', 'Unclustered', 'Not Recalled'], rotation=0, ha=\"center\")\n",
      "/home1/john/SWRrefactored/code/SWR_modules/SWRmodule.py:1411: RuntimeWarning: invalid value encountered in divide\n",
      "  norm_count = count[0]/np.array((num_trials*binsize/1000))\n"
     ]
    },
    {
     "data": {
      "image/png": "[encoded data removed]",
      "text/plain": [
       "<Figure size 250x500 with 2 Axes>"
      ]
     },
     "metadata": {},
     "output_type": "display_data"
    },
    {
     "name": "stdout",
     "output_type": "stream",
     "text": [
      "Rate ratio: 1.1921383461002324\n",
      "Cohen's D by subject: 0.17407263281803645\n"
     ]
    }
   ],
   "source": [
    "import matplotlib.gridspec as gridspec\n",
    "\n",
    "# Function parameters\n",
    "bin_size = 100  # in ms\n",
    "smoothing_triangle = 5  # triangular smoothing window width\n",
    "\n",
    "bar_ylimits = (0, 0.55)\n",
    "\n",
    "if remove_low_freq == 1:\n",
    "    trial_select = z_low_gamma_trials\n",
    "    freq_range = freq_range_str_arr[0]\n",
    "elif remove_low_freq == 2:\n",
    "    trial_select = z_high_gamma_trials\n",
    "    freq_range = freq_range_str_arr[1]\n",
    "else:\n",
    "    print('Invalid remove_low_freq selection')\n",
    "    error    \n",
    "if 29 < freq_range[0] < 35:\n",
    "    freq_label = 'low gamma'\n",
    "elif 65 < freq_range[0] < 90:\n",
    "    freq_label = 'high gamma' \n",
    "elif 1 < freq_range[0] < 3:\n",
    "    freq_label = 'theta'\n",
    "elif 6 < freq_range[0] < 8:\n",
    "    freq_label = 'theta'\n",
    "\n",
    "# Calculate ripple means and standard errors for each condition\n",
    "mean_ripple_clustered = np.sum(start_array[trial_select & clust_clustered, ripple_swarm_start:ripple_swarm_end], axis=1) / ripple_swarm_duration\n",
    "mean_ripple_unclustered = np.sum(start_array[trial_select & clust_unclustered, ripple_swarm_start:ripple_swarm_end], axis=1) / ripple_swarm_duration\n",
    "mean_ripple_not_recalled = np.sum(start_array[trial_select & clust_not_recalled, ripple_swarm_start:ripple_swarm_end], axis=1) / ripple_swarm_duration\n",
    "\n",
    "if encoding_mode == 1:\n",
    "    means = [np.mean(mean_ripple_clustered), np.mean(mean_ripple_unclustered), np.mean(mean_ripple_not_recalled)]\n",
    "    ses = [np.std(mean_ripple_clustered) / np.sqrt(len(mean_ripple_clustered)),\n",
    "           np.std(mean_ripple_unclustered) / np.sqrt(len(mean_ripple_unclustered)),\n",
    "           np.std(mean_ripple_not_recalled) / np.sqrt(len(mean_ripple_not_recalled))]\n",
    "    fig = plt.figure(figsize=(3.2, 5))\n",
    "elif encoding_mode == 0:\n",
    "    means = [np.mean(mean_ripple_clustered), np.mean(mean_ripple_unclustered)]\n",
    "    ses = [np.std(mean_ripple_clustered) / np.sqrt(len(mean_ripple_clustered)),\n",
    "           np.std(mean_ripple_unclustered) / np.sqrt(len(mean_ripple_unclustered))]    \n",
    "    fig = plt.figure(figsize=(2.5, 5))\n",
    "\n",
    "# Define the palette for colors\n",
    "palette = {\n",
    "    'Clustered': 'blue',\n",
    "    'Unclustered': 'orange',\n",
    "    'Not Recalled': 'green'\n",
    "}\n",
    "\n",
    "# Set up the figure with GridSpec\n",
    "gs = gridspec.GridSpec(2, 3, height_ratios=[2, 2], width_ratios=[3, 3, 3])\n",
    "\n",
    "# Create the bar plot with error bars (span all columns)\n",
    "ax_bar = fig.add_subplot(gs[0, :])\n",
    "if encoding_mode == 1:\n",
    "    xlabels = ['Clustered', 'Unclustered', 'Not Recalled']\n",
    "    xcolors = [palette['Clustered'], palette['Unclustered'], palette['Not Recalled']]\n",
    "elif encoding_mode == 0:\n",
    "    xlabels = ['Clustered', 'Unclustered']\n",
    "    xcolors = [palette['Clustered'], palette['Unclustered']]\n",
    "bars = ax_bar.bar(x=xlabels, \n",
    "                  height=means, \n",
    "                  color=xcolors, \n",
    "                  yerr=ses, \n",
    "                  width=0.5,  # Adjust width to make bars tighter\n",
    "                  capsize=5, \n",
    "                  error_kw=dict(ecolor='black', elinewidth=2))\n",
    "\n",
    "ax_bar.set_ylabel('Ripple rate by trial (Hz)')\n",
    "ax_bar.set_xlabel('')\n",
    "ax_bar.set_ylim(bar_ylimits)\n",
    "ax_bar.set_xticklabels(['Clustered', 'Unclustered', 'Not Recalled'], rotation=0, ha=\"center\")\n",
    "ax_bar.spines['right'].set_visible(False)\n",
    "ax_bar.spines['top'].set_visible(False)\n",
    "# ax_bar.set_title(f'(–) {freq_label} trials')\n",
    "\n",
    "# Add the number of trials above each bar\n",
    "n_trials = [np.sum(trial_select & clust_clustered), \n",
    "            np.sum(trial_select & clust_unclustered), \n",
    "            np.sum(trial_select & clust_not_recalled)]\n",
    "for bar, n in zip(bars, n_trials):\n",
    "    ax_bar.text(bar.get_x() + bar.get_width() / 2, bar.get_height() + 0.01, f'n={n}', ha='center', va='bottom')\n",
    "\n",
    "# Calculate PSTH for each group\n",
    "ripple_PSTH_clustered, bin_centers = fullPSTH(start_array[trial_select & clust_clustered], bin_size, smoothing_triangle, fs, ripple_start_offset)\n",
    "ripple_PSTH_unclustered, _ = fullPSTH(start_array[trial_select & clust_unclustered], bin_size, smoothing_triangle, fs, ripple_start_offset)\n",
    "ripple_PSTH_not_recalled, _ = fullPSTH(start_array[trial_select & clust_not_recalled], bin_size, smoothing_triangle, fs, ripple_start_offset)\n",
    "\n",
    "# Bin the start_array to match the PSTH\n",
    "n_bins = len(bin_centers)\n",
    "binned_start_array_clustered = np.array_split(start_array[trial_select & clust_clustered], n_bins, axis=1)\n",
    "\n",
    "# Calculate the mean and SE for each bin\n",
    "se_clustered = [np.std(bin_data*fs, axis=1) / np.sqrt(bin_data.shape[0]) for bin_data in binned_start_array_clustered]\n",
    "se_clustered = np.mean(se_clustered, axis=1)\n",
    "\n",
    "binned_start_array_unclustered = np.array_split(start_array[trial_select & clust_unclustered], n_bins, axis=1)\n",
    "se_unclustered = [np.std(bin_data*fs, axis=1) / np.sqrt(bin_data.shape[0]) for bin_data in binned_start_array_unclustered]\n",
    "se_unclustered = np.mean(se_unclustered, axis=1)\n",
    "\n",
    "if encoding_mode == 1:\n",
    "    binned_start_array_not_recalled = np.array_split(start_array[trial_select & clust_not_recalled], n_bins, axis=1)\n",
    "    se_not_recalled = [np.std(bin_data*fs, axis=1) / np.sqrt(bin_data.shape[0]) for bin_data in binned_start_array_not_recalled]\n",
    "    se_not_recalled = np.mean(se_not_recalled, axis=1)\n",
    "\n",
    "# Plot the PSTH for each group with error bars\n",
    "ax_psth = fig.add_subplot(gs[1, :])\n",
    "ax_psth.errorbar(bin_centers / 1000-0.01, ripple_PSTH_clustered, yerr=se_clustered, label='Clustered', color=palette['Clustered'], capsize=0)\n",
    "ax_psth.errorbar(bin_centers / 1000, ripple_PSTH_unclustered, yerr=se_unclustered, label='Unclustered', color=palette['Unclustered'], capsize=0)\n",
    "if encoding_mode == 1:\n",
    "    ax_psth.errorbar(bin_centers / 1000+0.01, ripple_PSTH_not_recalled, yerr=se_not_recalled, label='Not Recalled', color=palette['Not Recalled'], capsize=0)\n",
    "    ax_psth.axvline(x=0.0, color='black', linestyle='--')\n",
    "    ax_psth.axvline(x=1.6, color='black', linestyle='--')\n",
    "    ax_psth.set_xlim(-0.28, 2.08)\n",
    "elif encoding_mode == 0:\n",
    "    ax_psth.set_xlim(-(end_cutoff-1000)/1000, (end_cutoff-1000)/1000)\n",
    "ax_psth.set_xlabel('Time (s)')\n",
    "ax_psth.set_ylim(0, bar_ylimits[1])\n",
    "ax_psth.set_ylabel('Ripple rate (Hz)')\n",
    "ax_psth.spines['right'].set_visible(False)\n",
    "ax_psth.spines['top'].set_visible(False)\n",
    "\n",
    "# Add legend to the bottom plot\n",
    "ax_psth.legend(bbox_to_anchor=(0.8,0.3), frameon=False)\n",
    "\n",
    "# plt.tight_layout()\n",
    "plt.show()\n",
    "print(f'Rate ratio: {(np.mean(mean_ripple_clustered)/np.mean(mean_ripple_unclustered))}')\n",
    "average_ripple_rate_by_subject = df.groupby('subject')['ripple_rate'].mean().values\n",
    "average_ripple_rate_by_subject = average_ripple_rate_by_subject[average_ripple_rate_by_subject>=0.1] # to properly estimate std\n",
    "print(f\"Cohen's D by subject: {(np.mean(mean_ripple_clustered)-np.mean(mean_ripple_unclustered))/np.std(average_ripple_rate_by_subject)}\")\n",
    "# mean_ripple_clustered[mean_ripple_clustered>1]=1\n",
    "# mean_ripple_unclustered[mean_ripple_unclustered>1]=1\n",
    "# mean_ripple_not_recalled[mean_ripple_not_recalled>1]=1\n",
    "# print(f'Odds ratio of binarized: {(sum(mean_ripple_clustered)*sum(mean_ripple_unclustered==0))/(sum(mean_ripple_unclustered)*sum(mean_ripple_clustered==0))}')\n",
    "\n",
    "a=1;"
   ]
  },
  {
   "cell_type": "code",
   "execution_count": null,
   "id": "1021a482-6d9b-40b8-ab7d-2b6fb765bfdc",
   "metadata": {},
   "outputs": [],
   "source": []
  },
  {
   "cell_type": "code",
   "execution_count": null,
   "id": "436d09ed-71d0-4957-b5f7-6150d3e4f6f7",
   "metadata": {},
   "outputs": [],
   "source": []
  },
  {
   "cell_type": "code",
   "execution_count": null,
   "id": "2d847b14-b4a4-47f6-8155-0b845f516240",
   "metadata": {},
   "outputs": [],
   "source": []
  },
  {
   "cell_type": "markdown",
   "id": "3d1cfb43-56ba-416a-a1d8-495583a362f4",
   "metadata": {},
   "source": [
    "# Can ignore this stuff"
   ]
  },
  {
   "cell_type": "code",
   "execution_count": 122,
   "id": "f1f31b99-b050-4760-9327-ee4cad3d6c4f",
   "metadata": {},
   "outputs": [
    {
     "name": "stdout",
     "output_type": "stream",
     "text": [
      "           Mixed Linear Model Regression Results\n",
      "============================================================\n",
      "Model:              MixedLM Dependent Variable: ripple_rate \n",
      "No. Observations:   117768  Method:             REML        \n",
      "No. Groups:         99      Scale:              0.3402      \n",
      "Min. group size:    84      Log-Likelihood:     -103954.7535\n",
      "Max. group size:    10800   Converged:          Yes         \n",
      "Mean group size:    1189.6                                  \n",
      "------------------------------------------------------------\n",
      "                  Coef.  Std.Err.   z    P>|z| [0.025 0.975]\n",
      "------------------------------------------------------------\n",
      "Intercept          0.278    0.011 25.161 0.000  0.256  0.299\n",
      "clust_clustered    0.017    0.005  3.573 0.000  0.008  0.027\n",
      "clust_unclustered -0.009    0.005 -1.819 0.069 -0.019  0.001\n",
      "session Var        0.022    0.004                           \n",
      "============================================================\n",
      "\n"
     ]
    }
   ],
   "source": [
    "import statsmodels.api as sm\n",
    "from statsmodels.formula.api import mixedlm\n",
    "\n",
    "if remove_low_freq == 2:\n",
    "    df['high_gamma'] = z_high_gamma_trials\n",
    "\n",
    "# Define the model formula\n",
    "# 'ripple_rate ~ clust_clustered + clust_unclustered + clust_not_recalled' specifies the fixed effects\n",
    "# '(1 | subject/session)' specifies the random effects, with session nested within subject\n",
    "if encoding_mode == 1:\n",
    "    formula = \"ripple_rate ~ clust_clustered + clust_unclustered\"\n",
    "elif encoding_mode == 0:\n",
    "    formula = \"ripple_rate ~ clust_clustered\" # since not recalled doesn't exist\n",
    "model = mixedlm(\n",
    "    formula=formula,data=df, groups=df[\"subject\"], vc_formula={\"session\": \"0 + session\"})\n",
    "\n",
    "print(model.fit().summary())"
   ]
  },
  {
   "cell_type": "code",
   "execution_count": 123,
   "id": "b575e2f8-aedc-408b-868a-59d37214aff4",
   "metadata": {},
   "outputs": [
    {
     "name": "stdout",
     "output_type": "stream",
     "text": [
      "                     Mixed Linear Model Regression Results\n",
      "===============================================================================\n",
      "Model:                   MixedLM        Dependent Variable:        ripple_rate \n",
      "No. Observations:        117768         Method:                    REML        \n",
      "No. Groups:              99             Scale:                     0.3388      \n",
      "Min. group size:         84             Log-Likelihood:            -103715.5990\n",
      "Max. group size:         10800          Converged:                 Yes         \n",
      "Mean group size:         1189.6                                                \n",
      "-------------------------------------------------------------------------------\n",
      "                                     Coef.  Std.Err.   z    P>|z| [0.025 0.975]\n",
      "-------------------------------------------------------------------------------\n",
      "Intercept                             0.262    0.011 23.864 0.000  0.241  0.284\n",
      "high_gamma[T.True]                    0.131    0.006 20.238 0.000  0.118  0.143\n",
      "clust_clustered                       0.023    0.005  4.648 0.000  0.014  0.033\n",
      "high_gamma[T.True]:clust_clustered   -0.042    0.015 -2.846 0.004 -0.070 -0.013\n",
      "clust_unclustered                    -0.004    0.005 -0.729 0.466 -0.014  0.007\n",
      "high_gamma[T.True]:clust_unclustered -0.028    0.016 -1.712 0.087 -0.059  0.004\n",
      "session Var                           0.022    0.004                           \n",
      "===============================================================================\n",
      "\n"
     ]
    }
   ],
   "source": [
    "if encoding_mode == 1:\n",
    "    if remove_low_freq == 1:\n",
    "        formula = \"ripple_rate ~ low_gamma*(clust_clustered + clust_unclustered)\"\n",
    "        formula_main = \"ripple_rate ~ low_gamma+(clust_clustered + clust_unclustered)\"\n",
    "    elif remove_low_freq == 2:\n",
    "        formula = \"ripple_rate ~ high_gamma*(clust_clustered + clust_unclustered)\"\n",
    "elif encoding_mode == 0:\n",
    "    if remove_low_freq == 1:\n",
    "        formula = \"ripple_rate ~ low_gamma*clust_clustered\" # since not recalled doesn't exist\n",
    "    elif remove_low_freq == 2:\n",
    "        formula = \"ripple_rate ~ high_gamma*clust_clustered\" # since not recalled doesn't exist\n",
    "interaction_model = mixedlm(\n",
    "    formula=formula,data=df, groups=df[\"subject\"], vc_formula={\"session\": \"0 + session\"}).fit()\n",
    "main_model = mixedlm(\n",
    "    formula=formula_main,data=df, groups=df[\"subject\"], vc_formula={\"session\": \"0 + session\"}).fit()\n",
    "\n",
    "print(interaction_model.summary())"
   ]
  },
  {
   "cell_type": "code",
   "execution_count": 125,
   "id": "86d7f76b-e6be-4850-b12f-10ce41f8d380",
   "metadata": {},
   "outputs": [
    {
     "name": "stdout",
     "output_type": "stream",
     "text": [
      "Cohen's d: 0.029272427364992172\n"
     ]
    }
   ],
   "source": [
    "# calculate Cohen's D for interaction\n",
    "cohens_d_value = calculate_cohens_d_interaction(df,'ripple_rate',['high_gamma','clust_clustered'])\n",
    "print(\"Cohen's d:\", cohens_d_value)"
   ]
  },
  {
   "cell_type": "code",
   "execution_count": null,
   "id": "fdd48a1d-91ea-4881-9c79-d040d8f2cb44",
   "metadata": {},
   "outputs": [],
   "source": []
  },
  {
   "cell_type": "code",
   "execution_count": null,
   "id": "a1425ad0-5d4f-484b-968c-8d65fa26dd9f",
   "metadata": {},
   "outputs": [],
   "source": []
  },
  {
   "cell_type": "markdown",
   "id": "4356e1cf-48c3-44ae-9f29-bcc650f5dcd9",
   "metadata": {},
   "source": [
    "## fit ripple array with Poissonian"
   ]
  },
  {
   "cell_type": "code",
   "execution_count": 20,
   "id": "cb3ccd37-f8da-4d17-8677-d9144aad35d1",
   "metadata": {},
   "outputs": [],
   "source": [
    "remove_low_freq = 1 # 1 for low gamma/theta; 2 for high gamma/theta"
   ]
  },
  {
   "cell_type": "code",
   "execution_count": 23,
   "id": "9bdb39c1-2633-4f75-a9f3-914dafaaf7a5",
   "metadata": {},
   "outputs": [
    {
     "data": {
      "image/png": "[encoded data removed]",
      "text/plain": [
       "<Figure size 324x216 with 1 Axes>"
      ]
     },
     "metadata": {
      "needs_background": "light"
     },
     "output_type": "display_data"
    }
   ],
   "source": [
    "save_plot = 0\n",
    "\n",
    "# Configuration parameters\n",
    "bin_size = 100  # in ms\n",
    "smoothing_triangle = 5  # triangular smoothing window width\n",
    "font_size = 13  # Settable font size\n",
    "bar_ylimits = (0, 0.32)\n",
    "\n",
    "if remove_low_freq == 1:\n",
    "    trial_select = ~z_low_gamma_trials\n",
    "elif remove_low_freq == 2:\n",
    "    trial_select = z_low_gamma_trials\n",
    "else:\n",
    "    print('Invalid remove_low_freq selection')\n",
    "    error    \n",
    "\n",
    "ripple_swarm_start = int((-ripple_start_offset+ripple_analysis_start)/sr_factor)\n",
    "ripple_swarm_end = int((-ripple_start_offset+ripple_analysis_end)/sr_factor)\n",
    "ripple_swarm_duration = (ripple_analysis_end-ripple_analysis_start)/1000  # convert to seconds\n",
    "\n",
    "# Apply the clust variable to split data into clustered, unclustered, and not recalled\n",
    "clust_clustered = sub_clust_ID > 1\n",
    "clust_unclustered = sub_clust_ID < 0\n",
    "clust_not_recalled = sub_clust_ID == 0\n",
    "\n",
    "# # Calculate ripple means for each condition\n",
    "# mean_ripple_clustered = np.sum(start_array[trial_select & clust_clustered, ripple_swarm_start:ripple_swarm_end], axis=1) / ripple_swarm_duration\n",
    "# mean_ripple_unclustered = np.sum(start_array[trial_select & clust_unclustered, ripple_swarm_start:ripple_swarm_end], axis=1) / ripple_swarm_duration\n",
    "\n",
    "# Calculate PSTH for each group\n",
    "ripple_PSTH_clustered, bin_centers = fullPSTH(start_array[trial_select & clust_clustered], bin_size, smoothing_triangle, fs, ripple_start_offset)\n",
    "ripple_PSTH_unclustered, _ = fullPSTH(start_array[trial_select & clust_unclustered], bin_size, smoothing_triangle, fs, ripple_start_offset)\n",
    "ripple_PSTH_not_recalled, _ = fullPSTH(start_array[trial_select & clust_not_recalled], bin_size, smoothing_triangle, fs, ripple_start_offset)\n",
    "\n",
    "# Bin the start_array to match the PSTH and calculate the mean and SE for each bin\n",
    "n_bins = len(bin_centers)\n",
    "binned_start_array_clustered = np.array_split(start_array[trial_select & clust_clustered], n_bins, axis=1)\n",
    "se_clustered = [np.std(bin_data*fs, axis=1) / np.sqrt(bin_data.shape[0]) for bin_data in binned_start_array_clustered]\n",
    "se_clustered = np.mean(se_clustered, axis=1)\n",
    "\n",
    "binned_start_array_unclustered = np.array_split(start_array[trial_select & clust_unclustered], n_bins, axis=1)\n",
    "se_unclustered = [np.std(bin_data*fs, axis=1) / np.sqrt(bin_data.shape[0]) for bin_data in binned_start_array_unclustered]\n",
    "se_unclustered = np.mean(se_unclustered, axis=1)\n",
    "\n",
    "if encoding_mode == 1:\n",
    "    binned_start_array_not_recalled = np.array_split(start_array[trial_select & clust_not_recalled], n_bins, axis=1)\n",
    "    se_not_recalled = [np.std(bin_data*fs, axis=1) / np.sqrt(bin_data.shape[0]) for bin_data in binned_start_array_not_recalled]\n",
    "    se_not_recalled = np.mean(se_not_recalled, axis=1)\n",
    "\n",
    "# Set up the figure with GridSpec\n",
    "fig = plt.figure(figsize=(4.5, 3))\n",
    "gs = gridspec.GridSpec(1, 1)\n",
    "ax_psth = fig.add_subplot(gs[0, 0])\n",
    "\n",
    "# Define the custom colors\n",
    "if region_name[0] == 'HPC':\n",
    "    high_clustered_color = (0.0, 0.0, 1.0) # blue\n",
    "elif region_name[0] == 'ENT':\n",
    "    high_clustered_color = (0.7, 0.5, 1.0) # Light purple\n",
    "low_clustering_color = (1.0, 0.5, 0) # orange\n",
    "nr_clustering_color = (0, 0.5, 0) # green\n",
    "\n",
    "# Plot the PSTH for each group\n",
    "ax_psth.plot(bin_centers / 1000, ripple_PSTH_clustered, label=f'Clustered, N={sum(trial_select&clust_clustered)}', color=high_clustered_color)\n",
    "ax_psth.plot(bin_centers / 1000, ripple_PSTH_unclustered, label=f'Unclustered, N={sum(trial_select&clust_unclustered)}', color=low_clustering_color)\n",
    "\n",
    "# Add constant error bands using fill_between\n",
    "ax_psth.fill_between(bin_centers / 1000, ripple_PSTH_clustered - se_clustered, ripple_PSTH_clustered + se_clustered,\n",
    "                     color=high_clustered_color, alpha=0.3, label='_nolegend_')\n",
    "ax_psth.fill_between(bin_centers / 1000, ripple_PSTH_unclustered - se_unclustered, ripple_PSTH_unclustered + se_unclustered,\n",
    "                     color=low_clustering_color, alpha=0.3, label='_nolegend_')\n",
    "\n",
    "if encoding_mode == 1:\n",
    "    ax_psth.plot(bin_centers / 1000, ripple_PSTH_not_recalled, label=f'Not recalled, N={sum(trial_select&clust_not_recalled)}', color=nr_clustering_color)    \n",
    "    ax_psth.fill_between(bin_centers / 1000, ripple_PSTH_not_recalled - se_not_recalled, ripple_PSTH_not_recalled + se_not_recalled,\n",
    "                     color=nr_clustering_color, alpha=0.3, label='_nolegend_')\n",
    "\n",
    "# Add labels and formatting\n",
    "ax_psth.axvline(x=0.0, color='black', linestyle='-')\n",
    "ax_psth.set_ylabel('Ripple rate (Hz)', fontsize=font_size)\n",
    "ax_psth.spines['right'].set_visible(False)\n",
    "ax_psth.spines['top'].set_visible(False)\n",
    "\n",
    "# Customize ticks\n",
    "if encoding_mode == 0:\n",
    "    ax_psth.set_xlim(-1.8, 1.8)\n",
    "    ax_psth.set_xticks(np.arange(-1.5, 2.0, 0.5))\n",
    "    ax_psth.set_ylim(0, 0.4)\n",
    "    ax_psth.set_yticks(np.arange(0, 0.401, 0.1))\n",
    "    ax_psth.set_xlabel('Time from recall (s)', fontsize=font_size)\n",
    "elif encoding_mode == 1:\n",
    "    ax_psth.set_xlim(-0.3, 2.1)\n",
    "    ax_psth.set_xticks(np.arange(0, 2.1, 0.5))\n",
    "    ax_psth.set_ylim(0, 0.4)\n",
    "    ax_psth.set_yticks(np.arange(0, 0.401, 0.1))\n",
    "    ax_psth.set_xlabel('Time from word presentation (s)', fontsize=font_size)\n",
    "ax_psth.tick_params(axis='both', labelsize=font_size)\n",
    "leg = ax_psth.legend(frameon=False, fontsize=font_size, loc='lower right')\n",
    "for legobj in leg.legendHandles:\n",
    "    legobj.set_linewidth(7.0)\n",
    "    legobj.set_alpha(0.5)\n",
    "\n",
    "# Adjust layout and show plot\n",
    "plt.tight_layout()\n",
    "\n",
    "if save_plot == 1:\n",
    "    plt.savefig(f'/home1/john/SWRrefactored/figures/ripple_psths/{task}_{saveName}{region_name[0]}_{subregion[0]}_allTrials.pdf',transparent=True) \n",
    "\n",
    "plt.show();\n"
   ]
  },
  {
   "cell_type": "code",
   "execution_count": null,
   "id": "978d57ec-f33c-463e-8050-aca1b1a0ed0e",
   "metadata": {},
   "outputs": [],
   "source": []
  }
 ],
 "metadata": {
  "kernelspec": {
   "display_name": "eeg311",
   "language": "python",
   "name": "eeg311"
  },
  "language_info": {
   "codemirror_mode": {
    "name": "ipython",
    "version": 3
   },
   "file_extension": ".py",
   "mimetype": "text/x-python",
   "name": "python",
   "nbconvert_exporter": "python",
   "pygments_lexer": "ipython3",
   "version": "3.11.4"
  }
 },
 "nbformat": 4,
 "nbformat_minor": 5
}
