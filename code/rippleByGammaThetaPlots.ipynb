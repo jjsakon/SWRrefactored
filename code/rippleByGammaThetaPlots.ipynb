{
 "cells": [
  {
   "cell_type": "code",
   "execution_count": 2,
   "id": "fc17f345-6597-4a33-8ed8-1b3b07d4e1c7",
   "metadata": {},
   "outputs": [
    {
     "name": "stdout",
     "output_type": "stream",
     "text": [
      "The autoreload extension is already loaded. To reload it, use:\n",
      "  %reload_ext autoreload\n"
     ]
    }
   ],
   "source": [
    "%load_ext autoreload\n",
    "%autoreload\n",
    "\n",
    "import pandas as pd; pd.set_option('display.max_columns', 30)\n",
    "import numpy as np\n",
    "from cmlreaders import CMLReader, get_data_index\n",
    "import ptsa\n",
    "import sys\n",
    "import os\n",
    "import matplotlib.pyplot as plt\n",
    "import seaborn as sb\n",
    "from pylab import *\n",
    "from copy import copy\n",
    "from scipy import stats\n",
    "plt.rcParams['pdf.fonttype'] = 42; plt.rcParams['ps.fonttype'] = 42 # fix fonts for Illustrator\n",
    "sys.path.append('/home1/john/SWRrefactored/code/SWR_modules/')\n",
    "from SWRmodule import *\n",
    "from general import * #superVstack,findInd,findAinB\n",
    "from power_functions import z_score, process_power, load_z_scored_power\n",
    "\n",
    "base = '/home1/john/SWRrefactored'\n",
    "sys.path.append(f'{base}/code/')\n",
    "\n",
    "from load_data_numpy import load_data_np\n",
    "from SWRmodule import triangleSmooth\n",
    "# from comodulogram import remove_session_string, get_filtered_signal\n",
    "# from fooof import FOOOF\n",
    "\n",
    "import statsmodels.formula.api as smf\n",
    "from scipy.signal import decimate, resample, hilbert, welch, spectrogram\n",
    "from mne.time_frequency import tfr_array_morlet\n",
    "\n",
    "# # Import the time & event model objects and Bands object to manage oscillation band definitions\n",
    "# from specparam import SpectralTimeModel, SpectralTimeEventModel, Bands\n",
    "# # Import helper utilities for simulating and plotting spectrograms\n",
    "# from specparam.sim import sim_spectrogram\n",
    "# from specparam.plts.spectra import plot_spectrogram"
   ]
  },
  {
   "cell_type": "code",
   "execution_count": 3,
   "id": "f5dac9c3-36a4-4597-92ff-c8b0631f509c",
   "metadata": {},
   "outputs": [
    {
     "data": {
      "text/plain": [
       "array([ 80.        ,  87.43437519,  95.55962457, 104.43995085,\n",
       "       114.1455231 , 124.75303116, 136.34629167, 149.01691027,\n",
       "       162.86500554, 178.        ])"
      ]
     },
     "execution_count": 3,
     "metadata": {},
     "output_type": "execute_result"
    }
   ],
   "source": [
    "np.logspace(np.log10(80),np.log10(178),10)"
   ]
  },
  {
   "cell_type": "code",
   "execution_count": 10,
   "id": "5846d65a-6e2d-4517-a199-5519e465efa1",
   "metadata": {},
   "outputs": [],
   "source": [
    "# for now the plotting code only works with one region at a time\n",
    "region_name = ['HPC'] # ['ENT'] # ['AMY']\n",
    "subregion = ['ca1'] #['ca1'] # can use [''] to select ALL subregions\n",
    "task = 'catFR1' # 'catFR1'\n",
    "savePath = f'{base}/figures/'\n",
    "\n",
    "# 1 for encoding, 0 for recall\n",
    "encoding_mode_arr = [1] #[0,1] \n",
    "freq_range_str_arr = [[33.5,75],[80,120]] #,[2,4],[7,9]] # [80,178]\n",
    "# these were selecetd to avoid 60 and 120 Hz using np.logspace(np.log10(30),np.log10(75),10)\n",
    "\n",
    "# define frequency ranges\n",
    "buffer = 2000 # time in ms to buffer trials (for Morlet)\n",
    "\n",
    "plot_error_bars = True\n",
    "\n",
    "fs = 500 # sampling rate for raw data and ripples from createEventsForDF.py"
   ]
  },
  {
   "cell_type": "code",
   "execution_count": 11,
   "id": "e797f45e-897c-4481-9c7d-21669bfa0307",
   "metadata": {
    "tags": []
   },
   "outputs": [],
   "source": [
    "# np.shape(dd_trials['ripple'])\n",
    "# np.shape(dd_trials['raw'])\n",
    "# dd_trials.keys()\n",
    "# np.unique(dd_trials['elec_labels'])"
   ]
  },
  {
   "cell_type": "code",
   "execution_count": 12,
   "id": "105c8ab8-3da0-405c-921b-f9ae99143a46",
   "metadata": {
    "tags": []
   },
   "outputs": [
    {
     "name": "stdout",
     "output_type": "stream",
     "text": [
      "Loading data\n",
      "LOADING DATA FROM: HPC FOR EXPERIMENT catFR1\n"
     ]
    },
    {
     "name": "stderr",
     "output_type": "stream",
     "text": [
      "/home1/john/anaconda3/envs/workshopJ/lib/python3.7/site-packages/numpy/core/fromnumeric.py:43: VisibleDeprecationWarning: Creating an ndarray from ragged nested sequences (which is a list-or-tuple of lists-or-tuples-or ndarrays with different lengths or shapes) is deprecated. If you meant to do this, you must specify 'dtype=object' when creating the ndarray.\n",
      "  result = getattr(asarray(obj), method)(*args, **kwds)\n"
     ]
    },
    {
     "name": "stdout",
     "output_type": "stream",
     "text": [
      "elec_by_elec_correlation\n",
      "elec_by_elec_correlation\n",
      "elec_by_elec_correlation\n",
      "elec_by_elec_correlation\n",
      "elec_by_elec_correlation\n",
      "elec_by_elec_correlation\n",
      "elec_by_elec_correlation\n",
      "elec_by_elec_correlation\n",
      "elec_by_elec_correlation\n",
      "elec_by_elec_correlation\n",
      "elec_by_elec_correlation\n",
      "elec_by_elec_correlation\n",
      "elec_by_elec_correlation\n",
      "elec_by_elec_correlation\n",
      "elec_by_elec_correlation\n",
      "elec_by_elec_correlation\n",
      "elec_by_elec_correlation\n",
      "elec_by_elec_correlation\n",
      "elec_by_elec_correlation\n",
      "elec_by_elec_correlation\n",
      "order: C\n"
     ]
    },
    {
     "name": "stderr",
     "output_type": "stream",
     "text": [
      "/home1/john/SWRrefactored/code/SWR_modules/load_data.py:433: VisibleDeprecationWarning: Creating an ndarray from ragged nested sequences (which is a list-or-tuple of lists-or-tuples-or ndarrays with different lengths or shapes) is deprecated. If you meant to do this, you must specify 'dtype=object' when creating the ndarray.\n",
      "  dd_trials[key] = np.asarray(val)\n"
     ]
    },
    {
     "name": "stdout",
     "output_type": "stream",
     "text": [
      "Generating figures for run_mode:  1\n"
     ]
    }
   ],
   "source": [
    "for encoding_mode in encoding_mode_arr:\n",
    "\n",
    "    dd_trials = load_data_np(encoding_mode,task,\n",
    "        region_name=region_name, train_only=False, subregion=subregion)\n",
    "    \n",
    "    region_str = region_name[0]\n",
    "    subregion_str = subregion[0]\n",
    "    \n",
    "    clust = dd_trials['clust_int']\n",
    "    notclust_idxs = np.argwhere(clust<0).squeeze()\n",
    "    clust_idxs = np.argwhere(clust>0).squeeze()\n",
    "    \n",
    "    if encoding_mode:\n",
    "        saveName = 'encoding_'\n",
    "        recall_str = ''\n",
    "        time = np.linspace(-0.7, 2.3, 150)\n",
    "        correct = dd_trials['correct']\n",
    "        incorrect_idxs = np.argwhere(correct==0).squeeze()\n",
    "        start_cutoff = 300 # times (in s) relative to word_on \n",
    "        end_cutoff = 1300 \n",
    "        \n",
    "    else:\n",
    "        saveName = 'recall_'\n",
    "        recall_str = '_recall'\n",
    "        time = np.linspace(-2, 2, 200)\n",
    "        start_cutoff = -1000\n",
    "        end_cutoff = 0      \n",
    "        \n",
    "    # convert time ranges to samples\n",
    "    sr_factor = 1000/fs\n",
    "    # data taken is from -1.7 to 3.3 s from word_on so account for that by adding 1700 ms\n",
    "    start_cutoff = 0\n",
    "    end_cutoff = 2500 # just take the whole range of data to better estimate Morlet\n",
    "#     start_cutoff = int((1700+start_cutoff-buffer)/sr_factor) # this comes to 0:2500 anyway\n",
    "#     end_cutoff = int((1700+end_cutoff+buffer)/sr_factor)     # ...so just index in time from here\n",
    "    \n",
    "    \n",
    "    print(\"Generating figures for run_mode: \", encoding_mode)\n",
    "    # starts with high and moves to low\n",
    "    power_z = load_z_scored_power(dd_trials, freq_range_str_arr, encoding_mode,fs,start_cutoff, end_cutoff)\n",
    "        \n",
    "    # note that output is 50 Hz (20 ms bins) since started 500 hz and decimated 10x\n",
    "    if len(subregion[0]) > 0:\n",
    "        subregion_str = f'_{subregion[0]}'\n",
    "    else:\n",
    "        subregion_str = ''           \n",
    "\n",
    "a=1;            "
   ]
  },
  {
   "cell_type": "code",
   "execution_count": 13,
   "id": "306ee27f-6e67-4b7d-8287-69622a8cca9b",
   "metadata": {},
   "outputs": [
    {
     "data": {
      "text/plain": [
       "dict_keys(['ripple', 'clust', 'correct', 'position', 'list_num', 'subj', 'sess', 'elec_names', 'elec_labels', 'serial_pos', 'raw', 'elec_by_elec_correlation', 'trial_by_trial_correlation', 'elec_ripple_rate_array', 'category_array', 'clust_int'])"
      ]
     },
     "execution_count": 13,
     "metadata": {},
     "output_type": "execute_result"
    },
    {
     "data": {
      "text/plain": [
       "(29208, 1500)"
      ]
     },
     "execution_count": 13,
     "metadata": {},
     "output_type": "execute_result"
    },
    {
     "data": {
      "text/plain": [
       "(29208, 2500)"
      ]
     },
     "execution_count": 13,
     "metadata": {},
     "output_type": "execute_result"
    },
    {
     "data": {
      "text/plain": [
       "(2, 29208, 250)"
      ]
     },
     "execution_count": 13,
     "metadata": {},
     "output_type": "execute_result"
    },
    {
     "data": {
      "text/plain": [
       "[[33.5, 75], [80, 120]]"
      ]
     },
     "execution_count": 13,
     "metadata": {},
     "output_type": "execute_result"
    },
    {
     "data": {
      "text/plain": [
       "array(['R1065J', 'R1108J', 'R1112M', 'R1486J', 'R1501J', 'R1525J'],\n",
       "      dtype='<U6')"
      ]
     },
     "execution_count": 13,
     "metadata": {},
     "output_type": "execute_result"
    }
   ],
   "source": [
    "dd_trials.keys()\n",
    "np.shape(dd_trials['ripple'])\n",
    "np.shape(dd_trials['raw'])\n",
    "\n",
    "np.shape(power_z)\n",
    "freq_range_str_arr\n",
    "\n",
    "unique_subs = np.unique(dd_trials['subj'])\n",
    "unique_subs"
   ]
  },
  {
   "cell_type": "code",
   "execution_count": 75,
   "id": "7c8960e2-8765-4f83-9a75-ad842b2c1c6d",
   "metadata": {},
   "outputs": [
    {
     "name": "stdout",
     "output_type": "stream",
     "text": [
      "Number of trials: 29208 from the following subs:\n"
     ]
    },
    {
     "data": {
      "text/plain": [
       "array(['R1065J', 'R1108J', 'R1112M', 'R1486J', 'R1501J', 'R1525J'],\n",
       "      dtype='<U6')"
      ]
     },
     "execution_count": 75,
     "metadata": {},
     "output_type": "execute_result"
    },
    {
     "data": {
      "text/plain": [
       "(2, 29208, 250)"
      ]
     },
     "execution_count": 75,
     "metadata": {},
     "output_type": "execute_result"
    },
    {
     "name": "stdout",
     "output_type": "stream",
     "text": [
      "8413 trials have ripples which is 28.8% of total\n"
     ]
    }
   ],
   "source": [
    "gamma_sd_thresh = 1.5\n",
    "\n",
    "# select a patient\n",
    "patient_idx = -1\n",
    "if patient_idx >-1: \n",
    "    sub_idxs = dd_trials['subj']==unique_subs[patient_idx]\n",
    "else:\n",
    "    sub_idxs = np.ones(len(dd_trials['subj']),dtype=bool)\n",
    "print(f'Number of trials: {sum(sub_idxs)} from the following subs:')\n",
    "np.unique(dd_trials['subj'][sub_idxs])\n",
    "      \n",
    "sub_ripples = dd_trials['ripple'][sub_idxs] # ripples are detected from -0.7 to 2.3 s @ 500 Hz\n",
    "sub_Zs = power_z[:,sub_idxs,:]\n",
    "np.shape(sub_Zs)\n",
    "ripple_start_offset = -700 # ripple matrix starts 700 ms before word_on\n",
    "ripple_start = 300 # time in ms\n",
    "ripple_end = 1300 # time in ms\n",
    "\n",
    "# note only +700 since ripple_trials go from -0.7 to 2.3 s (no buffers)\n",
    "ripple_trials = np.sum(sub_ripples[:,int((-ripple_start_offset+ripple_start)/sr_factor):\n",
    "                                   int((-ripple_start_offset+ripple_end)/sr_factor)],1)>0\n",
    "print(f'{sum(ripple_trials)} trials have ripples which is {np.round(100*sum(ripple_trials)/sum(sub_idxs),2)}% of total')\n",
    "\n",
    "z_factor = sr_factor*10 # z_score was decimated 10x\n",
    "# average z-score over time for same range as ripples\n",
    "ripple_time_range = slice(int((1700+ripple_start)/z_factor),int((1700+ripple_end)/z_factor)) # +1700 since goes from -1.7 to 3.3 s\n",
    "z_low_gamma_trials = np.mean(sub_Zs[0,:,ripple_time_range],1)>gamma_sd_thresh\n",
    "z_high_gamma_trials = np.mean(sub_Zs[1,:,ripple_time_range],1)>gamma_sd_thresh"
   ]
  },
  {
   "cell_type": "code",
   "execution_count": 32,
   "id": "91bd71fd-020f-4985-8a10-0265b3150f18",
   "metadata": {},
   "outputs": [
    {
     "data": {
      "text/plain": [
       "[<matplotlib.lines.Line2D at 0x2b9845fddb50>]"
      ]
     },
     "execution_count": 32,
     "metadata": {},
     "output_type": "execute_result"
    },
    {
     "name": "stdout",
     "output_type": "stream",
     "text": [
      "start array shape: (29208, 1499)\n"
     ]
    },
    {
     "data": {
      "image/png": "[encoded data removed]",
      "text/plain": [
       "<Figure size 432x288 with 1 Axes>"
      ]
     },
     "metadata": {
      "needs_background": "light"
     },
     "output_type": "display_data"
    }
   ],
   "source": [
    "start_array,_ = getStartEndArrays(sub_ripples)\n",
    "# first bin has artificially high number due to how start_srray workxs\n",
    "start_array = start_array[:,1:] \n",
    "print(f'start array shape: {np.shape(start_array)}')"
   ]
  },
  {
   "cell_type": "code",
   "execution_count": 74,
   "id": "d5e8de0a-f33e-40dd-a9fb-7c77eb485820",
   "metadata": {},
   "outputs": [
    {
     "name": "stderr",
     "output_type": "stream",
     "text": [
      "/home1/john/anaconda3/envs/workshopJ/lib/python3.7/site-packages/ipykernel_launcher.py:59: UserWarning: FixedFormatter should only be used together with FixedLocator\n",
      "/home1/john/SWRrefactored/code/SWR_modules/SWRmodule.py:1389: VisibleDeprecationWarning: Creating an ndarray from ragged nested sequences (which is a list-or-tuple of lists-or-tuples-or ndarrays with different lengths or shapes) is deprecated. If you meant to do this, you must specify 'dtype=object' when creating the ndarray.\n",
      "  norm_count = count/np.array((num_trials*binsize/1000))\n"
     ]
    },
    {
     "data": {
      "image/png": "[encoded data removed]",
      "text/plain": [
       "<Figure size 288x360 with 2 Axes>"
      ]
     },
     "metadata": {
      "needs_background": "light"
     },
     "output_type": "display_data"
    }
   ],
   "source": [
    "import matplotlib.gridspec as gridspec\n",
    "\n",
    "# Function parameters\n",
    "bin_size = 100  # in ms\n",
    "smoothing_triangle = 7  # triangular smoothing window width\n",
    "\n",
    "# bar_ylimits = (0, 0.7)\n",
    "# trial_select = z_low_gamma_trials\n",
    "\n",
    "bar_ylimits = (0, 0.42)\n",
    "trial_select = ~z_low_gamma_trials\n",
    "\n",
    "ripple_swarm_start = int((-ripple_start_offset+ripple_start)/sr_factor)\n",
    "ripple_swarm_end = int((-ripple_start_offset+ripple_end)/sr_factor)\n",
    "ripple_swarm_duration = (ripple_end-ripple_start)/1000  # convert to seconds\n",
    "\n",
    "# Apply the clust variable to split data into clustered, unclustered, and not recalled\n",
    "clust_clustered = clust > 1\n",
    "clust_unclustered = clust < 0\n",
    "clust_not_recalled = clust == 0\n",
    "\n",
    "# Calculate ripple means and standard errors for each condition\n",
    "mean_ripple_clustered = np.sum(start_array[trial_select & clust_clustered, ripple_swarm_start:ripple_swarm_end], axis=1) / ripple_swarm_duration\n",
    "mean_ripple_unclustered = np.sum(start_array[trial_select & clust_unclustered, ripple_swarm_start:ripple_swarm_end], axis=1) / ripple_swarm_duration\n",
    "mean_ripple_not_recalled = np.sum(start_array[trial_select & clust_not_recalled, ripple_swarm_start:ripple_swarm_end], axis=1) / ripple_swarm_duration\n",
    "\n",
    "means = [np.mean(mean_ripple_clustered), np.mean(mean_ripple_unclustered), np.mean(mean_ripple_not_recalled)]\n",
    "ses = [np.std(mean_ripple_clustered) / np.sqrt(len(mean_ripple_clustered)),\n",
    "       np.std(mean_ripple_unclustered) / np.sqrt(len(mean_ripple_unclustered)),\n",
    "       np.std(mean_ripple_not_recalled) / np.sqrt(len(mean_ripple_not_recalled))]\n",
    "\n",
    "# Define the palette for colors\n",
    "palette = {\n",
    "    'Clustered': 'blue',\n",
    "    'Unclustered': 'orange',\n",
    "    'Not Recalled': 'green'\n",
    "}\n",
    "\n",
    "# Set up the figure with GridSpec\n",
    "fig = plt.figure(figsize=(4, 5))\n",
    "gs = gridspec.GridSpec(2, 3, height_ratios=[2, 2], width_ratios=[3, 3, 3])\n",
    "\n",
    "# Create the bar plot with error bars (span all columns)\n",
    "ax_bar = fig.add_subplot(gs[0, :])\n",
    "bars = ax_bar.bar(x=['Clustered', 'Unclustered', 'Not Recalled'], \n",
    "                  height=means, \n",
    "                  color=[palette['Clustered'], palette['Unclustered'], palette['Not Recalled']], \n",
    "                  yerr=ses, \n",
    "                  width=0.5,  # Adjust width to make bars tighter\n",
    "                  capsize=5, \n",
    "                  error_kw=dict(ecolor='black', elinewidth=2))\n",
    "\n",
    "ax_bar.set_ylabel('Ripple rate by trial (Hz)')\n",
    "ax_bar.set_xlabel('')\n",
    "ax_bar.set_ylim(bar_ylimits)\n",
    "ax_bar.set_xticklabels(['Clustered', 'Unclustered', 'Not Recalled'], rotation=20, ha=\"center\")\n",
    "\n",
    "# Add the number of trials above each bar\n",
    "n_trials = [np.sum(trial_select & clust_clustered), \n",
    "            np.sum(trial_select & clust_unclustered), \n",
    "            np.sum(trial_select & clust_not_recalled)]\n",
    "for bar, n in zip(bars, n_trials):\n",
    "    ax_bar.text(bar.get_x() + bar.get_width() / 2, bar.get_height() + 0.04, f'n={n}', ha='center', va='bottom')\n",
    "\n",
    "# Calculate PSTH for each group\n",
    "ripple_PSTH_clustered, bin_centers = fullPSTH(start_array[trial_select & clust_clustered], bin_size, smoothing_triangle, fs, ripple_start_offset)\n",
    "ripple_PSTH_unclustered, _ = fullPSTH(start_array[trial_select & clust_unclustered], bin_size, smoothing_triangle, fs, ripple_start_offset)\n",
    "ripple_PSTH_not_recalled, _ = fullPSTH(start_array[trial_select & clust_not_recalled], bin_size, smoothing_triangle, fs, ripple_start_offset)\n",
    "\n",
    "# Plot the PSTH for each group\n",
    "ax_psth = fig.add_subplot(gs[1, :])\n",
    "ax_psth.plot(bin_centers / 1000, ripple_PSTH_clustered, label='Clustered', color=palette['Clustered'])\n",
    "ax_psth.plot(bin_centers / 1000, ripple_PSTH_unclustered, label='Unclustered', color=palette['Unclustered'])\n",
    "ax_psth.plot(bin_centers / 1000, ripple_PSTH_not_recalled, label='Not Recalled', color=palette['Not Recalled'])\n",
    "ax_psth.axvline(x=0.0, color='black', linestyle='--')\n",
    "ax_psth.axvline(x=1.6, color='black', linestyle='--')\n",
    "ax_psth.set_xlabel('Time (s)')\n",
    "ax_psth.set_xlim(-0.25, 2.05)\n",
    "ax_psth.set_ylim(0,bar_ylimits[1])\n",
    "ax_psth.set_ylabel('Ripple rate (Hz)')\n",
    "\n",
    "# Add legend to the bottom plot\n",
    "ax_psth.legend(loc='lower center', frameon=False)\n",
    "\n",
    "# Adjust layout\n",
    "plt.tight_layout()\n",
    "plt.show()\n",
    "a=1;"
   ]
  },
  {
   "cell_type": "code",
   "execution_count": 84,
   "id": "fc797628-58bb-4e9b-8f50-39c2c5ed2d2b",
   "metadata": {},
   "outputs": [
    {
     "name": "stderr",
     "output_type": "stream",
     "text": [
      "/home1/john/SWRrefactored/code/SWR_modules/SWRmodule.py:1389: VisibleDeprecationWarning: Creating an ndarray from ragged nested sequences (which is a list-or-tuple of lists-or-tuples-or ndarrays with different lengths or shapes) is deprecated. If you meant to do this, you must specify 'dtype=object' when creating the ndarray.\n",
      "  norm_count = count/np.array((num_trials*binsize/1000))\n"
     ]
    },
    {
     "data": {
      "image/png": "[encoded data removed]",
      "text/plain": [
       "<Figure size 288x360 with 2 Axes>"
      ]
     },
     "metadata": {
      "needs_background": "light"
     },
     "output_type": "display_data"
    }
   ],
   "source": [
    "import matplotlib.gridspec as gridspec\n",
    "\n",
    "# Function parameters\n",
    "bin_size = 100  # in ms\n",
    "smoothing_triangle = 7  # triangular smoothing window width\n",
    "\n",
    "bar_ylimits = (0, 0.75)\n",
    "trial_select = z_low_gamma_trials\n",
    "\n",
    "# bar_ylimits = (0, 0.42)\n",
    "# trial_select = ~z_low_gamma_trials\n",
    "\n",
    "ripple_swarm_start = int((-ripple_start_offset+ripple_start)/sr_factor)\n",
    "ripple_swarm_end = int((-ripple_start_offset+ripple_end)/sr_factor)\n",
    "ripple_swarm_duration = (ripple_end-ripple_start)/1000  # convert to seconds\n",
    "\n",
    "# Apply the clust variable to split data into clustered, unclustered, and not recalled\n",
    "clust_clustered = clust > 1\n",
    "clust_unclustered = clust < 0\n",
    "clust_not_recalled = clust == 0\n",
    "\n",
    "# Calculate ripple means and standard errors for each condition\n",
    "mean_ripple_clustered = np.sum(start_array[trial_select & clust_clustered, ripple_swarm_start:ripple_swarm_end], axis=1) / ripple_swarm_duration\n",
    "mean_ripple_unclustered = np.sum(start_array[trial_select & clust_unclustered, ripple_swarm_start:ripple_swarm_end], axis=1) / ripple_swarm_duration\n",
    "mean_ripple_not_recalled = np.sum(start_array[trial_select & clust_not_recalled, ripple_swarm_start:ripple_swarm_end], axis=1) / ripple_swarm_duration\n",
    "\n",
    "means = [np.mean(mean_ripple_clustered), np.mean(mean_ripple_unclustered), np.mean(mean_ripple_not_recalled)]\n",
    "ses = [np.std(mean_ripple_clustered) / np.sqrt(len(mean_ripple_clustered)),\n",
    "       np.std(mean_ripple_unclustered) / np.sqrt(len(mean_ripple_unclustered)),\n",
    "       np.std(mean_ripple_not_recalled) / np.sqrt(len(mean_ripple_not_recalled))]\n",
    "\n",
    "# Define the palette for colors\n",
    "palette = {\n",
    "    'Clustered': 'blue',\n",
    "    'Unclustered': 'orange',\n",
    "    'Not Recalled': 'green'\n",
    "}\n",
    "\n",
    "# Set up the figure with GridSpec\n",
    "fig = plt.figure(figsize=(4, 5))\n",
    "gs = gridspec.GridSpec(2, 3, height_ratios=[2, 2], width_ratios=[3, 3, 3])\n",
    "\n",
    "# Calculate PSTH for each group\n",
    "ripple_PSTH_clustered, bin_centers = fullPSTH(start_array[trial_select & clust_clustered], bin_size, smoothing_triangle, fs, ripple_start_offset)\n",
    "ripple_PSTH_unclustered, _ = fullPSTH(start_array[trial_select & clust_unclustered], bin_size, smoothing_triangle, fs, ripple_start_offset)\n",
    "ripple_PSTH_not_recalled, _ = fullPSTH(start_array[trial_select & clust_not_recalled], bin_size, smoothing_triangle, fs, ripple_start_offset)\n",
    "\n",
    "# Plot the PSTH for each group (move this to the top)\n",
    "ax_psth = fig.add_subplot(gs[0, :])\n",
    "ax_psth.plot(bin_centers / 1000, ripple_PSTH_clustered, label='Clustered', color=palette['Clustered'])\n",
    "ax_psth.plot(bin_centers / 1000, ripple_PSTH_unclustered, label='Unclustered', color=palette['Unclustered'])\n",
    "ax_psth.plot(bin_centers / 1000, ripple_PSTH_not_recalled, label='Not Recalled', color=palette['Not Recalled'])\n",
    "ax_psth.axvline(x=0.0, color='black', linestyle='--')\n",
    "ax_psth.axvline(x=1.6, color='black', linestyle='--')\n",
    "ax_psth.set_xlabel('Time (s)')\n",
    "ax_psth.set_xlim(-0.25, 2.05)\n",
    "ax_psth.set_ylim(0, bar_ylimits[1])\n",
    "ax_psth.set_ylabel('Ripple rate (Hz)')\n",
    "ax_psth.spines['right'].set_visible(False)\n",
    "ax_psth.spines['top'].set_visible(False)\n",
    "\n",
    "# Add legend to the top plot\n",
    "ax_psth.legend(loc='lower center', frameon=False)\n",
    "\n",
    "# Create the bar plot with error bars (move this to the bottom)\n",
    "ax_bar = fig.add_subplot(gs[1, :])\n",
    "bars = ax_bar.bar(x=['Clustered', 'Unclustered', 'Not Recalled'], \n",
    "                  height=means, \n",
    "                  color=[palette['Clustered'], palette['Unclustered'], palette['Not Recalled']], \n",
    "                  yerr=ses, \n",
    "                  width=0.5,  # Adjust width to make bars tighter\n",
    "                  capsize=5, \n",
    "                  error_kw=dict(ecolor='black', elinewidth=2))\n",
    "\n",
    "ax_bar.set_ylabel('Ripple rate by trial (Hz)')\n",
    "ax_bar.set_xlabel('')\n",
    "ax_bar.set_ylim(bar_ylimits)\n",
    "# ax_bar.set_xticklabels(['Clustered', 'Unclustered', 'Not Recalled'], rotation=20, ha=\"center\")\n",
    "ax_bar.spines['right'].set_visible(False)\n",
    "ax_bar.spines['top'].set_visible(False)\n",
    "\n",
    "# Add the number of trials above each bar\n",
    "n_trials = [np.sum(trial_select & clust_clustered), \n",
    "            np.sum(trial_select & clust_unclustered), \n",
    "            np.sum(trial_select & clust_not_recalled)]\n",
    "for bar, n in zip(bars, n_trials):\n",
    "    ax_bar.text(bar.get_x() + bar.get_width() / 2, bar.get_height() + 0.04, f'n={n}', ha='center', va='bottom')\n",
    "\n",
    "# Adjust layout\n",
    "plt.tight_layout()\n",
    "plt.show();\n"
   ]
  },
  {
   "cell_type": "code",
   "execution_count": null,
   "id": "74a2db15-74e2-4077-9ea6-fb9e30b84111",
   "metadata": {},
   "outputs": [],
   "source": []
  },
  {
   "cell_type": "code",
   "execution_count": null,
   "id": "cc1ddaa2-498a-43df-94a0-b22d6d669deb",
   "metadata": {},
   "outputs": [],
   "source": []
  },
  {
   "cell_type": "code",
   "execution_count": 80,
   "id": "f1f31b99-b050-4760-9327-ee4cad3d6c4f",
   "metadata": {},
   "outputs": [
    {
     "name": "stdout",
     "output_type": "stream",
     "text": [
      "           Mixed Linear Model Regression Results\n",
      "============================================================\n",
      "Model:             MixedLM  Dependent Variable:  ripple_rate\n",
      "No. Observations:  29208    Method:              REML       \n",
      "No. Groups:        6        Scale:               0.4753     \n",
      "Min. group size:   216      Log-Likelihood:      -30627.5908\n",
      "Max. group size:   10800    Converged:           Yes        \n",
      "Mean group size:   4868.0                                   \n",
      "------------------------------------------------------------\n",
      "                  Coef.  Std.Err.   z    P>|z| [0.025 0.975]\n",
      "------------------------------------------------------------\n",
      "Intercept          0.423    0.028 14.927 0.000  0.367  0.478\n",
      "clust_clustered    0.031    0.010  3.113 0.002  0.012  0.051\n",
      "clust_unclustered -0.003    0.011 -0.297 0.767 -0.025  0.018\n",
      "session Var        0.015    0.008                           \n",
      "============================================================\n",
      "\n"
     ]
    }
   ],
   "source": [
    "import statsmodels.api as sm\n",
    "from statsmodels.formula.api import mixedlm\n",
    "\n",
    "# Flatten the ripple data for easier modeling\n",
    "ripple_data = start_array[:, ripple_swarm_start:ripple_swarm_end].sum(axis=1)\n",
    "\n",
    "# Create a DataFrame with the data\n",
    "df = pd.DataFrame({\n",
    "    'ripple_rate': ripple_data,\n",
    "    'clust_clustered': (clust > 1).astype(int),\n",
    "    'clust_unclustered': (clust < 0).astype(int),\n",
    "    'clust_not_recalled': (clust == 0).astype(int),\n",
    "    'session': dd_trials['sess'],\n",
    "    'subject': dd_trials['subj'],\n",
    "    'low_gamma': z_low_gamma_trials\n",
    "})\n",
    "\n",
    "# Define the model formula\n",
    "# 'ripple_rate ~ clust_clustered + clust_unclustered + clust_not_recalled' specifies the fixed effects\n",
    "# '(1 | subject/session)' specifies the random effects, with session nested within subject\n",
    "model = mixedlm(\n",
    "    formula=\"ripple_rate ~ clust_clustered + clust_unclustered\", \n",
    "    data=df, groups=df[\"subject\"], vc_formula={\"session\": \"0 + session\"})\n",
    "\n",
    "print(model.fit().summary())"
   ]
  },
  {
   "cell_type": "code",
   "execution_count": 81,
   "id": "b575e2f8-aedc-408b-868a-59d37214aff4",
   "metadata": {},
   "outputs": [
    {
     "name": "stdout",
     "output_type": "stream",
     "text": [
      "                    Mixed Linear Model Regression Results\n",
      "==============================================================================\n",
      "Model:                   MixedLM        Dependent Variable:        ripple_rate\n",
      "No. Observations:        29208          Method:                    REML       \n",
      "No. Groups:              6              Scale:                     0.4625     \n",
      "Min. group size:         216            Log-Likelihood:            -30237.2777\n",
      "Max. group size:         10800          Converged:                 Yes        \n",
      "Mean group size:         4868.0                                               \n",
      "------------------------------------------------------------------------------\n",
      "                                    Coef.  Std.Err.   z    P>|z| [0.025 0.975]\n",
      "------------------------------------------------------------------------------\n",
      "Intercept                            0.368    0.029 12.743 0.000  0.311  0.424\n",
      "low_gamma[T.True]                    0.330    0.014 23.028 0.000  0.302  0.358\n",
      "clust_clustered                      0.040    0.011  3.671 0.000  0.019  0.061\n",
      "low_gamma[T.True]:clust_clustered   -0.089    0.024 -3.735 0.000 -0.136 -0.042\n",
      "clust_unclustered                    0.008    0.012  0.697 0.486 -0.015  0.032\n",
      "low_gamma[T.True]:clust_unclustered -0.054    0.029 -1.878 0.060 -0.110  0.002\n",
      "session Var                          0.016    0.008                           \n",
      "==============================================================================\n",
      "\n"
     ]
    }
   ],
   "source": [
    "model = mixedlm(\n",
    "    formula=\"ripple_rate ~ low_gamma*(clust_clustered + clust_unclustered)\", \n",
    "    data=df, groups=df[\"subject\"], vc_formula={\"session\": \"0 + session\"})\n",
    "\n",
    "print(model.fit().summary())"
   ]
  },
  {
   "cell_type": "code",
   "execution_count": null,
   "id": "23c20a39-afb1-4310-bf8f-fd18f940ed94",
   "metadata": {},
   "outputs": [],
   "source": []
  },
  {
   "cell_type": "code",
   "execution_count": 71,
   "id": "24b6a1f4-1d93-42af-8025-dc33ca1553b7",
   "metadata": {},
   "outputs": [
    {
     "name": "stderr",
     "output_type": "stream",
     "text": [
      "/home1/john/SWRrefactored/code/SWR_modules/SWRmodule.py:1389: VisibleDeprecationWarning: Creating an ndarray from ragged nested sequences (which is a list-or-tuple of lists-or-tuples-or ndarrays with different lengths or shapes) is deprecated. If you meant to do this, you must specify 'dtype=object' when creating the ndarray.\n",
      "  norm_count = count/np.array((num_trials*binsize/1000))\n"
     ]
    }
   ],
   "source": [
    "# Calculate PSTH for each group and for each session\n",
    "sessions = np.unique(dd_trials['sess'])\n",
    "session_means_clustered = []\n",
    "session_means_unclustered = []\n",
    "session_means_not_recalled = []\n",
    "\n",
    "for sess in sessions:\n",
    "    session_select = (dd_trials['sess'] == sess)\n",
    "    ripple_PSTH_clustered, bin_centers = fullPSTH(start_array[trial_select & clust_clustered & session_select], bin_size, smoothing_triangle, fs, ripple_start_offset)\n",
    "    ripple_PSTH_unclustered, _ = fullPSTH(start_array[trial_select & clust_unclustered & session_select], bin_size, smoothing_triangle, fs, ripple_start_offset)\n",
    "    ripple_PSTH_not_recalled, _ = fullPSTH(start_array[trial_select & clust_not_recalled & session_select], bin_size, smoothing_triangle, fs, ripple_start_offset)\n",
    "    \n",
    "    session_means_clustered.append(ripple_PSTH_clustered)\n",
    "    session_means_unclustered.append(ripple_PSTH_unclustered)\n",
    "    session_means_not_recalled.append(ripple_PSTH_not_recalled)\n",
    "\n",
    "# Convert lists to arrays\n",
    "session_means_clustered = np.array(session_means_clustered)\n",
    "session_means_unclustered = np.array(session_means_unclustered)\n",
    "session_means_not_recalled = np.array(session_means_not_recalled)\n",
    "\n",
    "# Calculate mean and SE across sessions\n",
    "mean_clustered = np.mean(session_means_clustered, axis=0)\n",
    "se_clustered = np.std(session_means_clustered, axis=0) / np.sqrt(len(sessions))\n",
    "\n",
    "mean_unclustered = np.mean(session_means_unclustered, axis=0)\n",
    "se_unclustered = np.std(session_means_unclustered, axis=0) / np.sqrt(len(sessions))\n",
    "\n",
    "mean_not_recalled = np.mean(session_means_not_recalled, axis=0)\n",
    "se_not_recalled = np.std(session_means_not_recalled, axis=0) / np.sqrt(len(sessions))"
   ]
  },
  {
   "cell_type": "code",
   "execution_count": 72,
   "id": "5c90d0da-e365-48c2-b2bf-eab0653927ed",
   "metadata": {},
   "outputs": [
    {
     "data": {
      "text/plain": [
       "array([0.04471475, 0.03687992, 0.03262109, 0.03144426, 0.03320028,\n",
       "       0.03339476, 0.03309017, 0.03345545, 0.03489055, 0.03461337,\n",
       "       0.03623082, 0.04001293, 0.04015411, 0.03807959, 0.03807192,\n",
       "       0.03810056, 0.03646697, 0.03496168, 0.03326848, 0.03100337,\n",
       "       0.02743961, 0.024039  , 0.02398981, 0.02477126, 0.02572525,\n",
       "       0.02836247, 0.02995091, 0.03364906, 0.03885967, 0.046583  ])"
      ]
     },
     "execution_count": 72,
     "metadata": {},
     "output_type": "execute_result"
    }
   ],
   "source": [
    "se_clustered"
   ]
  },
  {
   "cell_type": "code",
   "execution_count": null,
   "id": "9bdb39c1-2633-4f75-a9f3-914dafaaf7a5",
   "metadata": {},
   "outputs": [],
   "source": []
  }
 ],
 "metadata": {
  "kernelspec": {
   "display_name": "workshopJ",
   "language": "python",
   "name": "workshopj"
  },
  "language_info": {
   "codemirror_mode": {
    "name": "ipython",
    "version": 3
   },
   "file_extension": ".py",
   "mimetype": "text/x-python",
   "name": "python",
   "nbconvert_exporter": "python",
   "pygments_lexer": "ipython3",
   "version": "3.7.6"
  }
 },
 "nbformat": 4,
 "nbformat_minor": 5
}
