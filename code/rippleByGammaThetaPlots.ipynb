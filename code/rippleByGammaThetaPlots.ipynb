{
 "cells": [
  {
   "cell_type": "code",
   "execution_count": 1,
   "id": "fc17f345-6597-4a33-8ed8-1b3b07d4e1c7",
   "metadata": {},
   "outputs": [
    {
     "name": "stderr",
     "output_type": "stream",
     "text": [
      "In /home1/john/anaconda3/envs/workshopJ/lib/python3.7/site-packages/matplotlib/mpl-data/stylelib/_classic_test.mplstyle: \n",
      "The text.latex.preview rcparam was deprecated in Matplotlib 3.3 and will be removed two minor releases later.\n",
      "In /home1/john/anaconda3/envs/workshopJ/lib/python3.7/site-packages/matplotlib/mpl-data/stylelib/_classic_test.mplstyle: \n",
      "The mathtext.fallback_to_cm rcparam was deprecated in Matplotlib 3.3 and will be removed two minor releases later.\n",
      "In /home1/john/anaconda3/envs/workshopJ/lib/python3.7/site-packages/matplotlib/mpl-data/stylelib/_classic_test.mplstyle: Support for setting the 'mathtext.fallback_to_cm' rcParam is deprecated since 3.3 and will be removed two minor releases later; use 'mathtext.fallback : 'cm' instead.\n",
      "In /home1/john/anaconda3/envs/workshopJ/lib/python3.7/site-packages/matplotlib/mpl-data/stylelib/_classic_test.mplstyle: \n",
      "The validate_bool_maybe_none function was deprecated in Matplotlib 3.3 and will be removed two minor releases later.\n",
      "In /home1/john/anaconda3/envs/workshopJ/lib/python3.7/site-packages/matplotlib/mpl-data/stylelib/_classic_test.mplstyle: \n",
      "The savefig.jpeg_quality rcparam was deprecated in Matplotlib 3.3 and will be removed two minor releases later.\n",
      "In /home1/john/anaconda3/envs/workshopJ/lib/python3.7/site-packages/matplotlib/mpl-data/stylelib/_classic_test.mplstyle: \n",
      "The keymap.all_axes rcparam was deprecated in Matplotlib 3.3 and will be removed two minor releases later.\n",
      "In /home1/john/anaconda3/envs/workshopJ/lib/python3.7/site-packages/matplotlib/mpl-data/stylelib/_classic_test.mplstyle: \n",
      "The animation.avconv_path rcparam was deprecated in Matplotlib 3.3 and will be removed two minor releases later.\n",
      "In /home1/john/anaconda3/envs/workshopJ/lib/python3.7/site-packages/matplotlib/mpl-data/stylelib/_classic_test.mplstyle: \n",
      "The animation.avconv_args rcparam was deprecated in Matplotlib 3.3 and will be removed two minor releases later.\n"
     ]
    }
   ],
   "source": [
    "%load_ext autoreload\n",
    "%autoreload\n",
    "\n",
    "import pandas as pd; pd.set_option('display.max_columns', 30)\n",
    "import numpy as np\n",
    "from cmlreaders import CMLReader, get_data_index\n",
    "import ptsa\n",
    "import sys\n",
    "import os\n",
    "import matplotlib.pyplot as plt\n",
    "import seaborn as sb\n",
    "from pylab import *\n",
    "from copy import copy\n",
    "from scipy import stats\n",
    "plt.rcParams['pdf.fonttype'] = 42; plt.rcParams['ps.fonttype'] = 42 # fix fonts for Illustrator\n",
    "sys.path.append('/home1/john/SWRrefactored/code/SWR_modules/')\n",
    "from SWRmodule import *\n",
    "from general import * #superVstack,findInd,findAinB\n",
    "from power_functions import z_score, process_power, load_z_scored_power\n",
    "\n",
    "base = '/home1/john/SWRrefactored'\n",
    "sys.path.append(f'{base}/code/')\n",
    "\n",
    "from load_data_numpy import load_data_np\n",
    "from SWRmodule import triangleSmooth\n",
    "# from comodulogram import remove_session_string, get_filtered_signal\n",
    "# from fooof import FOOOF\n",
    "\n",
    "import statsmodels.formula.api as smf\n",
    "from scipy.signal import decimate, resample, hilbert, welch, spectrogram\n",
    "from mne.time_frequency import tfr_array_morlet\n",
    "\n",
    "# # Import the time & event model objects and Bands object to manage oscillation band definitions\n",
    "# from specparam import SpectralTimeModel, SpectralTimeEventModel, Bands\n",
    "# # Import helper utilities for simulating and plotting spectrograms\n",
    "# from specparam.sim import sim_spectrogram\n",
    "# from specparam.plts.spectra import plot_spectrogram"
   ]
  },
  {
   "cell_type": "code",
   "execution_count": 180,
   "id": "f5dac9c3-36a4-4597-92ff-c8b0631f509c",
   "metadata": {},
   "outputs": [
    {
     "data": {
      "text/plain": [
       "array([ 80.        ,  87.43437519,  95.55962457, 104.43995085,\n",
       "       114.1455231 , 124.75303116, 136.34629167, 149.01691027,\n",
       "       162.86500554, 178.        ])"
      ]
     },
     "execution_count": 180,
     "metadata": {},
     "output_type": "execute_result"
    }
   ],
   "source": [
    "np.logspace(np.log10(80),np.log10(178),10)"
   ]
  },
  {
   "cell_type": "code",
   "execution_count": 3,
   "id": "5846d65a-6e2d-4517-a199-5519e465efa1",
   "metadata": {},
   "outputs": [],
   "source": [
    "# for now the plotting code only works with one region at a time\n",
    "region_name = ['HPC'] # ['ENT'] # ['AMY']\n",
    "subregion = ['ca1'] #['ca1'] # can use [''] to select ALL subregions\n",
    "task = 'catFR1' # 'catFR1'\n",
    "savePath = f'{base}/figures/'\n",
    "\n",
    "# 1 for encoding, 0 for recall\n",
    "encoding_mode_arr = [1] #[0,1] \n",
    "freq_range_str_arr = [[33.5,75],[80,178],[2,4],[7,9]] # [80,178]\n",
    "# these were selecetd to avoid 60 and 120 Hz using np.logspace(np.log10(30),np.log10(75),10)\n",
    "\n",
    "# define frequency ranges\n",
    "buffer = 2000 # time in ms to buffer trials (for Morlet)\n",
    "\n",
    "plot_error_bars = True\n",
    "\n",
    "fs = 500 # sampling rate for raw data and ripples from createEventsForDF.py"
   ]
  },
  {
   "cell_type": "code",
   "execution_count": 4,
   "id": "e797f45e-897c-4481-9c7d-21669bfa0307",
   "metadata": {
    "tags": []
   },
   "outputs": [],
   "source": [
    "# np.shape(dd_trials['ripple'])\n",
    "# np.shape(dd_trials['raw'])\n",
    "# dd_trials.keys()\n",
    "# np.unique(dd_trials['elec_labels'])"
   ]
  },
  {
   "cell_type": "code",
   "execution_count": 5,
   "id": "105c8ab8-3da0-405c-921b-f9ae99143a46",
   "metadata": {
    "tags": []
   },
   "outputs": [
    {
     "name": "stdout",
     "output_type": "stream",
     "text": [
      "Loading data\n",
      "LOADING DATA FROM: HPC FOR EXPERIMENT catFR1\n"
     ]
    },
    {
     "name": "stderr",
     "output_type": "stream",
     "text": [
      "/home1/john/anaconda3/envs/workshopJ/lib/python3.7/site-packages/numpy/core/fromnumeric.py:43: VisibleDeprecationWarning: Creating an ndarray from ragged nested sequences (which is a list-or-tuple of lists-or-tuples-or ndarrays with different lengths or shapes) is deprecated. If you meant to do this, you must specify 'dtype=object' when creating the ndarray.\n",
      "  result = getattr(asarray(obj), method)(*args, **kwds)\n"
     ]
    },
    {
     "name": "stdout",
     "output_type": "stream",
     "text": [
      "elec_by_elec_correlation\n",
      "elec_by_elec_correlation\n",
      "elec_by_elec_correlation\n",
      "elec_by_elec_correlation\n",
      "elec_by_elec_correlation\n",
      "elec_by_elec_correlation\n",
      "elec_by_elec_correlation\n",
      "elec_by_elec_correlation\n",
      "elec_by_elec_correlation\n",
      "elec_by_elec_correlation\n",
      "elec_by_elec_correlation\n",
      "elec_by_elec_correlation\n",
      "elec_by_elec_correlation\n",
      "elec_by_elec_correlation\n",
      "elec_by_elec_correlation\n",
      "elec_by_elec_correlation\n",
      "order: C\n"
     ]
    },
    {
     "name": "stderr",
     "output_type": "stream",
     "text": [
      "/home1/john/SWRrefactored/code/SWR_modules/load_data.py:433: VisibleDeprecationWarning: Creating an ndarray from ragged nested sequences (which is a list-or-tuple of lists-or-tuples-or ndarrays with different lengths or shapes) is deprecated. If you meant to do this, you must specify 'dtype=object' when creating the ndarray.\n",
      "  dd_trials[key] = np.asarray(val)\n"
     ]
    },
    {
     "name": "stdout",
     "output_type": "stream",
     "text": [
      "Generating figures for run_mode:  1\n"
     ]
    }
   ],
   "source": [
    "for encoding_mode in encoding_mode_arr:\n",
    "\n",
    "    dd_trials = load_data_np(encoding_mode,task,\n",
    "        region_name=region_name, train_only=False, subregion=subregion)\n",
    "    \n",
    "    region_str = region_name[0]\n",
    "    subregion_str = subregion[0]\n",
    "    \n",
    "    clust = dd_trials['clust_int']\n",
    "    notclust_idxs = np.argwhere(clust<0).squeeze()\n",
    "    clust_idxs = np.argwhere(clust>0).squeeze()\n",
    "    \n",
    "    if encoding_mode:\n",
    "        saveName = 'encoding_'\n",
    "        recall_str = ''\n",
    "        time = np.linspace(-0.7, 2.3, 150)\n",
    "        correct = dd_trials['correct']\n",
    "        incorrect_idxs = np.argwhere(correct==0).squeeze()\n",
    "        start_cutoff = 300 # times (in s) relative to word_on \n",
    "        end_cutoff = 1300 \n",
    "        \n",
    "    else:\n",
    "        saveName = 'recall_'\n",
    "        recall_str = '_recall'\n",
    "        time = np.linspace(-2, 2, 200)\n",
    "        start_cutoff = -1000\n",
    "        end_cutoff = 0      \n",
    "        \n",
    "    # convert time ranges to samples\n",
    "    sr_factor = 1000/fs\n",
    "    # data taken is from -1.7 to 3.3 s from word_on so account for that by adding 1700 ms\n",
    "    start_cutoff = 0\n",
    "    end_cutoff = 2500 # just take the whole range of data to better estimate Morlet\n",
    "#     start_cutoff = int((1700+start_cutoff-buffer)/sr_factor) # this comes to 0:2500 anyway\n",
    "#     end_cutoff = int((1700+end_cutoff+buffer)/sr_factor)     # ...so just index in time from here\n",
    "    \n",
    "    \n",
    "    print(\"Generating figures for run_mode: \", encoding_mode)\n",
    "    # starts with high and moves to low\n",
    "    power_z = load_z_scored_power(dd_trials, freq_range_str_arr, encoding_mode,fs,start_cutoff, end_cutoff)\n",
    "        \n",
    "    # note that output is 50 Hz (20 ms bins) since started 500 hz and decimated 10x\n",
    "    if len(subregion[0]) > 0:\n",
    "        subregion_str = f'_{subregion[0]}'\n",
    "    else:\n",
    "        subregion_str = ''           \n",
    "\n",
    "a=1;            "
   ]
  },
  {
   "cell_type": "code",
   "execution_count": 15,
   "id": "306ee27f-6e67-4b7d-8287-69622a8cca9b",
   "metadata": {},
   "outputs": [
    {
     "data": {
      "text/plain": [
       "dict_keys(['ripple', 'clust', 'correct', 'position', 'list_num', 'subj', 'sess', 'elec_names', 'elec_labels', 'serial_pos', 'raw', 'elec_by_elec_correlation', 'trial_by_trial_correlation', 'elec_ripple_rate_array', 'category_array', 'clust_int'])"
      ]
     },
     "execution_count": 15,
     "metadata": {},
     "output_type": "execute_result"
    },
    {
     "data": {
      "text/plain": [
       "(18408, 1500)"
      ]
     },
     "execution_count": 15,
     "metadata": {},
     "output_type": "execute_result"
    },
    {
     "data": {
      "text/plain": [
       "(18408, 2500)"
      ]
     },
     "execution_count": 15,
     "metadata": {},
     "output_type": "execute_result"
    },
    {
     "data": {
      "text/plain": [
       "(4, 18408, 250)"
      ]
     },
     "execution_count": 15,
     "metadata": {},
     "output_type": "execute_result"
    },
    {
     "data": {
      "text/plain": [
       "[[33.5, 75], [80, 178], [2, 4], [7, 9]]"
      ]
     },
     "execution_count": 15,
     "metadata": {},
     "output_type": "execute_result"
    },
    {
     "data": {
      "text/plain": [
       "array(['R1108J', 'R1112M', 'R1486J', 'R1501J', 'R1525J'], dtype='<U6')"
      ]
     },
     "execution_count": 15,
     "metadata": {},
     "output_type": "execute_result"
    }
   ],
   "source": [
    "dd_trials.keys()\n",
    "np.shape(dd_trials['ripple'])\n",
    "np.shape(dd_trials['raw'])\n",
    "\n",
    "np.shape(power_z)\n",
    "freq_range_str_arr\n",
    "\n",
    "unique_subs = np.unique(dd_trials['subj'])\n",
    "unique_subs"
   ]
  },
  {
   "cell_type": "code",
   "execution_count": 183,
   "id": "7c8960e2-8765-4f83-9a75-ad842b2c1c6d",
   "metadata": {},
   "outputs": [
    {
     "name": "stdout",
     "output_type": "stream",
     "text": [
      "Number of trials: 18408 from the following subs:\n"
     ]
    },
    {
     "data": {
      "text/plain": [
       "array(['R1108J', 'R1112M', 'R1486J', 'R1501J', 'R1525J'], dtype='<U6')"
      ]
     },
     "execution_count": 183,
     "metadata": {},
     "output_type": "execute_result"
    },
    {
     "data": {
      "text/plain": [
       "(4, 18408, 250)"
      ]
     },
     "execution_count": 183,
     "metadata": {},
     "output_type": "execute_result"
    },
    {
     "name": "stdout",
     "output_type": "stream",
     "text": [
      "5473 trials have ripples which is 29.73% of total\n"
     ]
    }
   ],
   "source": [
    "gamma_sd_thresh = 1.0\n",
    "\n",
    "# select a patient\n",
    "patient_idx = -1\n",
    "if patient_idx >-1: \n",
    "    sub_idxs = dd_trials['subj']==unique_subs[patient_idx]\n",
    "else:\n",
    "    sub_idxs = np.ones(len(dd_trials['subj']),dtype=bool)\n",
    "print(f'Number of trials: {sum(sub_idxs)} from the following subs:')\n",
    "np.unique(dd_trials['subj'][sub_idxs])\n",
    "      \n",
    "sub_ripples = dd_trials['ripple'][sub_idxs] # ripples are detected from -0.7 to 2.3 s @ 500 Hz\n",
    "sub_Zs = power_z[:,sub_idxs,:]\n",
    "np.shape(sub_Zs)\n",
    "ripple_start_offset = -700 # ripple matrix starts 700 ms before word_on\n",
    "ripple_start = 300 # time in ms\n",
    "ripple_end = 1300 # time in ms\n",
    "\n",
    "# note only +700 since ripple_trials go from -0.7 to 2.3 s (no buffers)\n",
    "ripple_trials = np.sum(sub_ripples[:,int((-ripple_start_offset+ripple_start)/sr_factor):\n",
    "                                   int((-ripple_start_offset+ripple_end)/sr_factor)],1)>0\n",
    "print(f'{sum(ripple_trials)} trials have ripples which is {np.round(100*sum(ripple_trials)/sum(sub_idxs),2)}% of total')\n",
    "\n",
    "z_factor = sr_factor*10 # z_score was decimated 10x\n",
    "# average z-score over time for same range as ripples\n",
    "ripple_time_range = slice(int((1700+ripple_start)/z_factor),int((1700+ripple_end)/z_factor)) # +1700 since goes from -1.7 to 3.3 s\n",
    "z_low_gamma_trials = np.mean(sub_Zs[0,:,ripple_time_range],1)>gamma_sd_thresh\n",
    "z_high_gamma_trials = np.mean(sub_Zs[1,:,ripple_time_range],1)>gamma_sd_thresh"
   ]
  },
  {
   "cell_type": "code",
   "execution_count": 176,
   "id": "91bd71fd-020f-4985-8a10-0265b3150f18",
   "metadata": {},
   "outputs": [
    {
     "data": {
      "text/plain": [
       "[<matplotlib.lines.Line2D at 0x2b36338a5c10>]"
      ]
     },
     "execution_count": 176,
     "metadata": {},
     "output_type": "execute_result"
    },
    {
     "data": {
      "text/plain": [
       "12"
      ]
     },
     "execution_count": 176,
     "metadata": {},
     "output_type": "execute_result"
    },
    {
     "data": {
      "image/png": "[encoded data removed]",
      "text/plain": [
       "<Figure size 432x288 with 1 Axes>"
      ]
     },
     "metadata": {
      "needs_background": "light"
     },
     "output_type": "display_data"
    }
   ],
   "source": [
    "plt.plot(sub_ripples[1])\n",
    "sum(sub_ripples[1])\n",
    "\n",
    "start_array,_ = getStartEndArrays(sub_ripples)\n",
    "# first bin has artificially high number due to how start_srray workxs\n",
    "start_array = start_array[:,1:] \n",
    "print(f'start array shape: {np.shape(start_array)}')"
   ]
  },
  {
   "cell_type": "code",
   "execution_count": 249,
   "id": "6aef52ce-3449-4151-ac85-964aefa31a54",
   "metadata": {},
   "outputs": [
    {
     "data": {
      "text/plain": [
       "(3536, 500)"
      ]
     },
     "execution_count": 249,
     "metadata": {},
     "output_type": "execute_result"
    },
    {
     "data": {
      "text/plain": [
       "array([0, 1, 1, ..., 0, 0, 0], dtype=uint64)"
      ]
     },
     "execution_count": 249,
     "metadata": {},
     "output_type": "execute_result"
    },
    {
     "data": {
      "text/plain": [
       "1484"
      ]
     },
     "execution_count": 249,
     "metadata": {},
     "output_type": "execute_result"
    }
   ],
   "source": [
    "np.shape(start_array[clust_clustered,ripple_swarm_start:ripple_swarm_end])\n",
    "np.sum(start_array[clust_clustered,ripple_swarm_start:ripple_swarm_end],1)\n"
   ]
  },
  {
   "cell_type": "code",
   "execution_count": 252,
   "id": "73e773b4-b60f-4a6a-afef-f82c742ed44b",
   "metadata": {},
   "outputs": [
    {
     "data": {
      "text/plain": [
       "3536"
      ]
     },
     "execution_count": 252,
     "metadata": {},
     "output_type": "execute_result"
    },
    {
     "data": {
      "text/plain": [
       "(3536,)"
      ]
     },
     "execution_count": 252,
     "metadata": {},
     "output_type": "execute_result"
    },
    {
     "data": {
      "text/plain": [
       "array([0, 1, 2, 3, 4, 5, 6], dtype=uint64)"
      ]
     },
     "execution_count": 252,
     "metadata": {},
     "output_type": "execute_result"
    }
   ],
   "source": [
    "sum(clust_clustered)\n",
    "np.shape(np.sum(start_array[clust_clustered,ripple_swarm_start:ripple_swarm_end],1))\n",
    "np.unique(np.sum(start_array[clust_clustered,ripple_swarm_start:ripple_swarm_end],1))"
   ]
  },
  {
   "cell_type": "code",
   "execution_count": 270,
   "id": "91b6c18e-9f44-4f40-9714-edbbf930c287",
   "metadata": {},
   "outputs": [
    {
     "name": "stderr",
     "output_type": "stream",
     "text": [
      "/home1/john/SWRrefactored/code/SWR_modules/SWRmodule.py:1389: VisibleDeprecationWarning: Creating an ndarray from ragged nested sequences (which is a list-or-tuple of lists-or-tuples-or ndarrays with different lengths or shapes) is deprecated. If you meant to do this, you must specify 'dtype=object' when creating the ndarray.\n",
      "  norm_count = count/np.array((num_trials*binsize/1000))\n"
     ]
    },
    {
     "data": {
      "image/png": "[encoded data removed]",
      "text/plain": [
       "<Figure size 576x576 with 3 Axes>"
      ]
     },
     "metadata": {
      "needs_background": "light"
     },
     "output_type": "display_data"
    }
   ],
   "source": [
    "import seaborn as sb\n",
    "from scipy.signal import decimate\n",
    "import matplotlib.gridspec as gridspec\n",
    "\n",
    "# Function parameters\n",
    "bin_size = 100  # in ms\n",
    "smoothing_triangle = 5  # triangular smoothing window width\n",
    "swarm_ylimits = (-0.1,7)\n",
    "\n",
    "trial_select = ~z_low_gamma_trials\n",
    "\n",
    "ripple_swarm_start = int((-ripple_start_offset+ripple_start)/sr_factor)\n",
    "ripple_swarm_end = int((-ripple_start_offset+ripple_end)/sr_factor)\n",
    "ripple_swarm_duration = (ripple_end-ripple_start)/1000 # convert to seconds\n",
    "\n",
    "# Apply the clust variable to split data into clustered, unclustered, and not recalled\n",
    "clust_clustered = clust > 1\n",
    "clust_unclustered = clust < 0\n",
    "clust_not_recalled = clust == 0\n",
    "\n",
    "# calculate ripple means for each\n",
    "mean_ripple_clustered = np.sum(start_array[trial_select&clust_clustered,ripple_swarm_start:ripple_swarm_end],1)/ripple_swarm_duration\n",
    "mean_ripple_unclustered = np.sum(start_array[trial_select&clust_unclustered,ripple_swarm_start:ripple_swarm_end],1)/ripple_swarm_duration\n",
    "mean_ripple_not_recalled = np.sum(start_array[trial_select&clust_not_recalled,ripple_swarm_start:ripple_swarm_end],1)/ripple_swarm_duration\n",
    "               \n",
    "# Set up the figure with GridSpec\n",
    "fig = plt.figure(figsize=(8, 8))\n",
    "gs = gridspec.GridSpec(2, 4, height_ratios=[2, 2], width_ratios=[3,3,3,1])\n",
    "\n",
    "# Bin and combine data for swarm plot\n",
    "data_combined = np.concatenate([mean_ripple_clustered, mean_ripple_unclustered, mean_ripple_not_recalled])\n",
    "labels = (['Clustered'] * len(mean_ripple_clustered) +\n",
    "          ['Unclustered'] * len(mean_ripple_unclustered) +\n",
    "          ['Not Recalled'] * len(mean_ripple_not_recalled))\n",
    "\n",
    "# Create the swarmplot (span all columns)\n",
    "ax_swarm = fig.add_subplot(gs[0, :3])\n",
    "sb.stripplot(x=labels, y=data_combined, palette=[palette['Clustered'], palette['Unclustered'], palette['Not Recalled']], size=1.5,jitter=True)\n",
    "# sb.swarmplot(x=labels, y=data_combined, palette=[palette['Clustered'], palette['Unclustered'], palette['Not Recalled']], size=1.5,jitter=True)\n",
    "ax_swarm.set_ylabel('Ripple rate by trial (Hz)')\n",
    "ax_swarm.set_xlabel('')\n",
    "ax_swarm.set_ylim(swarm_ylimits)\n",
    "ax_swarm.set_xticklabels(ax_swarm.get_xticklabels(), rotation=45, ha=\"center\")\n",
    "\n",
    "# Add the KDE plot to the right of the swarm plot\n",
    "ax_kde = fig.add_subplot(gs[0, 3])\n",
    "sb.kdeplot(y=mean_ripple_clustered, ax=ax_kde, color=palette['Clustered'], fill=False, label='Clustered',common_norm=False)\n",
    "sb.kdeplot(y=mean_ripple_unclustered, ax=ax_kde, color=palette['Unclustered'], fill=False, label='Unclustered',common_norm=False)\n",
    "sb.kdeplot(y=mean_ripple_not_recalled, ax=ax_kde, color=palette['Not Recalled'], fill=False, label='Not Recalled',common_norm=False)\n",
    "ax_kde.set_ylim(swarm_ylimits)\n",
    "ax_kde.set_xlabel('Density')\n",
    "ax_kde.set_xlim(0,2.5)\n",
    "\n",
    "# Calculate PSTH for each group\n",
    "ripple_PSTH_clustered, bin_centers = fullPSTH(start_array[trial_select&\n",
    "clust_clustered], bin_size, smoothing_triangle, fs, ripple_start_offset)\n",
    "ripple_PSTH_unclustered, _ = fullPSTH(start_array[trial_select&\n",
    "clust_unclustered], bin_size, smoothing_triangle, fs, ripple_start_offset)\n",
    "ripple_PSTH_not_recalled, _ = fullPSTH(start_array[trial_select&\n",
    "clust_not_recalled], bin_size, smoothing_triangle, fs, ripple_start_offset)\n",
    "\n",
    "ax_psth = fig.add_subplot(gs[1, :3])\n",
    "ax_psth.plot(bin_centers/1000, ripple_PSTH_clustered, label='Clustered', color=palette['Clustered'])\n",
    "ax_psth.plot(bin_centers/1000, ripple_PSTH_unclustered, label='Unclustered', color=palette['Unclustered'])\n",
    "ax_psth.plot(bin_centers/1000, ripple_PSTH_not_recalled, label='Not Recalled', color=palette['Not Recalled'])\n",
    "ax_psth.axvline(x=0.0, color='black', linestyle='--')\n",
    "ax_psth.axvline(x=1.6, color='black', linestyle='--')\n",
    "ax_psth.set_xlabel('Time (s)')\n",
    "ax_psth.set_xlim(-0.25, 2.05)\n",
    "ax_psth.set_ylim(0,0.5)\n",
    "ax_psth.set_ylabel('Ripple rate (Hz)')\n",
    "\n",
    "# Adjust layout\n",
    "plt.tight_layout(h_pad=2)\n",
    "plt.show();\n"
   ]
  },
  {
   "cell_type": "code",
   "execution_count": 265,
   "id": "568c9108-511d-40ae-b16b-7488b04259c2",
   "metadata": {},
   "outputs": [
    {
     "data": {
      "text/plain": [
       "array([1., 0., 0., ..., 0., 0., 0.])"
      ]
     },
     "execution_count": 265,
     "metadata": {},
     "output_type": "execute_result"
    },
    {
     "data": {
      "text/plain": [
       "array([0., 1., 2., 3., 4., 6.])"
      ]
     },
     "execution_count": 265,
     "metadata": {},
     "output_type": "execute_result"
    },
    {
     "data": {
      "text/plain": [
       "1041"
      ]
     },
     "execution_count": 265,
     "metadata": {},
     "output_type": "execute_result"
    }
   ],
   "source": [
    "mean_ripple_clustered\n",
    "np.unique(mean_ripple_clustered)\n",
    "len(mean_ripple_clustered)"
   ]
  },
  {
   "cell_type": "code",
   "execution_count": null,
   "id": "1dd3f45d-ab40-42c1-9013-3254fb7bc319",
   "metadata": {},
   "outputs": [],
   "source": [
    "to get error bars:\n",
    "    "
   ]
  },
  {
   "cell_type": "code",
   "execution_count": null,
   "id": "63eeb3a0-ba01-4234-8fca-4cade459c101",
   "metadata": {},
   "outputs": [],
   "source": [
    "# get binned start array (trials X bins)\n",
    "    binned_start_array = binBinaryArray(temp_start_array,bin_size,sr_factor)\n",
    "    print('done making binned start_array with shape:')\n",
    "    print(binned_start_array.shape)\n",
    "\n",
    "    # note that output is the net ± distance from mean\n",
    "    with warnings.catch_warnings():\n",
    "        warnings.filterwarnings(\"ignore\")    \n",
    "        mean_plot,SE_plot = getMixedEffectMeanSEs(binned_start_array,sub_name_array,sess_name_array)\n",
    "    print('SEs created!')\n",
    "    \n",
    "    if plot_ME_mean == 1:\n",
    "        PSTH = triangleSmooth(mean_plot,smoothing_triangle) # replace PSTH with means from ME model (after smoothing as usual)  \n",
    "    elif plot_ME_mean == 2:\n",
    "        temp_means = []\n",
    "        for sub in np.unique(sub_name_array):\n",
    "            temp_means = superVstack(temp_means,np.mean(binned_start_array[np.array(sub_name_array)==sub],0))\n",
    "        PSTH = triangleSmooth(np.mean(temp_means,0),smoothing_triangle)\n",
    "        SE_sub_level = np.std(temp_means,0)/np.sqrt(len(temp_means)) "
   ]
  },
  {
   "cell_type": "code",
   "execution_count": null,
   "id": "33845730-a6a3-440b-857e-cd3f1a374290",
   "metadata": {},
   "outputs": [],
   "source": []
  },
  {
   "cell_type": "code",
   "execution_count": 11,
   "id": "97b2d2a4-0df1-457f-ac33-05b4d00d810c",
   "metadata": {},
   "outputs": [
    {
     "data": {
      "text/plain": [
       "1047"
      ]
     },
     "execution_count": 11,
     "metadata": {},
     "output_type": "execute_result"
    },
    {
     "data": {
      "text/plain": [
       "1004"
      ]
     },
     "execution_count": 11,
     "metadata": {},
     "output_type": "execute_result"
    },
    {
     "data": {
      "text/plain": [
       "317"
      ]
     },
     "execution_count": 11,
     "metadata": {},
     "output_type": "execute_result"
    },
    {
     "data": {
      "text/plain": [
       "985"
      ]
     },
     "execution_count": 11,
     "metadata": {},
     "output_type": "execute_result"
    },
    {
     "data": {
      "text/plain": [
       "541"
      ]
     },
     "execution_count": 11,
     "metadata": {},
     "output_type": "execute_result"
    }
   ],
   "source": [
    "sum(~ripple_trials & z_high_gamma_trials)\n",
    "sum(~ripple_trials & z_low_gamma_trials)\n",
    "sum(~ripple_trials & z_low_gamma_trials & z_high_gamma_trials)\n",
    "sum(ripple_trials & z_low_gamma_trials)\n",
    "sum(ripple_trials & z_low_gamma_trials & z_high_gamma_trials)"
   ]
  },
  {
   "cell_type": "code",
   "execution_count": 12,
   "id": "850eb22e-e041-4aa7-bc72-f773c505cdac",
   "metadata": {},
   "outputs": [
    {
     "data": {
      "text/plain": [
       "1518"
      ]
     },
     "execution_count": 12,
     "metadata": {},
     "output_type": "execute_result"
    },
    {
     "data": {
      "text/plain": [
       "985"
      ]
     },
     "execution_count": 12,
     "metadata": {},
     "output_type": "execute_result"
    },
    {
     "data": {
      "text/plain": [
       "858"
      ]
     },
     "execution_count": 12,
     "metadata": {},
     "output_type": "execute_result"
    },
    {
     "data": {
      "text/plain": [
       "1047"
      ]
     },
     "execution_count": 12,
     "metadata": {},
     "output_type": "execute_result"
    },
    {
     "data": {
      "text/plain": [
       "1004"
      ]
     },
     "execution_count": 12,
     "metadata": {},
     "output_type": "execute_result"
    },
    {
     "data": {
      "text/plain": [
       "1131"
      ]
     },
     "execution_count": 12,
     "metadata": {},
     "output_type": "execute_result"
    }
   ],
   "source": [
    "sum(ripple_trials & z_high_gamma_trials)\n",
    "sum(z_low_gamma_trials & ripple_trials)\n",
    "sum(z_low_gamma_trials & z_high_gamma_trials)\n",
    "sum(~ripple_trials & z_high_gamma_trials)\n",
    "sum(z_low_gamma_trials & ~ripple_trials)\n",
    "sum(z_low_gamma_trials & ~z_high_gamma_trials)"
   ]
  },
  {
   "cell_type": "code",
   "execution_count": 13,
   "id": "4c7dff15-2234-4f5b-bc05-a41bfb46827f",
   "metadata": {},
   "outputs": [
    {
     "data": {
      "text/plain": [
       "[<matplotlib.lines.Line2D at 0x2b362f076e50>]"
      ]
     },
     "execution_count": 13,
     "metadata": {},
     "output_type": "execute_result"
    },
    {
     "data": {
      "image/png": "[encoded data removed]",
      "text/plain": [
       "<Figure size 432x288 with 1 Axes>"
      ]
     },
     "metadata": {
      "needs_background": "light"
     },
     "output_type": "display_data"
    },
    {
     "data": {
      "text/plain": [
       "[<matplotlib.lines.Line2D at 0x2b362fe52fd0>]"
      ]
     },
     "execution_count": 13,
     "metadata": {},
     "output_type": "execute_result"
    },
    {
     "data": {
      "image/png": "[encoded data removed]",
      "text/plain": [
       "<Figure size 432x288 with 1 Axes>"
      ]
     },
     "metadata": {
      "needs_background": "light"
     },
     "output_type": "display_data"
    }
   ],
   "source": [
    "for pp in range(2):\n",
    "    plt.plot(np.mean(power_z[pp,:,50:200],0))\n",
    "    plt.show() \n",
    "    "
   ]
  },
  {
   "cell_type": "code",
   "execution_count": null,
   "id": "3913c9e4-ccef-4db3-a646-cbf3f33aeb3f",
   "metadata": {},
   "outputs": [],
   "source": []
  },
  {
   "cell_type": "code",
   "execution_count": null,
   "id": "cb130c88-c9b1-47c7-acc6-66a0d2abda88",
   "metadata": {},
   "outputs": [],
   "source": []
  },
  {
   "cell_type": "markdown",
   "id": "2c506ba6-e0a3-435b-9572-0823f6b86ac4",
   "metadata": {},
   "source": [
    "# Ebrahim's combo of HFA/theta figures"
   ]
  },
  {
   "cell_type": "code",
   "execution_count": 14,
   "id": "f3505e76-c86f-4947-bf23-7ed5308f985d",
   "metadata": {},
   "outputs": [
    {
     "name": "stdout",
     "output_type": "stream",
     "text": [
      "Loading data\n",
      "LOADING DATA FROM: HPC FOR EXPERIMENT catFR1\n"
     ]
    },
    {
     "name": "stderr",
     "output_type": "stream",
     "text": [
      "/home1/john/anaconda3/envs/workshopJ/lib/python3.7/site-packages/numpy/core/fromnumeric.py:43: VisibleDeprecationWarning: Creating an ndarray from ragged nested sequences (which is a list-or-tuple of lists-or-tuples-or ndarrays with different lengths or shapes) is deprecated. If you meant to do this, you must specify 'dtype=object' when creating the ndarray.\n",
      "  result = getattr(asarray(obj), method)(*args, **kwds)\n"
     ]
    },
    {
     "name": "stdout",
     "output_type": "stream",
     "text": [
      "elec_by_elec_correlation\n",
      "elec_by_elec_correlation\n",
      "elec_by_elec_correlation\n",
      "elec_by_elec_correlation\n",
      "elec_by_elec_correlation\n",
      "elec_by_elec_correlation\n",
      "elec_by_elec_correlation\n",
      "elec_by_elec_correlation\n",
      "elec_by_elec_correlation\n",
      "elec_by_elec_correlation\n",
      "elec_by_elec_correlation\n",
      "elec_by_elec_correlation\n",
      "elec_by_elec_correlation\n",
      "elec_by_elec_correlation\n",
      "elec_by_elec_correlation\n",
      "elec_by_elec_correlation\n",
      "order: C\n"
     ]
    },
    {
     "name": "stderr",
     "output_type": "stream",
     "text": [
      "/home1/john/SWRrefactored/code/SWR_modules/load_data.py:433: VisibleDeprecationWarning: Creating an ndarray from ragged nested sequences (which is a list-or-tuple of lists-or-tuples-or ndarrays with different lengths or shapes) is deprecated. If you meant to do this, you must specify 'dtype=object' when creating the ndarray.\n",
      "  dd_trials[key] = np.asarray(val)\n"
     ]
    },
    {
     "ename": "NameError",
     "evalue": "name 'high_fq_range' is not defined",
     "output_type": "error",
     "traceback": [
      "\u001b[0;31m---------------------------------------------------------------------------\u001b[0m",
      "\u001b[0;31mNameError\u001b[0m                                 Traceback (most recent call last)",
      "\u001b[0;32m/tmp/ipykernel_33138/2338335521.py\u001b[0m in \u001b[0;36m<module>\u001b[0;34m\u001b[0m\n\u001b[1;32m     30\u001b[0m \u001b[0;31m#     start_time =\u001b[0m\u001b[0;34m\u001b[0m\u001b[0;34m\u001b[0m\u001b[0;34m\u001b[0m\u001b[0m\n\u001b[1;32m     31\u001b[0m     for power_z, ylabel in load_z_scored_power(dd_trials, freq_range_str_arr, encoding_mode,\n\u001b[0;32m---> 32\u001b[0;31m                                               high_fq_range, low_fq_range):\n\u001b[0m\u001b[1;32m     33\u001b[0m \u001b[0;34m\u001b[0m\u001b[0m\n\u001b[1;32m     34\u001b[0m         \u001b[0;32mif\u001b[0m \u001b[0mlen\u001b[0m\u001b[0;34m(\u001b[0m\u001b[0msubregion\u001b[0m\u001b[0;34m[\u001b[0m\u001b[0;36m0\u001b[0m\u001b[0;34m]\u001b[0m\u001b[0;34m)\u001b[0m \u001b[0;34m>\u001b[0m \u001b[0;36m0\u001b[0m\u001b[0;34m:\u001b[0m\u001b[0;34m\u001b[0m\u001b[0;34m\u001b[0m\u001b[0m\n",
      "\u001b[0;31mNameError\u001b[0m: name 'high_fq_range' is not defined"
     ]
    }
   ],
   "source": [
    "for encoding_mode in encoding_mode_arr:\n",
    "\n",
    "    dd_trials = load_data_np(encoding_mode,task,\n",
    "        region_name=region_name, train_only=False, subregion=subregion)\n",
    "    \n",
    "    region_str = region_name[0]\n",
    "    subregion_str = subregion[0]\n",
    "    \n",
    "    ### clust key ###\n",
    "    # -2: dead end, -1 remote unclustered, 0 not recalled, \n",
    "    # +1 temporal adjacent, +2 remote semantic, +3 adjacent semantic    \n",
    "    #################\n",
    "    clust = dd_trials['clust_int']\n",
    "    notclust_idxs = np.argwhere(clust<0).squeeze()\n",
    "    clust_idxs = np.argwhere(clust>0).squeeze()\n",
    "    \n",
    "    if encoding_mode:\n",
    "        saveName = 'encoding_'\n",
    "        recall_str = ''\n",
    "        time = np.linspace(-0.7, 2.3, 150)\n",
    "        correct = dd_trials['correct']\n",
    "        incorrect_idxs = np.argwhere(correct==0).squeeze()\n",
    "        \n",
    "    else:\n",
    "        saveName = 'recall_'\n",
    "        recall_str = '_recall'\n",
    "        time = np.linspace(-2, 2, 200)\n",
    "    \n",
    "    # times relative to -1.7 to 3.3 s from word_on\n",
    "#     start_time = \n",
    "    for power_z, ylabel in load_z_scored_power(dd_trials, freq_range_str_arr, encoding_mode,\n",
    "                                              high_fq_range, low_fq_range):\n",
    "\n",
    "        if len(subregion[0]) > 0:\n",
    "            subregion_str = f'_{subregion[0]}'\n",
    "        else:\n",
    "            subregion_str = ''\n",
    "            \n",
    "        if 'Gamma' in ylabel:\n",
    "            fq_range = high_fq_range\n",
    "        elif 'Theta' in ylabel:\n",
    "            fq_range = low_fq_range\n",
    "    \n",
    "        # loop through sub-bands of gamma or theta\n",
    "        for power_z_i, f in zip(power_z, fq_range): \n",
    "\n",
    "            plt.figure(figsize=(10,6))\n",
    "\n",
    "            # Calculate mean and SEM\n",
    "            mean_clust = np.mean(power_z_i[clust_idxs].squeeze(), axis=0)\n",
    "            mean_not_clust = np.mean(power_z_i[notclust_idxs].squeeze(), axis=0)\n",
    "            sem_clust = np.std(power_z_i[clust_idxs].squeeze(), axis=0) / np.sqrt(len(clust_idxs))\n",
    "            sem_not_clust = np.std(power_z_i[notclust_idxs].squeeze(), axis=0) / np.sqrt(len(notclust_idxs))\n",
    "            \n",
    "            # Apply smoothing\n",
    "            mean_clust_smooth = triangleSmooth(mean_clust, smoothing_triangle=5)\n",
    "            mean_not_clust_smooth = triangleSmooth(mean_not_clust, smoothing_triangle=5)\n",
    "            sem_clust_smooth = triangleSmooth(sem_clust, smoothing_triangle=5)\n",
    "            sem_not_clust_smooth = triangleSmooth(sem_not_clust, smoothing_triangle=5)\n",
    "\n",
    "            # Plotting\n",
    "            plt.plot(time, mean_clust_smooth, color='tab:blue', alpha=0.8, label=\"Clust\")\n",
    "            plt.plot(time, mean_not_clust_smooth, color='tab:orange', alpha=0.8, label=\"Not Clust\")\n",
    "            \n",
    "            if plot_error_bars:\n",
    "                plt.fill_between(time, mean_clust_smooth - sem_clust_smooth, mean_clust_smooth + sem_clust_smooth, \n",
    "                                 color='tab:blue', alpha=0.3)\n",
    "                plt.fill_between(time, mean_not_clust_smooth - sem_not_clust_smooth, mean_not_clust_smooth + sem_not_clust_smooth,\n",
    "                                 color='tab:orange', alpha=0.3)\n",
    "                \n",
    "            # plot not recalled data for encoding \n",
    "            if encoding_mode:\n",
    "                mean_not_recalled = np.mean(power_z_i[incorrect_idxs].squeeze(), axis=0)\n",
    "                mean_not_recalled_smooth = triangleSmooth(mean_not_recalled, smoothing_triangle=5)\n",
    "                \n",
    "                sem_not_recalled = np.std(power_z_i[incorrect_idxs].squeeze(), axis=0) / np.sqrt(len(incorrect_idxs))\n",
    "                sem_not_recalled_smooth = triangleSmooth(sem_not_recalled, smoothing_triangle=5)\n",
    "                                                    \n",
    "                plt.plot(time, mean_not_recalled_smooth, color='tab:pink', alpha=0.8, label=\"Not Recalled\")\n",
    "                \n",
    "                if plot_error_bars:\n",
    "                    plt.fill_between(time, mean_not_recalled - sem_not_recalled_smooth, \n",
    "                                     mean_not_recalled + sem_not_recalled_smooth, color='tab:pink', alpha=0.3)\n",
    "                \n",
    "\n",
    "            plt.axvline(0, color='black')\n",
    "            plt.ylabel(f\"{ylabel} ({f[0]}-{f[1]} Hz)\", fontsize=18)\n",
    "            plt.xlabel(\"Time\", fontsize=18)\n",
    "            sb.despine()\n",
    "            plt.legend(fontsize=16)\n",
    "            plt.savefig(f\"{savePath}/{ylabel}_{f[0]}-{f[1]}_zscore_elec_{region_str}{subregion_str}{recall_str}\", dpi=300, \n",
    "                        bbox_inches='tight')\n",
    "            plt.savefig(f\"{savePath}/{ylabel}_{f[0]}-{f[1]}_zscore_elec_{region_str}{subregion_str}{recall_str}.pdf\",\n",
    "                        bbox_inches='tight')\n",
    "            plt.show()\n",
    "a=1;            "
   ]
  },
  {
   "cell_type": "code",
   "execution_count": null,
   "id": "1ed3879a-9224-4725-956e-2863c0d9d84a",
   "metadata": {},
   "outputs": [],
   "source": [
    "plt.plot(np.mean(filtered_sig_power[2, selected_elec_idxs].squeeze(),axis=0))\n",
    "plt.show()\n",
    "plt.plot(np.mean(filtered_sig_power[1, selected_elec_idxs].squeeze(),axis=0))\n",
    "plt.show()\n",
    "plt.plot(np.mean(filtered_sig_power[0, selected_elec_idxs].squeeze(),axis=0))\n",
    "plt.show()\n"
   ]
  },
  {
   "cell_type": "code",
   "execution_count": null,
   "id": "6e15b07c-db04-4fb6-9d3a-70415f07b9ef",
   "metadata": {},
   "outputs": [],
   "source": [
    "from neurodsp.timefrequency.wavelets import compute_wavelet_transform\n",
    "from mne.time_frequency import tfr_array_morlet\n",
    "from neurodsp.plts import plot_time_series, plot_timefrequency"
   ]
  },
  {
   "cell_type": "code",
   "execution_count": null,
   "id": "48607525-d5be-4677-ac2d-3e955f0cbe49",
   "metadata": {},
   "outputs": [],
   "source": [
    "frequencies_low = [1,2,3,4,5,6,7,8,9,10]\n",
    "frequencies_high = np.arange(10,156,5)\n",
    "frequencies = np.hstack((frequencies_low, frequencies_high))\n",
    "n_freqs = frequencies.shape[0]\n",
    "n_cycles = np.floor(np.linspace(2,15,n_freqs))"
   ]
  },
  {
   "cell_type": "code",
   "execution_count": null,
   "id": "52dab360-bf52-494e-9470-6274dec7d8d9",
   "metadata": {},
   "outputs": [],
   "source": [
    "# Define general settings for across the example\n",
    "for selected_elec in np.unique(subj_elec_sess_labels):\n",
    "    print(selected_elec)\n",
    "    #selected_elec = best_power_elec\n",
    "    selected_elec_idxs = np.argwhere(subj_elec_sess_labels==selected_elec)\n",
    "    raw_data_elec = raw_data[selected_elec_idxs].squeeze()\n",
    "    fs = 500\n",
    "\n",
    "    buffer = 500\n",
    "\n",
    "    power_elec = tfr_array_morlet(np.expand_dims(raw_data_elec, axis=1), sfreq=500, \n",
    "                                  freqs=frequencies, output='power', n_cycles=n_cycles)\n",
    "    mwt = np.mean(power_elec.squeeze()[:, :, buffer:-buffer],axis=0) \n",
    "\n",
    "    # Define the baseline period as -500 ms to -100 ms \n",
    "    baseline_pow = np.mean(mwt[:, 100:300],axis=1)\n",
    "\n",
    "    mwt = mwt/np.expand_dims(baseline_pow,axis=1)\n",
    "\n",
    "    mwt_decibal = 10 * np.log10(mwt[:, 350:1100])\n",
    "\n",
    "    # plot data from 0 - 1500 ms \n",
    "    times = np.linspace(0,1.5,750)\n",
    "    plt.pcolormesh(times, frequencies, mwt_decibal, shading='gouraud')\n",
    "    plt.colorbar(label='Baseline Normalized Power (dB)')\n",
    "    plt.xlabel(\"Time after word onset (sec)\", fontsize=14)\n",
    "    plt.ylabel(\"Frequency (Hz)\", fontsize=14)\n",
    "    plt.title(selected_elec, fontsize=16)\n",
    "    plt.savefig(f'baselinenorm_spectrograms/{selected_elec}_6_16', dpi=300)\n",
    "    plt.close()"
   ]
  },
  {
   "cell_type": "code",
   "execution_count": null,
   "id": "37abfe22-fc2e-4986-91b5-3d65bd5f00bc",
   "metadata": {},
   "outputs": [],
   "source": [
    "power_elec = tfr_array_morlet(np.expand_dims(raw_data, axis=1), sfreq=500, \n",
    "                              freqs=frequencies, output='power', n_cycles=n_cycles)\n",
    "mwt = np.mean(power_elec.squeeze()[:, :, buffer:-buffer],axis=0) \n",
    "\n",
    "# Define the baseline period as -500 ms to -100 ms \n",
    "baseline_pow = np.mean(mwt[:, 100:300],axis=1)\n",
    "\n",
    "mwt = mwt/np.expand_dims(baseline_pow,axis=1)\n",
    "\n",
    "mwt_decibal = 10 * np.log10(mwt[:, 350:1100])\n",
    "\n",
    "# plot data from 0 - 1500 ms \n",
    "times = np.linspace(0,1.5,750)\n",
    "plt.pcolormesh(times, frequencies, mwt_decibal, shading='gouraud')\n",
    "plt.colorbar(label='Baseline Normalized Power (dB)')\n",
    "plt.xlabel(\"Time after word onset (sec)\", fontsize=14)\n",
    "plt.ylabel(\"Frequency (Hz)\", fontsize=14)\n",
    "plt.title(selected_elec, fontsize=16)\n",
    "plt.savefig(f'baselinenorm_spectrograms/{selected_elec}_6_16', dpi=300)\n",
    "plt.close()"
   ]
  },
  {
   "cell_type": "code",
   "execution_count": null,
   "id": "2293f1f9-0235-47c3-8d1b-2a4621c9d509",
   "metadata": {},
   "outputs": [],
   "source": [
    "# Create a mask where True indicates values above the threshold\n",
    "significant_mask = mwt_decibal > 0.5\n",
    "\n",
    "# Plot the significant mask\n",
    "plt.figure(figsize=(10, 6))\n",
    "plt.yticks(np.arange(0, len(frequencies), 10), frequencies[::10]) \n",
    "plt.imshow(significant_mask, aspect='auto', origin='lower')\n",
    "plt.show()\n"
   ]
  },
  {
   "cell_type": "code",
   "execution_count": null,
   "id": "8afdfe46-e263-4f5b-9eff-b85b91aef53e",
   "metadata": {},
   "outputs": [],
   "source": [
    "# Store the results\n",
    "Pxx_base_list = []\n",
    "Pxx_list = []\n",
    "\n",
    "fs = 500\n",
    "nperseg = 256\n",
    "n_trials = raw_data_elec.shape[0]\n",
    "\n",
    "start_roi = 200\n",
    "end_roi = 1200\n",
    "baseline_start = -700\n",
    "baseline_end = 300\n",
    "\n",
    "sr_factor = 1000 / fs\n",
    "# convert to indices based on start time and sampling rate factor\n",
    "start_idx = int((start_roi - start_time)/sr_factor)\n",
    "end_idx = int((end_roi-start_time)/sr_factor)\n",
    "\n",
    "# convert to indices based on start time and sampling rate factor\n",
    "baseline_start_idx = int((baseline_start - start_time)/sr_factor)\n",
    "baseline_end_idx = int((baseline_end - start_time)/sr_factor)\n",
    "\n",
    "nperseg = int(end_idx - start_idx)\n",
    "nperseg_base = int(baseline_end_idx - baseline_start_idx)\n",
    "\n",
    "for trial in range(n_trials):\n",
    "    f, Pxx = welch(raw_data_elec[trial, start_idx:end_idx], \n",
    "                   fs=fs, nperseg=nperseg)\n",
    "    f_base, Pxx_base = welch(raw_data_elec[trial, baseline_start_idx:baseline_end_idx], \n",
    "                   fs=fs, nperseg=nperseg_base)\n",
    "\n",
    "    Pxx_list.append(Pxx)\n",
    "    Pxx_base_list.append(Pxx_base)\n",
    "    \n",
    "\n",
    "Pxx_array = np.array(Pxx_list)\n",
    "Pxx_base_array = np.array(Pxx_base_list)\n",
    "\n",
    "Pxx_mean = np.mean(Pxx_array, axis=0)\n",
    "Pxx_base_mean = np.mean(Pxx_base_array, axis=0)\n",
    "\n",
    "\n",
    "# Plot the averaged periodogram\n",
    "plt.figure()\n",
    "plt.semilogy(f, Pxx_mean)\n",
    "plt.semilogy(f_base, Pxx_base_mean)\n",
    "plt.xlabel('Frequency [Hz]')\n",
    "plt.ylabel('Power spectral density [V^2/Hz]')\n",
    "plt.title('Averaged Welch Periodogram')\n",
    "plt.show()\n"
   ]
  },
  {
   "cell_type": "code",
   "execution_count": null,
   "id": "fefcc6ac-1dc7-40bb-88b2-c3056085309c",
   "metadata": {},
   "outputs": [],
   "source": [
    "plot_end_idx = 119 # 170 Hz\n",
    "Pxx_diff = Pxx_mean-Pxx_base_mean\n",
    "Pxx_diff_mean = np.mean(Pxx_diff)\n",
    "Pxx_diff_std = np.std(Pxx_diff)\n",
    "plt.axhline(Pxx_diff_mean+Pxx_diff_std*2, color='black', alpha=0.6, linestyle='--')\n",
    "plt.plot(f[:plot_end_idx], Pxx_diff[:plot_end_idx], linewidth=3)\n",
    "plt.show()"
   ]
  },
  {
   "cell_type": "code",
   "execution_count": null,
   "id": "06ad3d01-42b4-4db3-8e44-22c29dcd23fd",
   "metadata": {},
   "outputs": [],
   "source": [
    "np.argwhere(f==max_freq_to_plot)"
   ]
  },
  {
   "cell_type": "code",
   "execution_count": null,
   "id": "14bee991-4806-4711-b7a2-833a0174b63b",
   "metadata": {},
   "outputs": [],
   "source": [
    "# Initialize a model object\n",
    "fm = FOOOF(peak_width_limits=[1.2,12], aperiodic_mode='knee')\n",
    "\n",
    "# Set the frequency range to fit the model\n",
    "freq_range = [0.1,150]\n",
    "\n",
    "# Report: fit the model, print the resulting parameters, and plot the reconstruction\n",
    "fm.report(f, Pxx_mean, freq_range)"
   ]
  },
  {
   "cell_type": "code",
   "execution_count": null,
   "id": "3874aaa6-fa01-4d73-b398-8d127f94e8ad",
   "metadata": {},
   "outputs": [],
   "source": [
    "fs = 1  # Sampling frequency, adjust as per your data\n",
    "nperseg = 1500  # Length of each segment\n",
    "\n",
    "# Store the results\n",
    "f_list = []\n",
    "Pxx_list = []\n",
    "\n",
    "for trial in range(n_trials):\n",
    "    f, Pxx = welch(data[trial, :], fs=fs, nperseg=nperseg)\n",
    "    f_list.append(f)\n",
    "    Pxx_list.append(Pxx)\n",
    "\n",
    "# Convert lists to numpy arrays for easier handling\n",
    "f_array = np.array(f_list)\n",
    "Pxx_array = np.array(Pxx_list)"
   ]
  }
 ],
 "metadata": {
  "kernelspec": {
   "display_name": "workshopJ",
   "language": "python",
   "name": "workshopj"
  },
  "language_info": {
   "codemirror_mode": {
    "name": "ipython",
    "version": 3
   },
   "file_extension": ".py",
   "mimetype": "text/x-python",
   "name": "python",
   "nbconvert_exporter": "python",
   "pygments_lexer": "ipython3",
   "version": "3.7.6"
  }
 },
 "nbformat": 4,
 "nbformat_minor": 5
}
