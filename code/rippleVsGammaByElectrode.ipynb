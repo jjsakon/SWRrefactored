{
 "cells": [
  {
   "cell_type": "code",
   "execution_count": 48,
   "id": "fc17f345-6597-4a33-8ed8-1b3b07d4e1c7",
   "metadata": {},
   "outputs": [
    {
     "name": "stdout",
     "output_type": "stream",
     "text": [
      "The autoreload extension is already loaded. To reload it, use:\n",
      "  %reload_ext autoreload\n"
     ]
    }
   ],
   "source": [
    "%load_ext autoreload\n",
    "%autoreload\n",
    "\n",
    "import pandas as pd; pd.set_option('display.max_columns', 30); pd.set_option('display.max_rows', 100)\n",
    "import numpy as np\n",
    "from cmlreaders import CMLReader, get_data_index\n",
    "import ptsa\n",
    "import sys\n",
    "import os\n",
    "import matplotlib.pyplot as plt\n",
    "import seaborn as sb\n",
    "from pylab import *\n",
    "from copy import copy\n",
    "from scipy import stats\n",
    "plt.rcParams['pdf.fonttype'] = 42; plt.rcParams['ps.fonttype'] = 42 # fix fonts for Illustrator\n",
    "sys.path.append('/home1/john/SWRrefactored/code/SWR_modules/')\n",
    "from SWRmodule import *\n",
    "from general import * #superVstack,findInd,findAinB\n",
    "from power_functions import z_score, process_power, load_z_scored_power\n",
    "\n",
    "base = '/home1/john/SWRrefactored'\n",
    "sys.path.append(f'{base}/code/')\n",
    "\n",
    "from load_data_numpy import load_data_np\n",
    "from SWRmodule import triangleSmooth\n",
    "# from comodulogram import remove_session_string, get_filtered_signal\n",
    "# from fooof import FOOOF\n",
    "\n",
    "import statsmodels.formula.api as smf\n",
    "from scipy.signal import decimate, resample, hilbert, welch, spectrogram\n",
    "from mne.time_frequency import tfr_array_morlet\n",
    "\n",
    "# # Import the time & event model objects and Bands object to manage oscillation band definitions\n",
    "# from specparam import SpectralTimeModel, SpectralTimeEventModel, Bands\n",
    "# # Import helper utilities for simulating and plotting spectrograms\n",
    "# from specparam.sim import sim_spectrogram\n",
    "# from specparam.plts.spectra import plot_spectrogram"
   ]
  },
  {
   "cell_type": "code",
   "execution_count": 127,
   "id": "5846d65a-6e2d-4517-a199-5519e465efa1",
   "metadata": {},
   "outputs": [],
   "source": [
    "# for now the plotting code only works with one region at a time\n",
    "region_name = ['HPC'] # ['ENT'] # ['AMY'] ['HPC']\n",
    "subregion = ['ca1'] #['ca1'] # can use [''] to select ALL subregions\n",
    "task = 'catFR1' # 'catFR1'\n",
    "savePath = f'{base}/figures/'\n",
    "\n",
    "# 1 for encoding, 0 for recall\n",
    "encoding_mode_arr = [0] #,1] #[0,1] \n",
    "freq_range_str_arr = [[2,4],[7,9]] #,[7,9],[33.5,75],[80,120]] #[[33.5,75],[80,120]] #,[2,4],[7,9]] # [80,178]\n",
    "# these were selecetd to avoid 60 and 120 Hz using np.logspace(np.log10(30),np.log10(75),10)\n",
    "\n",
    "fs = 500 # sampling rate for raw data and ripples from createEventsForDF.py"
   ]
  },
  {
   "cell_type": "code",
   "execution_count": 128,
   "id": "105c8ab8-3da0-405c-921b-f9ae99143a46",
   "metadata": {
    "tags": []
   },
   "outputs": [
    {
     "name": "stdout",
     "output_type": "stream",
     "text": [
      "Loading data\n",
      "LOADING DATA FROM: HPC FOR EXPERIMENT catFR1\n",
      "order: C\n",
      "Generating figures for run_mode:  0\n"
     ]
    }
   ],
   "source": [
    "for encoding_mode in encoding_mode_arr:\n",
    "\n",
    "    dd_trials = load_data_np(encoding_mode,task,\n",
    "        region_name=region_name, train_only=False, subregion=subregion)\n",
    "\n",
    "    region_str = region_name[0]\n",
    "    subregion_str = subregion[0]\n",
    "    \n",
    "    clust = dd_trials['clust_int']\n",
    "    \n",
    "    start_cutoff = 0 # in samples\n",
    "    if encoding_mode == 1: # raw is from -1.7 to 3.3 s from word_on\n",
    "        saveName = 'encoding_'\n",
    "        recall_str = ''\n",
    "        correct = dd_trials['correct']\n",
    "        incorrect_idxs = np.argwhere(correct==0).squeeze()\n",
    "        end_cutoff = 2500 # just take the whole range of data to better estimate Morlet     \n",
    " \n",
    "    elif encoding_mode == 0: # raw is from -3 to 3 s from recall\n",
    "        saveName = 'recall_'\n",
    "        recall_str = '_recall'\n",
    "        end_cutoff = 3000 # just take the whole range of data to better estimate Morlet       \n",
    "\n",
    "    sr_factor = 1000/fs\n",
    "    \n",
    "    # Generate power_z\n",
    "    \n",
    "    load_anew = 0 # load power_z anew without saving or loading from previous runs\n",
    "    \n",
    "    print(\"Generating figures for run_mode: \", encoding_mode)\n",
    "    power_z = None  # Initialize power_z as None\n",
    "    if load_anew == 1: # if encoding need to save in pieces\n",
    "        # for recall can load them all together in power_z\n",
    "        power_z = load_z_scored_power(dd_trials, freq_range_str_arr, encoding_mode,fs,start_cutoff, end_cutoff)\n",
    "    else:\n",
    "        for freq in freq_range_str_arr:\n",
    "            saved_power_z_fn = f'/scratch/john/SWRrefactored/temp_dat/power_z_{task}_{saveName}{region_name[0]}_{subregion[0]}_freq{freq[0]}.npz'\n",
    "            \n",
    "            if power_z is None:\n",
    "                if os.path.exists(saved_power_z_fn):\n",
    "                    # Loading the file without creating a full copy in memory\n",
    "                    power_z = np.load(saved_power_z_fn, mmap_mode='r')['power_z']\n",
    "                else: # if hasn't been made yet: create power_z anew\n",
    "                    power_z = load_z_scored_power(dd_trials, [freq], encoding_mode, fs, start_cutoff, end_cutoff)\n",
    "                    power_z = np.expand_dims(power_z, axis=0)  # Add the first dimension\n",
    "                    np.savez_compressed(saved_power_z_fn, power_z=power_z)\n",
    "            else:\n",
    "                if os.path.exists(saved_power_z_fn):\n",
    "                    # Load the next frequency data directly into a new slice of power_z\n",
    "                    next_slice = np.load(saved_power_z_fn, mmap_mode='r')['power_z']\n",
    "                else:\n",
    "                    next_slice = load_z_scored_power(dd_trials, [freq], encoding_mode, fs, start_cutoff, end_cutoff)\n",
    "                    next_slice = np.expand_dims(next_slice, axis=0)  # Add the first dimension\n",
    "                    np.savez_compressed(saved_power_z_fn, power_z=next_slice)\n",
    "                # Append next_slice along the first dimension by expanding power_z\n",
    "                import gc # import garbage collection\n",
    "                power_z = np.concatenate((power_z, next_slice), axis=0)   \n",
    "                del next_slice # delete and trigger garbage collection\n",
    "                gc.collect()\n",
    "        \n",
    "    # note that output is 50 Hz (20 ms bins) since started 500 hz and decimated 10x\n",
    "    if len(subregion[0]) > 0:\n",
    "        subregion_str = f'_{subregion[0]}'\n",
    "    else:\n",
    "        subregion_str = ''           \n",
    "\n",
    "a=1;            "
   ]
  },
  {
   "cell_type": "code",
   "execution_count": 129,
   "id": "306ee27f-6e67-4b7d-8287-69622a8cca9b",
   "metadata": {},
   "outputs": [
    {
     "data": {
      "text/plain": [
       "dict_keys(['ripple', 'list_num', 'subj', 'sess', 'elec_names', 'elec_labels', 'clust', 'raw', 'elec_by_elec_correlation', 'serial_pos', 'recall_pos', 'trial_by_trial_correlation', 'elec_ripple_rate_array', 'clust_int'])"
      ]
     },
     "execution_count": 129,
     "metadata": {},
     "output_type": "execute_result"
    },
    {
     "data": {
      "text/plain": [
       "(23462, 2000)"
      ]
     },
     "execution_count": 129,
     "metadata": {},
     "output_type": "execute_result"
    },
    {
     "data": {
      "text/plain": [
       "(23462, 3000)"
      ]
     },
     "execution_count": 129,
     "metadata": {},
     "output_type": "execute_result"
    },
    {
     "data": {
      "text/plain": [
       "(2, 23462, 300)"
      ]
     },
     "execution_count": 129,
     "metadata": {},
     "output_type": "execute_result"
    },
    {
     "data": {
      "text/plain": [
       "[[2, 4], [7, 9]]"
      ]
     },
     "execution_count": 129,
     "metadata": {},
     "output_type": "execute_result"
    },
    {
     "data": {
      "text/plain": [
       "array(['R1004D', 'R1015J', 'R1024E', 'R1031M', 'R1032D', 'R1035M',\n",
       "       'R1045E', 'R1061T', 'R1065J', 'R1066P', 'R1086M', 'R1089P',\n",
       "       'R1092J', 'R1102P', 'R1105E', 'R1108J', 'R1112M', 'R1131M',\n",
       "       'R1138T', 'R1144E', 'R1147P', 'R1157C', 'R1158T', 'R1163T',\n",
       "       'R1171M', 'R1174T', 'R1176M', 'R1188C', 'R1192C', 'R1201P',\n",
       "       'R1204T', 'R1207J', 'R1217T', 'R1226D', 'R1228M', 'R1230J',\n",
       "       'R1236J', 'R1243T', 'R1245E', 'R1254E', 'R1260D', 'R1261P',\n",
       "       'R1269E', 'R1271P', 'R1275D', 'R1278E', 'R1279P', 'R1293P',\n",
       "       'R1310J', 'R1313J', 'R1315T', 'R1330D', 'R1332M', 'R1338T',\n",
       "       'R1342M', 'R1343J', 'R1348J', 'R1354E', 'R1366J', 'R1367D',\n",
       "       'R1368T', 'R1374T', 'R1376D', 'R1382T', 'R1383J', 'R1385E',\n",
       "       'R1387E', 'R1388T', 'R1396T', 'R1397D', 'R1398J', 'R1413D',\n",
       "       'R1445E', 'R1448T', 'R1449T', 'R1456D', 'R1465D', 'R1468J',\n",
       "       'R1472T', 'R1476J', 'R1486J', 'R1488T', 'R1497T', 'R1501J',\n",
       "       'R1515T', 'R1518T', 'R1525J', 'R1527J', 'R1533J', 'R1536J',\n",
       "       'R1541T', 'R1542J', 'R1617S', 'R1627T', 'R1635T', 'R1640T',\n",
       "       'R1670J', 'R1678T', 'R1680T'], dtype='<U6')"
      ]
     },
     "execution_count": 129,
     "metadata": {},
     "output_type": "execute_result"
    }
   ],
   "source": [
    "# info\n",
    "dd_trials.keys()\n",
    "np.shape(dd_trials['ripple'])\n",
    "np.shape(dd_trials['raw'])\n",
    "\n",
    "np.shape(power_z)\n",
    "freq_range_str_arr\n",
    "\n",
    "unique_subs = np.unique(dd_trials['subj'])\n",
    "unique_subs"
   ]
  },
  {
   "cell_type": "code",
   "execution_count": 130,
   "id": "7c8960e2-8765-4f83-9a75-ad842b2c1c6d",
   "metadata": {},
   "outputs": [
    {
     "name": "stdout",
     "output_type": "stream",
     "text": [
      "Number of trials: 23462 from the following subs:\n"
     ]
    },
    {
     "data": {
      "text/plain": [
       "array(['R1004D', 'R1015J', 'R1024E', 'R1031M', 'R1032D', 'R1035M',\n",
       "       'R1045E', 'R1061T', 'R1065J', 'R1066P', 'R1086M', 'R1089P',\n",
       "       'R1092J', 'R1102P', 'R1105E', 'R1108J', 'R1112M', 'R1131M',\n",
       "       'R1138T', 'R1144E', 'R1147P', 'R1157C', 'R1158T', 'R1163T',\n",
       "       'R1171M', 'R1174T', 'R1176M', 'R1188C', 'R1192C', 'R1201P',\n",
       "       'R1204T', 'R1207J', 'R1217T', 'R1226D', 'R1228M', 'R1230J',\n",
       "       'R1236J', 'R1243T', 'R1245E', 'R1254E', 'R1260D', 'R1261P',\n",
       "       'R1269E', 'R1271P', 'R1275D', 'R1278E', 'R1279P', 'R1293P',\n",
       "       'R1310J', 'R1313J', 'R1315T', 'R1330D', 'R1332M', 'R1338T',\n",
       "       'R1342M', 'R1343J', 'R1348J', 'R1354E', 'R1366J', 'R1367D',\n",
       "       'R1368T', 'R1374T', 'R1376D', 'R1382T', 'R1383J', 'R1385E',\n",
       "       'R1387E', 'R1388T', 'R1396T', 'R1397D', 'R1398J', 'R1413D',\n",
       "       'R1445E', 'R1448T', 'R1449T', 'R1456D', 'R1465D', 'R1468J',\n",
       "       'R1472T', 'R1476J', 'R1486J', 'R1488T', 'R1497T', 'R1501J',\n",
       "       'R1515T', 'R1518T', 'R1525J', 'R1527J', 'R1533J', 'R1536J',\n",
       "       'R1541T', 'R1542J', 'R1617S', 'R1627T', 'R1635T', 'R1640T',\n",
       "       'R1670J', 'R1678T', 'R1680T'], dtype='<U6')"
      ]
     },
     "execution_count": 130,
     "metadata": {},
     "output_type": "execute_result"
    },
    {
     "data": {
      "text/plain": [
       "(2, 20818, 300)"
      ]
     },
     "execution_count": 130,
     "metadata": {},
     "output_type": "execute_result"
    },
    {
     "name": "stdout",
     "output_type": "stream",
     "text": [
      "7329 trials have ripples which is 35.21% of total\n"
     ]
    }
   ],
   "source": [
    "gamma_sd_thresh = 0.5\n",
    "remove_first_recalls = 0 # if looking at recall might want to remove first recall of each list\n",
    "\n",
    "# select a patient?\n",
    "patient_idx = -1 # -1 means all\n",
    "\n",
    "if patient_idx >-1: \n",
    "    sub_idxs = dd_trials['subj']==unique_subs[patient_idx]\n",
    "else:\n",
    "    sub_idxs = np.ones(len(dd_trials['subj']),dtype=bool)\n",
    "print(f'Number of trials: {sum(sub_idxs)} from the following subs:')\n",
    "np.unique(dd_trials['subj'][sub_idxs])\n",
    "\n",
    "# if recalls remove the intrusions\n",
    "if encoding_mode == 0:\n",
    "    if remove_first_recalls:\n",
    "        final_sub_idxs = (sub_idxs) & (clust!=0) & (dd_trials['recall_pos']!=1)\n",
    "    else:\n",
    "        final_sub_idxs = (sub_idxs) & (clust!=0)\n",
    "else:\n",
    "    final_sub_idxs = sub_idxs\n",
    "      \n",
    "# update each variable with indices\n",
    "sub_ripples = dd_trials['ripple'][final_sub_idxs] # ripples are detected from -0.7 to 2.3 s @ 500 Hz\n",
    "if power_z.ndim == 2:\n",
    "    power_z = power_z[np.newaxis, :, :]\n",
    "sub_Zs = power_z[:,final_sub_idxs,:]\n",
    "sub_clust_ID = clust[final_sub_idxs]\n",
    "np.shape(sub_Zs)\n",
    "\n",
    "z_factor = sr_factor*10 # z_score was decimated 10x\n",
    "if encoding_mode == 1:\n",
    "    ripple_start_offset = -700 # ripple_trials go from -0.7 to 2.3 s (no buffers)\n",
    "    ripple_analysis_start = 300 # time in ms\n",
    "    ripple_analysis_end = 1300 # time in ms\n",
    "    \n",
    "    # average z-score over time for same range as ripples\n",
    "    gamma_time_range = slice(int((1700+ripple_analysis_start)/z_factor),int((1700+ripple_analysis_end)/z_factor)) # +1700 since goes from -1.7 to 3.3 s   \n",
    "    \n",
    "elif encoding_mode == 0:\n",
    "    ripple_start_offset = -2000 # ripple matrix 2000 ms on either side of recall\n",
    "    ripple_analysis_start = -1900 # time in ms\n",
    "    ripple_analysis_end = -100 # time in ms    \n",
    "\n",
    "    # average z-score over time for same range as ripples\n",
    "    gamma_time_range = slice(int((3000+ripple_analysis_start)/z_factor),int((3000+ripple_analysis_end)/z_factor)) # +3000 since goes from -3 to 3 s\n",
    "\n",
    "# check power > thresh in gamma time range\n",
    "z_low_gamma_trials = np.mean(sub_Zs[0,:,gamma_time_range],1)>gamma_sd_thresh\n",
    "if np.shape(sub_Zs)[0]>1:\n",
    "    z_high_gamma_trials = np.mean(sub_Zs[1,:,gamma_time_range],1)>gamma_sd_thresh     \n",
    "    \n",
    "ripple_trials = np.sum(sub_ripples[:,int((-ripple_start_offset+ripple_analysis_start)/sr_factor):\n",
    "                                   int((-ripple_start_offset+ripple_analysis_end)/sr_factor)],1)>0\n",
    "print(f'{sum(ripple_trials)} trials have ripples which is {np.round(100*sum(ripple_trials)/sum(final_sub_idxs),2)}% of total')\n"
   ]
  },
  {
   "cell_type": "code",
   "execution_count": 131,
   "id": "c54752e1-4be1-4a56-b8b2-b6e54439b11a",
   "metadata": {},
   "outputs": [
    {
     "name": "stdout",
     "output_type": "stream",
     "text": [
      "570 elecs\n",
      "from 189 sessions\n",
      "from 99 patients\n"
     ]
    }
   ],
   "source": [
    "print(f\"{len(np.unique(dd_trials['elec_labels'][sub_idxs]))} elecs\")\n",
    "print(f\"from {len(np.unique(dd_trials['sess'][sub_idxs]))} sessions\")\n",
    "print(f\"from {len(np.unique(dd_trials['subj'][sub_idxs]))} patients\")\n",
    "\n",
    "if region_name == ['ENT']:\n",
    "    ENT_sess = np.unique(dd_trials['sess'][sub_idxs])\n",
    "    ENT_sub = np.unique(dd_trials['subj'][sub_idxs])\n",
    "elif region_name == ['HPC']:\n",
    "    HPC_sess = np.unique(dd_trials['sess'][sub_idxs])\n",
    "    HPC_sub = np.unique(dd_trials['subj'][sub_idxs])\n",
    "elif region_name == ['AMY']:\n",
    "    AMY_sess = np.unique(dd_trials['sess'][sub_idxs])\n",
    "    AMY_sub = np.unique(dd_trials['subj'][sub_idxs])\n",
    "    \n",
    "save_sub_sess_info = 0\n",
    "\n",
    "if save_sub_sess_info == 1:\n",
    "    import pickle\n",
    "    with open('../misc/region_data.pkl', 'wb') as f:\n",
    "        pickle.dump({\n",
    "            'ENT_sess': ENT_sess,\n",
    "            'ENT_sub': ENT_sub,\n",
    "            'HPC_sess': HPC_sess,\n",
    "            'HPC_sub': HPC_sub,\n",
    "            'AMY_sess': AMY_sess,\n",
    "            'AMY_sub': AMY_sub\n",
    "        }, f)   "
   ]
  },
  {
   "cell_type": "markdown",
   "id": "d257ae37-ab00-486a-a01d-ecf5dbf9a760",
   "metadata": {},
   "source": [
    "### get start_array!"
   ]
  },
  {
   "cell_type": "code",
   "execution_count": 132,
   "id": "91bd71fd-020f-4985-8a10-0265b3150f18",
   "metadata": {},
   "outputs": [
    {
     "name": "stdout",
     "output_type": "stream",
     "text": [
      "start array shape: (20818, 1999)\n"
     ]
    }
   ],
   "source": [
    "start_array,_ = getStartEndArrays(sub_ripples)\n",
    "\n",
    "# first bin has artificially high number due to how start_srray works\n",
    "start_array = start_array[:,1:] \n",
    "print(f'start array shape: {np.shape(start_array)}')"
   ]
  },
  {
   "cell_type": "code",
   "execution_count": 133,
   "id": "fc7943b0-39ee-4d86-bcd5-a0741df700c6",
   "metadata": {},
   "outputs": [
    {
     "data": {
      "text/plain": [
       "array(['R1108J-1_RU1-RU2', 'R1108J-1_RU3-RU4', 'R1108J-1_RU4-RU5', ...,\n",
       "       'R1680T-3_LB3-LB4', 'R1680T-3_LB1-LB2', 'R1680T-3_LB3-LB4'],\n",
       "      dtype='<U24')"
      ]
     },
     "execution_count": 133,
     "metadata": {},
     "output_type": "execute_result"
    },
    {
     "data": {
      "text/plain": [
       "20818"
      ]
     },
     "execution_count": 133,
     "metadata": {},
     "output_type": "execute_result"
    },
    {
     "data": {
      "text/plain": [
       "20818"
      ]
     },
     "execution_count": 133,
     "metadata": {},
     "output_type": "execute_result"
    },
    {
     "data": {
      "text/plain": [
       "20818"
      ]
     },
     "execution_count": 133,
     "metadata": {},
     "output_type": "execute_result"
    },
    {
     "data": {
      "text/plain": [
       "(2, 20818, 300)"
      ]
     },
     "execution_count": 133,
     "metadata": {},
     "output_type": "execute_result"
    },
    {
     "data": {
      "text/plain": [
       "20818"
      ]
     },
     "execution_count": 133,
     "metadata": {},
     "output_type": "execute_result"
    }
   ],
   "source": [
    "dd_trials['elec_labels']\n",
    "len(dd_trials['elec_labels'][final_sub_idxs])\n",
    "len(dd_trials['subj'][final_sub_idxs])\n",
    "len(dd_trials['sess'][final_sub_idxs])\n",
    "np.shape(sub_Zs)\n",
    "len(sub_clust_ID)"
   ]
  },
  {
   "cell_type": "markdown",
   "id": "9df4470a-d15f-4f48-a0c6-5e4a43915b42",
   "metadata": {},
   "source": [
    "# plot ripples v. gamma by elec"
   ]
  },
  {
   "cell_type": "code",
   "execution_count": 134,
   "id": "0ceeb4c1-d3fb-4f8e-b2fd-0a4748bd8b12",
   "metadata": {},
   "outputs": [
    {
     "name": "stdout",
     "output_type": "stream",
     "text": [
      "340 of 570 elecs survive 25 min_recalls and 8 min_clust_recalls\n"
     ]
    }
   ],
   "source": [
    "min_recalls = 25\n",
    "min_clust_recalls = 8\n",
    "\n",
    "ripple_time_range = slice( int((-ripple_start_offset+ripple_analysis_start)/sr_factor),\n",
    "                        int((-ripple_start_offset+ripple_analysis_end)/sr_factor) )\n",
    "# basically *500 sr divided by 1.8 sec\n",
    "ripple_hz_conv_factor = (1000/sr_factor) / (sr_factor*(ripple_time_range.stop-ripple_time_range.start)/1000)\n",
    "\n",
    "sub_elec_labels = dd_trials['elec_labels'][final_sub_idxs]\n",
    "unique_elecs = np.unique(sub_elec_labels)\n",
    "\n",
    "# find gamma and ripple rates\n",
    "sub_ripple_elecs = []; sub_low_gamma_elecs = []; sub_high_gamma_elecs = []\n",
    "sub_ripple_elecs_clust_diff = []; sub_ripple_elecs_RECALLED_diff = []\n",
    "sub_low_gamma_elecs_clust_diff = []; sub_high_gamma_elecs_clust_diff = []\n",
    "min_trial_elecs = []; min_trials_clust_subs = []; min_trials_clust_sess = []\n",
    "min_trial_clust_elec = [];\n",
    "for i_elec,elec in enumerate(unique_elecs):\n",
    "    elec_idxs = sub_elec_labels==elec\n",
    "    temp_sub = np.unique(dd_trials['subj'][final_sub_idxs][elec_idxs])\n",
    "    temp_sess = np.unique(dd_trials['sess'][final_sub_idxs][elec_idxs])\n",
    "    if (len(temp_sub)>1) | (len(temp_sess)>1):\n",
    "        print('There is an indexing error--more than one sub or sess!!')\n",
    "        break\n",
    "        \n",
    "    sub_elec_clust_ID = sub_clust_ID[elec_idxs]\n",
    "    elec_clustered_full_scope = elec_idxs & (sub_clust_ID>1)\n",
    "    elec_unclustered_full_scope = elec_idxs & (sub_clust_ID<0)\n",
    "    elec_recalled_full_scope = elec_idxs & (sub_clust_ID != 0)\n",
    "    elec_not_recalled_full_scope = elec_idxs & (sub_clust_ID == 0)\n",
    "        \n",
    "    if (sum(elec_idxs) >= min_recalls) & \\\n",
    "        (sum(sub_elec_clust_ID>1)>=min_clust_recalls) & \\\n",
    "        (sum(sub_elec_clust_ID<0)>=min_clust_recalls):\n",
    "        min_trial_elecs.append(elec)\n",
    "        sub_ripple_elecs.append(ripple_hz_conv_factor*np.mean(start_array[elec_idxs,ripple_time_range]))\n",
    "        sub_low_gamma_elecs.append(np.mean(sub_Zs[0,elec_idxs,gamma_time_range]))\n",
    "        if len(sub_Zs) == 1: # just duplicate it so it doesn't crash...will just repeat the plot        \n",
    "            sub_high_gamma_elecs.append(np.mean(sub_Zs[0,elec_idxs,gamma_time_range]))        \n",
    "        else:\n",
    "            sub_high_gamma_elecs.append(np.mean(sub_Zs[1,elec_idxs,gamma_time_range]))        \n",
    "\n",
    "        # same but let's find diff b/w clust and unclust recalls\n",
    "        min_trial_clust_elec.append(elec) \n",
    "        min_trials_clust_subs.append(temp_sub)\n",
    "        min_trials_clust_sess.append(temp_sub)\n",
    "        \n",
    "        if encoding_mode == 1: # calculte recalled - not_recalled ripple diff (for encoding only)\n",
    "            sub_ripple_elecs_RECALLED_diff.append( ripple_hz_conv_factor*\\\n",
    "                                ( np.mean(start_array[elec_recalled_full_scope,ripple_time_range]) - \\\n",
    "                                np.mean(start_array[elec_not_recalled_full_scope,ripple_time_range]) ) )\n",
    "        # clust - unclust ripple diff\n",
    "        sub_ripple_elecs_clust_diff.append( ripple_hz_conv_factor*\\\n",
    "                            ( np.mean(start_array[elec_clustered_full_scope,ripple_time_range]) - \\\n",
    "                            np.mean(start_array[elec_unclustered_full_scope,ripple_time_range]) ) )\n",
    "        sub_low_gamma_elecs_clust_diff.append( np.mean(sub_Zs[0,elec_clustered_full_scope,gamma_time_range]) - \\\n",
    "                                               np.mean(sub_Zs[0,elec_unclustered_full_scope,gamma_time_range]) )\n",
    "        if len(sub_Zs) == 1: # just duplicate it so it doesn't crash...will just repeat the plot\n",
    "            sub_high_gamma_elecs_clust_diff.append( np.mean(sub_Zs[0,elec_clustered_full_scope,gamma_time_range]) - \\\n",
    "                                               np.mean(sub_Zs[0,elec_unclustered_full_scope,gamma_time_range]) ) \n",
    "        else:\n",
    "            sub_high_gamma_elecs_clust_diff.append( np.mean(sub_Zs[1,elec_clustered_full_scope,gamma_time_range]) - \\\n",
    "                                               np.mean(sub_Zs[1,elec_unclustered_full_scope,gamma_time_range]) )       \n",
    "\n",
    "print(f'{len(min_trial_elecs)} of {len(unique_elecs)} elecs survive {min_recalls} min_recalls and {min_clust_recalls} min_clust_recalls')\n",
    "        "
   ]
  },
  {
   "cell_type": "code",
   "execution_count": 144,
   "id": "134fd192-8070-4cdc-914d-fdfa2491914d",
   "metadata": {},
   "outputs": [
    {
     "data": {
      "image/png": "[encoded data removed]",
      "text/plain": [
       "<Figure size 432x288 with 1 Axes>"
      ]
     },
     "metadata": {
      "needs_background": "light"
     },
     "output_type": "display_data"
    },
    {
     "data": {
      "image/png": "[encoded data removed]",
      "text/plain": [
       "<Figure size 432x288 with 1 Axes>"
      ]
     },
     "metadata": {
      "needs_background": "light"
     },
     "output_type": "display_data"
    },
    {
     "data": {
      "image/png": "[encoded data removed]",
      "text/plain": [
       "<Figure size 432x288 with 1 Axes>"
      ]
     },
     "metadata": {
      "needs_background": "light"
     },
     "output_type": "display_data"
    }
   ],
   "source": [
    "from scipy.stats import pearsonr\n",
    "\n",
    "num_sd_line = 0.4  # Adjust this value to change the number of SDs\n",
    "xrange = [-1.05,1.05]\n",
    "yrange = [-0.05,0.6]\n",
    "\n",
    "font_size = 12\n",
    "plt.rcParams.update({'font.size': font_size})\n",
    "\n",
    "## low gamma vs. ripple rate ##\n",
    "correlation_coefficient, p_value = pearsonr(sub_low_gamma_elecs, sub_ripple_elecs)\n",
    "\n",
    "plt.scatter(sub_low_gamma_elecs, sub_ripple_elecs)\n",
    "plt.title(\"Low Gamma vs. Ripple rate\")\n",
    "annotation_text = f\"r = {correlation_coefficient:.2f}\\np = {p_value:.2e}\"\n",
    "\n",
    "# Fit a linear regression line and plot it\n",
    "slope, intercept = np.polyfit(sub_low_gamma_elecs, sub_ripple_elecs, 1)\n",
    "fit_line = np.array(sub_low_gamma_elecs) * slope + intercept\n",
    "# plt.plot(sub_low_gamma_elecs, fit_line, color='red', linestyle='--', label='Linear fit')\n",
    "plt.annotate(annotation_text, xy=(0.05, 0.95), xycoords='axes fraction', \n",
    "             fontsize=12, verticalalignment='top')\n",
    "\n",
    "# Calculate the mean and standard deviation for both variables\n",
    "mean_low_gamma = np.mean(sub_low_gamma_elecs)\n",
    "std_low_gamma = np.std(sub_low_gamma_elecs)\n",
    "mean_high_gamma = np.mean(sub_high_gamma_elecs)\n",
    "std_high_gamma = np.std(sub_high_gamma_elecs)\n",
    "mean_ripple = np.mean(sub_ripple_elecs)\n",
    "std_ripple = np.std(sub_ripple_elecs)\n",
    "high_low_gamma_diff = np.array(sub_low_gamma_elecs) - np.array(sub_high_gamma_elecs)\n",
    "mean_diff = np.mean(high_low_gamma_diff)\n",
    "std_diff = np.std(high_low_gamma_diff)\n",
    "\n",
    "# Plot the ±num_sd_line lines for sub_low_gamma_elecs\n",
    "ylim = plt.ylim()\n",
    "plt.axvline(mean_low_gamma + num_sd_line * std_low_gamma, color='blue', linestyle=':', label=f'+{num_sd_line} SD Low Gamma')\n",
    "plt.text(mean_low_gamma + num_sd_line * std_low_gamma, ylim[1] - (ylim[1] - ylim[0]) * 0.05, \n",
    "         f'+{num_sd_line} SD', color='blue', ha='left', va='bottom')\n",
    "# plt.axvline(mean_low_gamma - num_sd_line * std_low_gamma, color='blue', linestyle=':', label=f'-{num_sd_line} SD Low Gamma')\n",
    "# plt.text(mean_low_gamma - num_sd_line * std_low_gamma, ylim[1] - (ylim[1] - ylim[0]) * 0.05, \n",
    "#          f'-{num_sd_line} SD', color='blue', ha='right', va='bottom')\n",
    "plt.axhline(mean_ripple + num_sd_line * std_ripple, color='green', linestyle=':', label=f'+{num_sd_line} SD Ripple')\n",
    "plt.text(plt.xlim()[1], mean_ripple + num_sd_line * std_ripple, f'+{num_sd_line} SD', color='green', ha='right', va='bottom')\n",
    "# plt.axhline(mean_ripple - num_sd_line * std_ripple, color='green', linestyle=':', label=f'-{num_sd_line} SD Ripple')\n",
    "# plt.text(plt.xlim()[1], mean_ripple - num_sd_line * std_ripple, f'-{num_sd_line} SD', color='green', ha='right', va='top')\n",
    "\n",
    "plt.xlabel('Low gamma power')\n",
    "plt.ylabel('Ripple rate')\n",
    "plt.xlim(xrange)\n",
    "plt.tight_layout(); plt.show()\n",
    "\n",
    "\n",
    "## high gamma vs. ripple rate ##\n",
    "\n",
    "correlation_coefficient, p_value = pearsonr(sub_high_gamma_elecs, sub_ripple_elecs)\n",
    "\n",
    "plt.scatter(sub_high_gamma_elecs, sub_ripple_elecs,color='black',edgecolors=(0.2,0.5,0.5))\n",
    "# plt.title(\"High Gamma vs. Ripple rate\")\n",
    "annotation_text = f\"r = {correlation_coefficient:.2f}\\np = {p_value:.2e}\"\n",
    "\n",
    "# Fit a linear regression line and plot it\n",
    "slope, intercept = np.polyfit(sub_high_gamma_elecs, sub_ripple_elecs, 1)\n",
    "fit_line = np.array(sub_high_gamma_elecs) * slope + intercept\n",
    "# plt.plot(sub_high_gamma_elecs, fit_line, color='red', linestyle='--', label='Linear fit')\n",
    "# plt.annotate(annotation_text, xy=(0.05, 0.95), xycoords='axes fraction', \n",
    "#              fontsize=12, verticalalignment='top')\n",
    "\n",
    "# Plot the ±num_sd_line lines for sub_low_gamma_elecs\n",
    "plt.axvline(mean_high_gamma + num_sd_line * std_high_gamma, color='blue', linestyle=':', label=f'+{num_sd_line} SD Low Gamma')\n",
    "plt.text(mean_high_gamma + num_sd_line * std_high_gamma, ylim[1] - (ylim[1] - ylim[0]) * 0.05+0.01, \n",
    "         f'+{num_sd_line} SD', color='blue', ha='left', va='bottom')\n",
    "# plt.axvline(mean_high_gamma - num_sd_line * std_high_gamma, color='blue', linestyle=':', label=f'-{num_sd_line} SD Low Gamma')\n",
    "# plt.text(mean_high_gamma - num_sd_line * std_high_gamma, ylim[1] - (ylim[1] - ylim[0]) * 0.05, \n",
    "#          f'-{num_sd_line} SD', color='blue', ha='right', va='bottom')\n",
    "plt.axhline(mean_ripple + num_sd_line * std_ripple, color='blue', linestyle=':', label=f'+{num_sd_line} SD Ripple')\n",
    "plt.text(plt.xlim()[1]-0.08, mean_ripple + num_sd_line * std_ripple-0.07, f'+{num_sd_line} SD', color='blue', ha='right', va='bottom')\n",
    "# plt.axhline(mean_ripple - num_sd_line * std_ripple, color='green', linestyle=':', label=f'-{num_sd_line} SD Ripple')\n",
    "# plt.text(plt.xlim()[1], mean_ripple - num_sd_line * std_ripple, f'-{num_sd_line} SD', color='green', ha='right', va='top')\n",
    "\n",
    "plt.xlabel('High gamma power')\n",
    "plt.ylabel('Ripple rate (Hz)')\n",
    "plt.xlim(xrange)\n",
    "plt.ylim(yrange)\n",
    "plt.tight_layout(); plt.show()\n",
    "\n",
    "\n",
    "## high:low gamma ratio vs. ripple rate ##\n",
    "\n",
    "correlation_coefficient, p_value = pearsonr(high_low_gamma_diff, sub_ripple_elecs)\n",
    "\n",
    "plt.scatter(high_low_gamma_diff, sub_ripple_elecs)\n",
    "plt.title(\"High:Low gamma diff vs. Ripple rate\")\n",
    "annotation_text = f\"r = {correlation_coefficient:.2f}\\np = {p_value:.2e}\"\n",
    "\n",
    "# Fit a linear regression line and plot it\n",
    "slope, intercept = np.polyfit(high_low_gamma_diff, sub_ripple_elecs, 1)\n",
    "fit_line = np.array(high_low_gamma_diff) * slope + intercept\n",
    "# plt.plot(sub_high_gamma_elecs, fit_line, color='red', linestyle='--', label='Linear fit')\n",
    "plt.annotate(annotation_text, xy=(0.05, 0.95), xycoords='axes fraction', \n",
    "             fontsize=12, verticalalignment='top')\n",
    "\n",
    "# Plot the ±num_sd_line lines for sub_low_gamma_elecs\n",
    "ylim = plt.ylim()\n",
    "plt.axvline(mean_diff + num_sd_line * std_diff, color='blue', linestyle=':', label=f'+{num_sd_line} SD diff')\n",
    "plt.text(mean_diff + num_sd_line * std_diff, ylim[1] - (ylim[1] - ylim[0]) * 0.05, \n",
    "         f'+{num_sd_line} SD', color='blue', ha='left', va='bottom')\n",
    "# plt.axvline(mean_high_gamma - num_sd_line * std_high_gamma, color='blue', linestyle=':', label=f'-{num_sd_line} SD Low Gamma')\n",
    "# plt.text(mean_high_gamma - num_sd_line * std_high_gamma, ylim[1] - (ylim[1] - ylim[0]) * 0.05, \n",
    "#          f'-{num_sd_line} SD', color='blue', ha='right', va='bottom')\n",
    "plt.axhline(mean_ripple + num_sd_line * std_ripple, color='green', linestyle=':', label=f'+{num_sd_line} SD Ripple')\n",
    "plt.text(plt.xlim()[1], mean_ripple + num_sd_line * std_ripple, f'+{num_sd_line} SD', color='green', ha='right', va='bottom')\n",
    "# plt.axhline(mean_ripple - num_sd_line * std_ripple, color='green', linestyle=':', label=f'-{num_sd_line} SD Ripple')\n",
    "# plt.text(plt.xlim()[1], mean_ripple - num_sd_line * std_ripple, f'-{num_sd_line} SD', color='green', ha='right', va='top')\n",
    "\n",
    "plt.xlabel('High:Low gamma power diff')\n",
    "plt.ylabel('Ripple rate')\n",
    "plt.xlim(xrange)\n",
    "plt.tight_layout(); plt.show()\n",
    "\n",
    "a=1;"
   ]
  },
  {
   "cell_type": "code",
   "execution_count": 145,
   "id": "8400df40-3e96-45ed-b0ad-0fe012e007d1",
   "metadata": {},
   "outputs": [
    {
     "data": {
      "image/png": "[encoded data removed]",
      "text/plain": [
       "<Figure size 432x288 with 1 Axes>"
      ]
     },
     "metadata": {
      "needs_background": "light"
     },
     "output_type": "display_data"
    },
    {
     "data": {
      "image/png": "[encoded data removed]",
      "text/plain": [
       "<Figure size 432x288 with 1 Axes>"
      ]
     },
     "metadata": {
      "needs_background": "light"
     },
     "output_type": "display_data"
    }
   ],
   "source": [
    "# delta(low gamma) vs. delta(ripple rate) (where both deltas are clust - unclust recalls)\n",
    "correlation_coefficient, p_value = pearsonr(sub_low_gamma_elecs_clust_diff, sub_ripple_elecs_clust_diff)\n",
    "\n",
    "plt.scatter(sub_low_gamma_elecs_clust_diff, sub_ripple_elecs_clust_diff)\n",
    "plt.title(r\"$\\Delta$Low Gamma vs. $\\Delta$Ripple rate\")\n",
    "annotation_text = f\"r = {correlation_coefficient:.2f}\\np = {p_value:.2e}\"\n",
    "plt.annotate(annotation_text, xy=(0.05, 0.95), xycoords='axes fraction', \n",
    "             fontsize=12, verticalalignment='top')\n",
    "# Fit a linear regression line and plot it\n",
    "slope, intercept = np.polyfit(sub_low_gamma_elecs_clust_diff, sub_ripple_elecs_clust_diff, 1)\n",
    "fit_line = np.array(sub_low_gamma_elecs_clust_diff) * slope + intercept\n",
    "plt.plot(sub_low_gamma_elecs_clust_diff, fit_line, color='red', linestyle='--', label='Linear fit')\n",
    "plt.tight_layout(); plt.show()\n",
    "\n",
    "# high gamma vs. ripple rate\n",
    "correlation_coefficient, p_value = pearsonr(sub_high_gamma_elecs_clust_diff, sub_ripple_elecs_clust_diff)\n",
    "\n",
    "plt.scatter(sub_high_gamma_elecs_clust_diff, sub_ripple_elecs_clust_diff)\n",
    "plt.title(r\"$\\Delta$High Gamma vs. $\\Delta$Ripple rate\")\n",
    "annotation_text = f\"r = {correlation_coefficient:.2f}\\np = {p_value:.2e}\"\n",
    "plt.annotate(annotation_text, xy=(0.05, 0.95), xycoords='axes fraction', \n",
    "             fontsize=12, verticalalignment='top')\n",
    "# Fit a linear regression line and plot it\n",
    "slope, intercept = np.polyfit(sub_high_gamma_elecs_clust_diff, sub_ripple_elecs_clust_diff, 1)\n",
    "fit_line = np.array(sub_high_gamma_elecs_clust_diff) * slope + intercept\n",
    "plt.plot(sub_high_gamma_elecs_clust_diff, fit_line, color='red', linestyle='--', label='Linear fit')\n",
    "plt.tight_layout(); plt.show()\n",
    "\n",
    "a=1;"
   ]
  },
  {
   "cell_type": "code",
   "execution_count": 146,
   "id": "4d1e27e2-ed86-43ed-b328-c7432fd3e726",
   "metadata": {},
   "outputs": [
    {
     "data": {
      "image/png": "[encoded data removed]",
      "text/plain": [
       "<Figure size 360x216 with 1 Axes>"
      ]
     },
     "metadata": {
      "needs_background": "light"
     },
     "output_type": "display_data"
    }
   ],
   "source": [
    "# Define quadrants\n",
    "\n",
    "# 1 for low_gamma, 2 for high_gamma, 3 for high:low difference\n",
    "low_gamma_on = 1\n",
    "# 1 for clust v. not clust; 2 for recalled v. not recalled\n",
    "clust_or_recalled = 1\n",
    "\n",
    "if low_gamma_on == 1:\n",
    "    quadrant_1 = (sub_low_gamma_elecs > mean_low_gamma + num_sd_line * std_low_gamma) & \\\n",
    "                 (sub_ripple_elecs > mean_ripple + num_sd_line * std_ripple)\n",
    "    label1 = '↑ ripple,\\n ↑ low gamma'\n",
    "    quadrant_2 = (sub_low_gamma_elecs < mean_low_gamma + num_sd_line * std_low_gamma) & \\\n",
    "                 (sub_ripple_elecs > mean_ripple + num_sd_line * std_ripple)\n",
    "    label2 = '↑ ripple,\\n ↓ low gamma'\n",
    "    quadrant_3 = (sub_low_gamma_elecs > mean_low_gamma + num_sd_line * std_low_gamma) & \\\n",
    "                 (sub_ripple_elecs < mean_ripple + num_sd_line * std_ripple)\n",
    "    label3 = '↓ ripple,\\n ↑ low gamma'\n",
    "    quadrant_4 = (sub_low_gamma_elecs < mean_low_gamma + num_sd_line * std_low_gamma) & \\\n",
    "                 (sub_ripple_elecs < mean_ripple + num_sd_line * std_ripple)\n",
    "    label4 = '↓ ripple,\\n ↓ low gamma'\n",
    "elif low_gamma_on == 2:\n",
    "    quadrant_1 = (sub_high_gamma_elecs > mean_high_gamma + num_sd_line * std_high_gamma) & \\\n",
    "                 (sub_ripple_elecs > mean_ripple + num_sd_line * std_ripple)\n",
    "    label1 = '↑ ripple,\\n ↑ high gamma'\n",
    "    quadrant_2 = (sub_high_gamma_elecs < mean_high_gamma + num_sd_line * std_high_gamma) & \\\n",
    "                 (sub_ripple_elecs > mean_ripple + num_sd_line * std_ripple)\n",
    "    label2 = '↑ ripple,\\n ↓ high gamma'\n",
    "    quadrant_3 = (sub_high_gamma_elecs > mean_high_gamma + num_sd_line * std_high_gamma) & \\\n",
    "                 (sub_ripple_elecs < mean_ripple + num_sd_line * std_ripple)\n",
    "    label3 = '↓ ripple,\\n ↑ high gamma'\n",
    "    quadrant_4 = (sub_high_gamma_elecs < mean_high_gamma + num_sd_line * std_high_gamma) & \\\n",
    "                 (sub_ripple_elecs < mean_ripple + num_sd_line * std_ripple)\n",
    "    label4 = '↓ ripple,\\n ↓ high gamma'\n",
    "elif low_gamma_on == 3:\n",
    "    quadrant_1 = (high_low_gamma_diff > mean_diff + num_sd_line * std_diff) & \\\n",
    "                 (sub_ripple_elecs > mean_ripple + num_sd_line * std_ripple)\n",
    "    label1 = '↑ ripple,\\n ↑ diff'\n",
    "    quadrant_2 = (high_low_gamma_diff < mean_diff + num_sd_line * std_diff) & \\\n",
    "                 (sub_ripple_elecs > mean_ripple + num_sd_line * std_ripple)\n",
    "    label2 = '↑ ripple,\\n ↓ diff'\n",
    "    quadrant_3 = (high_low_gamma_diff > mean_diff + num_sd_line * std_diff) & \\\n",
    "                 (sub_ripple_elecs < mean_ripple + num_sd_line * std_ripple)\n",
    "    label3 = '↓ ripple,\\n ↑ diff'\n",
    "    quadrant_4 = (high_low_gamma_diff < mean_diff + num_sd_line * std_diff) & \\\n",
    "                 (sub_ripple_elecs < mean_ripple + num_sd_line * std_ripple)\n",
    "    label4 = '↓ ripple,\\n ↓ diff'\n",
    "\n",
    "# Initialize lists to store delta ripple rates for each quadrant\n",
    "delta_ripple_quadrant_1 = []\n",
    "delta_ripple_quadrant_2 = []\n",
    "delta_ripple_quadrant_3 = []\n",
    "delta_ripple_quadrant_4 = []\n",
    "\n",
    "# Calculate delta ripple rates for each quadrant\n",
    "final_subs = []\n",
    "final_sess = []\n",
    "for idx, elec in enumerate(min_trial_clust_elec):\n",
    "    if clust_or_recalled == 1:\n",
    "        delta_ripple = sub_ripple_elecs_clust_diff[idx] # lay all these out in the right order for ME model below\n",
    "    else:\n",
    "        if encoding_mode == 1:\n",
    "            delta_ripple = sub_ripple_elecs_RECALLED_diff[idx] # lay all these out in the right order for ME model below\n",
    "        else:\n",
    "            print('Recall_mode is on so you cannot do SME (recalled v. not recalled)!!')\n",
    "            error\n",
    "    final_subs.append(min_trials_clust_subs[idx])\n",
    "    final_sess.append(min_trials_clust_sess[idx])\n",
    "    \n",
    "    if quadrant_1[idx]:\n",
    "        delta_ripple_quadrant_1.append(delta_ripple)\n",
    "    elif quadrant_2[idx]:\n",
    "        delta_ripple_quadrant_2.append(delta_ripple)\n",
    "    elif quadrant_3[idx]:\n",
    "        delta_ripple_quadrant_3.append(delta_ripple)\n",
    "    elif quadrant_4[idx]:\n",
    "        delta_ripple_quadrant_4.append(delta_ripple)\n",
    "\n",
    "\n",
    "# Calculate mean and SE for each quadrant\n",
    "mean_quadrant_1 = np.mean(delta_ripple_quadrant_1)\n",
    "mean_quadrant_2 = np.mean(delta_ripple_quadrant_2)\n",
    "mean_quadrant_3 = np.mean(delta_ripple_quadrant_3)\n",
    "mean_quadrant_4 = np.mean(delta_ripple_quadrant_4)\n",
    "\n",
    "se_quadrant_1 = np.std(delta_ripple_quadrant_1) / np.sqrt(len(delta_ripple_quadrant_1))\n",
    "se_quadrant_2 = np.std(delta_ripple_quadrant_2) / np.sqrt(len(delta_ripple_quadrant_2))\n",
    "se_quadrant_3 = np.std(delta_ripple_quadrant_3) / np.sqrt(len(delta_ripple_quadrant_3))\n",
    "se_quadrant_4 = np.std(delta_ripple_quadrant_4) / np.sqrt(len(delta_ripple_quadrant_4))\n",
    "\n",
    "# Combine the data into a single list and create labels\n",
    "delta_ripple_data = (\n",
    "    delta_ripple_quadrant_1 +\n",
    "    delta_ripple_quadrant_2 +\n",
    "    delta_ripple_quadrant_3 +\n",
    "    delta_ripple_quadrant_4\n",
    ")\n",
    "\n",
    "labels = (\n",
    "    [label1] * len(delta_ripple_quadrant_1) +\n",
    "    [label2] * len(delta_ripple_quadrant_2) +\n",
    "    [label3] * len(delta_ripple_quadrant_3) +\n",
    "    [label4] * len(delta_ripple_quadrant_4)\n",
    ")\n",
    "stats_labels = [\n",
    "    label.replace('↑', 'High').replace('↓', 'Low').replace(',\\n ', ' ') for label in labels\n",
    "]\n",
    "\n",
    "# Plot the swarm plot\n",
    "fig, ax = plt.subplots(figsize=(5, 3))\n",
    "sb.stripplot(x=labels, y=delta_ripple_data, ax=ax, size=4)\n",
    "\n",
    "# Plot the means and SEs over the swarm plot\n",
    "means = [mean_quadrant_1, mean_quadrant_2, mean_quadrant_3, mean_quadrant_4]\n",
    "ses = [se_quadrant_1, se_quadrant_2, se_quadrant_3, se_quadrant_4]\n",
    "x_positions = [0, 1, 2, 3]\n",
    "\n",
    "ax.errorbar(x_positions, means, yerr=ses, fmt='o', color='black', capsize=5, zorder=10)\n",
    "\n",
    "# Add \"N = XXX\" over the top of each bar\n",
    "num_electrodes = [len(delta_ripple_quadrant_1), len(delta_ripple_quadrant_2), len(delta_ripple_quadrant_3), len(delta_ripple_quadrant_4)]\n",
    "for i, num in enumerate(num_electrodes):\n",
    "    ax.text(i+0.025, 0.34, f'N = {num}', ha='center', fontsize=12, color='black')\n",
    "\n",
    "if clust_or_recalled == 1:\n",
    "    ax.set_ylabel('∆ Ripple rate (Hz)\\n(Clustered - Unclustered)')\n",
    "else:\n",
    "    ax.set_ylabel('∆ Ripple rate (Recalled - Not recalled)')\n",
    "# ax.set_title('Delta Ripple Rate by Quadrant')\n",
    "ax.set_ylim(-0.21,0.38)\n",
    "ax.tick_params(axis='x', labelsize=10)\n",
    "ax.spines['top'].set_visible(False); ax.spines['right'].set_visible(False)\n",
    "plt.show();"
   ]
  },
  {
   "cell_type": "code",
   "execution_count": 143,
   "id": "ac47940f-7bd4-4218-89d8-2de2512c43da",
   "metadata": {
    "tags": []
   },
   "outputs": [
    {
     "name": "stdout",
     "output_type": "stream",
     "text": [
      "            Mixed Linear Model Regression Results\n",
      "==============================================================\n",
      "Model:              MixedLM  Dependent Variable:  delta_ripple\n",
      "No. Observations:   340      Method:              REML        \n",
      "No. Groups:         64       Scale:               0.0068      \n",
      "Min. group size:    1        Log-Likelihood:      352.4062    \n",
      "Max. group size:    36       Converged:           Yes         \n",
      "Mean group size:    5.3                                       \n",
      "--------------------------------------------------------------\n",
      "                      Coef. Std.Err.   z   P>|z| [0.025 0.975]\n",
      "--------------------------------------------------------------\n",
      "Intercept             0.003    0.008 0.325 0.745 -0.013  0.018\n",
      "high_ripple           0.018    0.014 1.264 0.206 -0.010  0.046\n",
      "low_gamma             0.010    0.012 0.901 0.368 -0.012  0.033\n",
      "high_ripple:low_gamma 0.010    0.021 0.477 0.634 -0.031  0.051\n",
      "C(session) Var        0.000    0.003                          \n",
      "==============================================================\n",
      "\n"
     ]
    },
    {
     "name": "stderr",
     "output_type": "stream",
     "text": [
      "/home1/john/anaconda3/envs/workshopJ/lib/python3.7/site-packages/statsmodels/regression/mixed_linear_model.py:2237: ConvergenceWarning: The MLE may be on the boundary of the parameter space.\n",
      "  warnings.warn(msg, ConvergenceWarning)\n"
     ]
    }
   ],
   "source": [
    "import statsmodels.formula.api as smf\n",
    "\n",
    "# Prepare the data in a DataFrame for the mixed effects model\n",
    "data = pd.DataFrame({\n",
    "    'delta_ripple': delta_ripple_data,\n",
    "    'label': stats_labels,\n",
    "    'subject': [str(sub) for sub in final_subs],\n",
    "    'session': [str(sess) for sess in final_sess]\n",
    "})\n",
    "# create separate predictors dependent on data compiled above\n",
    "data['high_ripple'] = data['label'].apply(lambda x: 1 if 'High ripple' in x else 0)\n",
    "\n",
    "# Specify the formula for the mixed effects model\n",
    "vc_formula = {\"C(session)\": \"0 + C(session)\"}\n",
    "if low_gamma_on==1:\n",
    "    data['low_gamma'] = data['label'].apply(lambda x: 1 if 'High low' in x else 0)\n",
    "    equation = 'delta_ripple ~ high_ripple*low_gamma'\n",
    "elif low_gamma_on==2:\n",
    "    data['high_gamma'] = data['label'].apply(lambda x: 1 if 'High high' in x else 0)\n",
    "    equation = 'delta_ripple ~ high_ripple*high_gamma'\n",
    "elif low_gamma_on==3:\n",
    "    data['high_diff'] = data['label'].apply(lambda x: 1 if 'High diff' in x else 0)\n",
    "    equation = 'delta_ripple ~ high_ripple*high_diff'\n",
    "model = smf.mixedlm(equation,data, groups=data['subject'],vc_formula=vc_formula) #,re_formula=\"label\")\n",
    "result = model.fit()\n",
    "print(result.summary())"
   ]
  },
  {
   "cell_type": "code",
   "execution_count": null,
   "id": "af4a7d52-07f1-49a3-a16b-1ff31a525cc9",
   "metadata": {},
   "outputs": [],
   "source": []
  },
  {
   "cell_type": "raw",
   "id": "5f11a290-f7cf-408d-b8fa-bcc6e05aece1",
   "metadata": {},
   "source": []
  },
  {
   "cell_type": "code",
   "execution_count": 82,
   "id": "cf49b60a-a3fb-4e43-bd23-7e91f0136547",
   "metadata": {},
   "outputs": [
    {
     "data": {
      "text/plain": [
       "<matplotlib.collections.PathCollection at 0x2af76c972dd0>"
      ]
     },
     "execution_count": 82,
     "metadata": {},
     "output_type": "execute_result"
    },
    {
     "data": {
      "image/png": "[encoded data removed]",
      "text/plain": [
       "<Figure size 432x288 with 1 Axes>"
      ]
     },
     "metadata": {
      "needs_background": "light"
     },
     "output_type": "display_data"
    },
    {
     "data": {
      "text/plain": [
       "<matplotlib.collections.PathCollection at 0x2af76c90b810>"
      ]
     },
     "execution_count": 82,
     "metadata": {},
     "output_type": "execute_result"
    },
    {
     "data": {
      "image/png": "[encoded data removed]",
      "text/plain": [
       "<Figure size 432x288 with 1 Axes>"
      ]
     },
     "metadata": {
      "needs_background": "light"
     },
     "output_type": "display_data"
    }
   ],
   "source": [
    "# Assuming min_trial_elecs and min_trial_clust_elec are your lists\n",
    "idxs_in_first = np.array([min_trial_elecs.index(label) for label in min_trial_clust_elec if label in min_trial_elecs])\n",
    "\n",
    "plt.scatter(sub_ripple_elecs_clust_diff,np.array(sub_low_gamma_elecs)[idxs_in_first]); plt.show()\n",
    "plt.scatter(sub_ripple_elecs_clust_diff,np.array(sub_high_gamma_elecs)[idxs_in_first])"
   ]
  },
  {
   "cell_type": "code",
   "execution_count": null,
   "id": "d7f98715-c150-452a-bbda-8dd1a6473bd1",
   "metadata": {},
   "outputs": [],
   "source": []
  },
  {
   "cell_type": "code",
   "execution_count": null,
   "id": "134234af-5d50-43e4-b6f0-cf408fb70886",
   "metadata": {},
   "outputs": [],
   "source": []
  },
  {
   "cell_type": "code",
   "execution_count": null,
   "id": "17846479-4851-444c-bef2-16393658c2c9",
   "metadata": {},
   "outputs": [],
   "source": []
  },
  {
   "cell_type": "code",
   "execution_count": 83,
   "id": "053847b2-fd5c-4a9a-828a-066b635e9ad4",
   "metadata": {},
   "outputs": [],
   "source": [
    "remove_low_freq = 1 # 1 for low gamma/theta; 2 for high gamma/theta"
   ]
  },
  {
   "cell_type": "markdown",
   "id": "6b8b3f33-dc02-4cd3-9c82-cd220456ddca",
   "metadata": {},
   "source": [
    "# ripples after removing low gamma trials"
   ]
  },
  {
   "cell_type": "code",
   "execution_count": 152,
   "id": "d5e8de0a-f33e-40dd-a9fb-7c77eb485820",
   "metadata": {},
   "outputs": [
    {
     "name": "stderr",
     "output_type": "stream",
     "text": [
      "/home1/john/anaconda3/envs/workshopJ/lib/python3.7/site-packages/ipykernel_launcher.py:72: UserWarning: FixedFormatter should only be used together with FixedLocator\n",
      "/home1/john/SWRrefactored/code/SWR_modules/SWRmodule.py:1410: VisibleDeprecationWarning: Creating an ndarray from ragged nested sequences (which is a list-or-tuple of lists-or-tuples-or ndarrays with different lengths or shapes) is deprecated. If you meant to do this, you must specify 'dtype=object' when creating the ndarray.\n",
      "  norm_count = count/np.array((num_trials*binsize/1000))\n",
      "/home1/john/SWRrefactored/code/SWR_modules/SWRmodule.py:1410: RuntimeWarning: invalid value encountered in true_divide\n",
      "  norm_count = count/np.array((num_trials*binsize/1000))\n",
      "/home1/john/SWRrefactored/code/SWR_modules/SWRmodule.py:1410: RuntimeWarning: divide by zero encountered in true_divide\n",
      "  norm_count = count/np.array((num_trials*binsize/1000))\n"
     ]
    },
    {
     "data": {
      "image/png": "[encoded data removed]",
      "text/plain": [
       "<Figure size 216x360 with 2 Axes>"
      ]
     },
     "metadata": {
      "needs_background": "light"
     },
     "output_type": "display_data"
    }
   ],
   "source": [
    "import matplotlib.gridspec as gridspec\n",
    "\n",
    "# Function parameters\n",
    "bin_size = 100  # in ms\n",
    "smoothing_triangle = 5  # triangular smoothing window width\n",
    "\n",
    "bar_ylimits = (0, 0.32)\n",
    "\n",
    "if remove_low_freq == 1:\n",
    "    trial_select = ~z_low_gamma_trials\n",
    "elif remove_low_freq == 2:\n",
    "    trial_select = ~z_high_gamma_trials\n",
    "else:\n",
    "    print('Invalid remove_low_freq selection')\n",
    "    error    \n",
    "\n",
    "ripple_swarm_start = int((-ripple_start_offset+ripple_analysis_start)/sr_factor)\n",
    "ripple_swarm_end = int((-ripple_start_offset+ripple_analysis_end)/sr_factor)\n",
    "ripple_swarm_duration = (ripple_analysis_end-ripple_analysis_start)/1000  # convert to seconds\n",
    "\n",
    "# Apply the clust variable to split data into clustered, unclustered, and not recalled\n",
    "clust_clustered = sub_clust_ID > 1\n",
    "clust_unclustered = sub_clust_ID < 0\n",
    "clust_not_recalled = sub_clust_ID == 0\n",
    "\n",
    "# Calculate ripple means and standard errors for each condition\n",
    "mean_ripple_clustered = np.sum(start_array[trial_select & clust_clustered, ripple_swarm_start:ripple_swarm_end], axis=1) / ripple_swarm_duration\n",
    "mean_ripple_unclustered = np.sum(start_array[trial_select & clust_unclustered, ripple_swarm_start:ripple_swarm_end], axis=1) / ripple_swarm_duration\n",
    "mean_ripple_not_recalled = np.sum(start_array[trial_select & clust_not_recalled, ripple_swarm_start:ripple_swarm_end], axis=1) / ripple_swarm_duration\n",
    "\n",
    "if encoding_mode == 1:\n",
    "    means = [np.mean(mean_ripple_clustered), np.mean(mean_ripple_unclustered), np.mean(mean_ripple_not_recalled)]\n",
    "    ses = [np.std(mean_ripple_clustered) / np.sqrt(len(mean_ripple_clustered)),\n",
    "           np.std(mean_ripple_unclustered) / np.sqrt(len(mean_ripple_unclustered)),\n",
    "           np.std(mean_ripple_not_recalled) / np.sqrt(len(mean_ripple_not_recalled))]\n",
    "    fig = plt.figure(figsize=(4, 5))\n",
    "elif encoding_mode == 0:\n",
    "    means = [np.mean(mean_ripple_clustered), np.mean(mean_ripple_unclustered)]\n",
    "    ses = [np.std(mean_ripple_clustered) / np.sqrt(len(mean_ripple_clustered)),\n",
    "           np.std(mean_ripple_unclustered) / np.sqrt(len(mean_ripple_unclustered))]    \n",
    "    fig = plt.figure(figsize=(3, 5))\n",
    "\n",
    "# Define the palette for colors\n",
    "palette = {\n",
    "    'Clustered': 'blue',\n",
    "    'Unclustered': 'orange',\n",
    "    'Not Recalled': 'green'\n",
    "}\n",
    "\n",
    "# Set up the figure with GridSpec\n",
    "gs = gridspec.GridSpec(2, 3, height_ratios=[2, 2], width_ratios=[3, 3, 3])\n",
    "\n",
    "# Create the bar plot with error bars (span all columns)\n",
    "ax_bar = fig.add_subplot(gs[0, :])\n",
    "if encoding_mode == 1:\n",
    "    xlabels = ['Clustered', 'Unclustered', 'Not Recalled']\n",
    "    xcolors = [palette['Clustered'], palette['Unclustered'], palette['Not Recalled']]\n",
    "elif encoding_mode == 0:\n",
    "    xlabels = ['Clustered', 'Unclustered']\n",
    "    xcolors = [palette['Clustered'], palette['Unclustered']]\n",
    "bars = ax_bar.bar(x=xlabels, \n",
    "                  height=means, \n",
    "                  color=xcolors, \n",
    "                  yerr=ses, \n",
    "                  width=0.5,  # Adjust width to make bars tighter\n",
    "                  capsize=5, \n",
    "                  error_kw=dict(ecolor='black', elinewidth=2))\n",
    "\n",
    "ax_bar.set_ylabel('Ripple rate by trial (Hz)')\n",
    "ax_bar.set_xlabel('')\n",
    "ax_bar.set_ylim(bar_ylimits)\n",
    "ax_bar.set_xticklabels(['Clustered', 'Unclustered', 'Not Recalled'], rotation=20, ha=\"center\")\n",
    "ax_bar.spines['right'].set_visible(False)\n",
    "ax_bar.spines['top'].set_visible(False)\n",
    "ax_bar.set_title('no low gamma trials')\n",
    "\n",
    "# Add the number of trials above each bar\n",
    "n_trials = [np.sum(trial_select & clust_clustered), \n",
    "            np.sum(trial_select & clust_unclustered), \n",
    "            np.sum(trial_select & clust_not_recalled)]\n",
    "for bar, n in zip(bars, n_trials):\n",
    "    ax_bar.text(bar.get_x() + bar.get_width() / 2, bar.get_height() + 0.01, f'n={n}', ha='center', va='bottom')\n",
    "\n",
    "# Calculate PSTH for each group\n",
    "ripple_PSTH_clustered, bin_centers = fullPSTH(start_array[trial_select & clust_clustered], bin_size, smoothing_triangle, fs, ripple_start_offset)\n",
    "ripple_PSTH_unclustered, _ = fullPSTH(start_array[trial_select & clust_unclustered], bin_size, smoothing_triangle, fs, ripple_start_offset)\n",
    "ripple_PSTH_not_recalled, _ = fullPSTH(start_array[trial_select & clust_not_recalled], bin_size, smoothing_triangle, fs, ripple_start_offset)\n",
    "\n",
    "# Plot the PSTH for each group\n",
    "ax_psth = fig.add_subplot(gs[1, :])\n",
    "ax_psth.plot(bin_centers / 1000, ripple_PSTH_clustered, label='Clustered', color=palette['Clustered'])\n",
    "ax_psth.plot(bin_centers / 1000, ripple_PSTH_unclustered, label='Unclustered', color=palette['Unclustered'])\n",
    "if encoding_mode == 1:\n",
    "    ax_psth.plot(bin_centers / 1000, ripple_PSTH_not_recalled, label='Not Recalled', color=palette['Not Recalled'])\n",
    "    ax_psth.axvline(x=0.0, color='black', linestyle='--')\n",
    "    ax_psth.axvline(x=1.6, color='black', linestyle='--')\n",
    "    ax_psth.set_xlim(-0.25, 2.05)\n",
    "elif encoding_mode == 0:\n",
    "    ax_psth.set_xlim(-2.0, 2.0)\n",
    "ax_psth.set_xlabel('Time (s)')\n",
    "ax_psth.set_ylim(0,bar_ylimits[1])\n",
    "ax_psth.set_ylabel('Ripple rate (Hz)')\n",
    "ax_psth.spines['right'].set_visible(False)\n",
    "ax_psth.spines['top'].set_visible(False)\n",
    "\n",
    "# Add legend to the bottom plot\n",
    "ax_psth.legend(loc='lower center', frameon=False)\n",
    "\n",
    "# Adjust layout\n",
    "plt.tight_layout()\n",
    "plt.show()\n",
    "a=1;"
   ]
  },
  {
   "cell_type": "markdown",
   "id": "f0d5a8dd-f8a3-40c0-b6a6-a20c2ca89bd7",
   "metadata": {},
   "source": [
    "# ripples only for + low gamma trials"
   ]
  },
  {
   "cell_type": "code",
   "execution_count": 153,
   "id": "fc797628-58bb-4e9b-8f50-39c2c5ed2d2b",
   "metadata": {},
   "outputs": [
    {
     "name": "stderr",
     "output_type": "stream",
     "text": [
      "/home1/john/anaconda3/envs/workshopJ/lib/python3.7/site-packages/numpy/core/fromnumeric.py:3441: RuntimeWarning: Mean of empty slice.\n",
      "  out=out, **kwargs)\n",
      "/home1/john/anaconda3/envs/workshopJ/lib/python3.7/site-packages/numpy/core/_methods.py:189: RuntimeWarning: invalid value encountered in double_scalars\n",
      "  ret = ret.dtype.type(ret / rcount)\n",
      "/home1/john/anaconda3/envs/workshopJ/lib/python3.7/site-packages/numpy/core/_methods.py:263: RuntimeWarning: Degrees of freedom <= 0 for slice\n",
      "  keepdims=keepdims, where=where)\n",
      "/home1/john/anaconda3/envs/workshopJ/lib/python3.7/site-packages/numpy/core/_methods.py:223: RuntimeWarning: invalid value encountered in true_divide\n",
      "  subok=False)\n",
      "/home1/john/anaconda3/envs/workshopJ/lib/python3.7/site-packages/numpy/core/_methods.py:254: RuntimeWarning: invalid value encountered in double_scalars\n",
      "  ret = ret.dtype.type(ret / rcount)\n",
      "/home1/john/anaconda3/envs/workshopJ/lib/python3.7/site-packages/matplotlib/axes/_base.py:2283: UserWarning: Warning: converting a masked element to nan.\n",
      "  xys = np.asarray(xys)\n",
      "/home1/john/anaconda3/envs/workshopJ/lib/python3.7/site-packages/ipykernel_launcher.py:70: UserWarning: FixedFormatter should only be used together with FixedLocator\n",
      "/home1/john/SWRrefactored/code/SWR_modules/SWRmodule.py:1410: VisibleDeprecationWarning: Creating an ndarray from ragged nested sequences (which is a list-or-tuple of lists-or-tuples-or ndarrays with different lengths or shapes) is deprecated. If you meant to do this, you must specify 'dtype=object' when creating the ndarray.\n",
      "  norm_count = count/np.array((num_trials*binsize/1000))\n",
      "/home1/john/SWRrefactored/code/SWR_modules/SWRmodule.py:1410: RuntimeWarning: invalid value encountered in true_divide\n",
      "  norm_count = count/np.array((num_trials*binsize/1000))\n",
      "/home1/john/SWRrefactored/code/SWR_modules/SWRmodule.py:1410: RuntimeWarning: divide by zero encountered in true_divide\n",
      "  norm_count = count/np.array((num_trials*binsize/1000))\n",
      "posx and posy should be finite values\n",
      "posx and posy should be finite values\n",
      "posx and posy should be finite values\n",
      "posx and posy should be finite values\n"
     ]
    },
    {
     "data": {
      "image/png": "[encoded data removed]",
      "text/plain": [
       "<Figure size 216x360 with 2 Axes>"
      ]
     },
     "metadata": {
      "needs_background": "light"
     },
     "output_type": "display_data"
    }
   ],
   "source": [
    "# Function parameters\n",
    "bin_size = 100  # in ms\n",
    "smoothing_triangle = 5  # triangular smoothing window width\n",
    "\n",
    "bar_ylimits = (0, 0.72)\n",
    "\n",
    "if remove_low_freq == 1:\n",
    "    trial_select = z_low_gamma_trials\n",
    "elif remove_low_freq == 2:\n",
    "    trial_select = z_high_gamma_trials\n",
    "else:\n",
    "    print('Invalid remove_low_freq selection')\n",
    "    error\n",
    "\n",
    "ripple_swarm_start = int((-ripple_start_offset+ripple_analysis_start)/sr_factor)\n",
    "ripple_swarm_end = int((-ripple_start_offset+ripple_analysis_end)/sr_factor)\n",
    "ripple_swarm_duration = (ripple_analysis_end-ripple_analysis_start)/1000  # convert to seconds\n",
    "\n",
    "# Apply the clust variable to split data into clustered, unclustered, and not recalled\n",
    "clust_clustered = sub_clust_ID > 1\n",
    "clust_unclustered = sub_clust_ID < 0\n",
    "clust_not_recalled = sub_clust_ID == 0\n",
    "\n",
    "# Calculate ripple means and standard errors for each condition\n",
    "mean_ripple_clustered = np.sum(start_array[trial_select & clust_clustered, ripple_swarm_start:ripple_swarm_end], axis=1) / ripple_swarm_duration\n",
    "mean_ripple_unclustered = np.sum(start_array[trial_select & clust_unclustered, ripple_swarm_start:ripple_swarm_end], axis=1) / ripple_swarm_duration\n",
    "mean_ripple_not_recalled = np.sum(start_array[trial_select & clust_not_recalled, ripple_swarm_start:ripple_swarm_end], axis=1) / ripple_swarm_duration\n",
    "\n",
    "if encoding_mode == 1:\n",
    "    means = [np.mean(mean_ripple_clustered), np.mean(mean_ripple_unclustered), np.mean(mean_ripple_not_recalled)]\n",
    "    ses = [np.std(mean_ripple_clustered) / np.sqrt(len(mean_ripple_clustered)),\n",
    "           np.std(mean_ripple_unclustered) / np.sqrt(len(mean_ripple_unclustered)),\n",
    "           np.std(mean_ripple_not_recalled) / np.sqrt(len(mean_ripple_not_recalled))]\n",
    "    fig = plt.figure(figsize=(4, 5))\n",
    "elif encoding_mode == 0:\n",
    "    means = [np.mean(mean_ripple_clustered), np.mean(mean_ripple_unclustered)]\n",
    "    ses = [np.std(mean_ripple_clustered) / np.sqrt(len(mean_ripple_clustered)),\n",
    "           np.std(mean_ripple_unclustered) / np.sqrt(len(mean_ripple_unclustered))]    \n",
    "    fig = plt.figure(figsize=(3, 5))\n",
    "\n",
    "# Define the palette for colors\n",
    "palette = {\n",
    "    'Clustered': 'blue',\n",
    "    'Unclustered': 'orange',\n",
    "    'Not Recalled': 'green'\n",
    "}\n",
    "\n",
    "# Set up the figure with GridSpec\n",
    "gs = gridspec.GridSpec(2, 3, height_ratios=[2, 2], width_ratios=[3, 3, 3])\n",
    "\n",
    "# Create the bar plot with error bars (span all columns)\n",
    "ax_bar = fig.add_subplot(gs[0, :])\n",
    "if encoding_mode == 1:\n",
    "    xlabels = ['Clustered', 'Unclustered', 'Not Recalled']\n",
    "    xcolors = [palette['Clustered'], palette['Unclustered'], palette['Not Recalled']]\n",
    "elif encoding_mode == 0:\n",
    "    xlabels = ['Clustered', 'Unclustered']\n",
    "    xcolors = [palette['Clustered'], palette['Unclustered']]\n",
    "bars = ax_bar.bar(x=xlabels, \n",
    "                  height=means, \n",
    "                  color=xcolors, \n",
    "                  yerr=ses, \n",
    "                  width=0.5,  # Adjust width to make bars tighter\n",
    "                  capsize=5, \n",
    "                  error_kw=dict(ecolor='black', elinewidth=2))\n",
    "\n",
    "ax_bar.set_ylabel('Ripple rate by trial (Hz)')\n",
    "ax_bar.set_xlabel('')\n",
    "ax_bar.set_ylim(bar_ylimits)\n",
    "ax_bar.set_xticklabels(xlabels, rotation=20, ha=\"center\")\n",
    "ax_bar.spines['right'].set_visible(False)\n",
    "ax_bar.spines['top'].set_visible(False)\n",
    "ax_bar.set_title('only low gamma trials')\n",
    "\n",
    "# Add the number of trials above each bar\n",
    "n_trials = [np.sum(trial_select & clust_clustered), \n",
    "            np.sum(trial_select & clust_unclustered), \n",
    "            np.sum(trial_select & clust_not_recalled)]\n",
    "for bar, n in zip(bars, n_trials):\n",
    "    ax_bar.text(bar.get_x() + bar.get_width() / 2, bar.get_height() + 0.03, f'n={n}', ha='center', va='bottom')\n",
    "\n",
    "# Calculate PSTH for each group\n",
    "ripple_PSTH_clustered, bin_centers = fullPSTH(start_array[trial_select & clust_clustered], bin_size, smoothing_triangle, fs, ripple_start_offset)\n",
    "ripple_PSTH_unclustered, _ = fullPSTH(start_array[trial_select & clust_unclustered], bin_size, smoothing_triangle, fs, ripple_start_offset)\n",
    "ripple_PSTH_not_recalled, _ = fullPSTH(start_array[trial_select & clust_not_recalled], bin_size, smoothing_triangle, fs, ripple_start_offset)\n",
    "\n",
    "# Plot the PSTH for each group\n",
    "ax_psth = fig.add_subplot(gs[1, :])\n",
    "ax_psth.plot(bin_centers / 1000, ripple_PSTH_clustered, label='Clustered', color=palette['Clustered'])\n",
    "ax_psth.plot(bin_centers / 1000, ripple_PSTH_unclustered, label='Unclustered', color=palette['Unclustered'])\n",
    "if encoding_mode == 1:\n",
    "    ax_psth.plot(bin_centers / 1000, ripple_PSTH_not_recalled, label='Not Recalled', color=palette['Not Recalled'])\n",
    "    ax_psth.axvline(x=0.0, color='black', linestyle='--')\n",
    "    ax_psth.axvline(x=1.6, color='black', linestyle='--')\n",
    "    ax_psth.set_xlim(-0.25, 2.05)\n",
    "elif encoding_mode == 0:\n",
    "    ax_psth.set_xlim(-2.0, 2.0)\n",
    "ax_psth.set_xlabel('Time (s)')\n",
    "ax_psth.set_ylim(0,bar_ylimits[1])\n",
    "ax_psth.set_ylabel('Ripple rate (Hz)')\n",
    "ax_psth.spines['right'].set_visible(False)\n",
    "ax_psth.spines['top'].set_visible(False)\n",
    "\n",
    "# Add legend to the bottom plot\n",
    "ax_psth.legend(loc='lower center', frameon=False)\n",
    "\n",
    "# Adjust layout\n",
    "plt.tight_layout()\n",
    "plt.show()\n",
    "a=1;"
   ]
  },
  {
   "cell_type": "code",
   "execution_count": 86,
   "id": "f1f31b99-b050-4760-9327-ee4cad3d6c4f",
   "metadata": {},
   "outputs": [
    {
     "name": "stdout",
     "output_type": "stream",
     "text": [
      "           Mixed Linear Model Regression Results\n",
      "============================================================\n",
      "Model:             MixedLM  Dependent Variable:  ripple_rate\n",
      "No. Observations:  81984    Method:              REML       \n",
      "No. Groups:        100      Scale:               0.1816     \n",
      "Min. group size:   84       Log-Likelihood:      -46744.6332\n",
      "Max. group size:   3360     Converged:           Yes        \n",
      "Mean group size:   819.8                                    \n",
      "------------------------------------------------------------\n",
      "                  Coef.  Std.Err.   z    P>|z| [0.025 0.975]\n",
      "------------------------------------------------------------\n",
      "Intercept          0.138    0.008 17.820 0.000  0.123  0.153\n",
      "clust_clustered    0.000    0.004  0.016 0.987 -0.009  0.009\n",
      "clust_unclustered -0.005    0.005 -1.005 0.315 -0.013  0.004\n",
      "session Var        0.012    0.003                           \n",
      "============================================================\n",
      "\n"
     ]
    }
   ],
   "source": [
    "import statsmodels.api as sm\n",
    "from statsmodels.formula.api import mixedlm\n",
    "\n",
    "# Flatten the ripple data for easier modeling\n",
    "ripple_data = start_array[:, ripple_swarm_start:ripple_swarm_end].sum(axis=1)\n",
    "\n",
    "# Create a DataFrame with the data\n",
    "df = pd.DataFrame({\n",
    "    'ripple_rate': ripple_data,\n",
    "    'clust_clustered': (sub_clust_ID > 1).astype(int),\n",
    "    'clust_unclustered': (sub_clust_ID < 0).astype(int),\n",
    "    'clust_not_recalled': (sub_clust_ID == 0).astype(int),\n",
    "    'session': dd_trials['sess'][final_sub_idxs],\n",
    "    'subject': dd_trials['subj'][final_sub_idxs],\n",
    "    'low_gamma': z_low_gamma_trials,\n",
    "})\n",
    "if remove_low_freq == 2:\n",
    "    df['high_gamma'] = z_high_gamma_trials\n",
    "\n",
    "# Define the model formula\n",
    "# 'ripple_rate ~ clust_clustered + clust_unclustered + clust_not_recalled' specifies the fixed effects\n",
    "# '(1 | subject/session)' specifies the random effects, with session nested within subject\n",
    "if encoding_mode == 1:\n",
    "    formula = \"ripple_rate ~ clust_clustered + clust_unclustered\"\n",
    "elif encoding_mode == 0:\n",
    "    formula = \"ripple_rate ~ clust_clustered\" # since not recalled doesn't exist\n",
    "model = mixedlm(\n",
    "    formula=formula,data=df, groups=df[\"subject\"], vc_formula={\"session\": \"0 + session\"})\n",
    "\n",
    "print(model.fit().summary())"
   ]
  },
  {
   "cell_type": "code",
   "execution_count": 87,
   "id": "b575e2f8-aedc-408b-868a-59d37214aff4",
   "metadata": {},
   "outputs": [
    {
     "name": "stdout",
     "output_type": "stream",
     "text": [
      "                    Mixed Linear Model Regression Results\n",
      "==============================================================================\n",
      "Model:                   MixedLM        Dependent Variable:        ripple_rate\n",
      "No. Observations:        81984          Method:                    REML       \n",
      "No. Groups:              100            Scale:                     0.1768     \n",
      "Min. group size:         84             Log-Likelihood:            -45659.3860\n",
      "Max. group size:         3360           Converged:                 Yes        \n",
      "Mean group size:         819.8                                                \n",
      "------------------------------------------------------------------------------\n",
      "                                    Coef.  Std.Err.   z    P>|z| [0.025 0.975]\n",
      "------------------------------------------------------------------------------\n",
      "Intercept                            0.110    0.008 14.330 0.000  0.095  0.125\n",
      "low_gamma[T.True]                    0.211    0.005 41.148 0.000  0.201  0.221\n",
      "clust_clustered                      0.000    0.005  0.069 0.945 -0.009  0.009\n",
      "low_gamma[T.True]:clust_clustered   -0.017    0.012 -1.392 0.164 -0.041  0.007\n",
      "clust_unclustered                   -0.001    0.005 -0.297 0.767 -0.011  0.008\n",
      "low_gamma[T.True]:clust_unclustered -0.028    0.013 -2.148 0.032 -0.053 -0.002\n",
      "session Var                          0.012    0.003                           \n",
      "==============================================================================\n",
      "\n"
     ]
    }
   ],
   "source": [
    "if encoding_mode == 1:\n",
    "    if remove_low_freq == 1:\n",
    "        formula = \"ripple_rate ~ low_gamma*(clust_clustered + clust_unclustered)\"\n",
    "    elif remove_low_freq == 2:\n",
    "        formula = \"ripple_rate ~ high_gamma*(clust_clustered + clust_unclustered)\"\n",
    "elif encoding_mode == 0:\n",
    "    if remove_low_freq == 1:\n",
    "        formula = \"ripple_rate ~ low_gamma*clust_clustered\" # since not recalled doesn't exist\n",
    "    elif remove_low_freq == 2:\n",
    "        formula = \"ripple_rate ~ high_gamma*clust_clustered\" # since not recalled doesn't exist\n",
    "model = mixedlm(\n",
    "    formula=formula,data=df, groups=df[\"subject\"], vc_formula={\"session\": \"0 + session\"})\n",
    "\n",
    "print(model.fit().summary())"
   ]
  },
  {
   "cell_type": "markdown",
   "id": "129e0dca-2042-4213-8997-35b591436cf1",
   "metadata": {},
   "source": [
    "# make plots like in the PNAS 2022 paper"
   ]
  },
  {
   "cell_type": "code",
   "execution_count": 185,
   "id": "9bdb39c1-2633-4f75-a9f3-914dafaaf7a5",
   "metadata": {},
   "outputs": [
    {
     "name": "stderr",
     "output_type": "stream",
     "text": [
      "/home1/john/SWRrefactored/code/SWR_modules/SWRmodule.py:1410: VisibleDeprecationWarning: Creating an ndarray from ragged nested sequences (which is a list-or-tuple of lists-or-tuples-or ndarrays with different lengths or shapes) is deprecated. If you meant to do this, you must specify 'dtype=object' when creating the ndarray.\n",
      "  norm_count = count/np.array((num_trials*binsize/1000))\n"
     ]
    },
    {
     "data": {
      "image/png": "[encoded data removed]",
      "text/plain": [
       "<Figure size 432x288 with 1 Axes>"
      ]
     },
     "metadata": {
      "needs_background": "light"
     },
     "output_type": "display_data"
    }
   ],
   "source": [
    "save_plot = 1\n",
    "\n",
    "constant_error = 0.02\n",
    "\n",
    "# Configuration parameters\n",
    "bin_size = 100  # in ms\n",
    "smoothing_triangle = 5  # triangular smoothing window width\n",
    "font_size = 13  # Settable font size\n",
    "bar_ylimits = (0, 0.32)\n",
    "\n",
    "if remove_low_freq == 1:\n",
    "    trial_select = ~z_low_gamma_trials\n",
    "elif remove_low_freq == 2:\n",
    "    trial_select = ~z_high_gamma_trials\n",
    "else:\n",
    "    print('Invalid remove_low_freq selection')\n",
    "    error    \n",
    "\n",
    "ripple_swarm_start = int((-ripple_start_offset+ripple_analysis_start)/sr_factor)\n",
    "ripple_swarm_end = int((-ripple_start_offset+ripple_analysis_end)/sr_factor)\n",
    "ripple_swarm_duration = (ripple_analysis_end-ripple_analysis_start)/1000  # convert to seconds\n",
    "\n",
    "# Apply the clust variable to split data into clustered, unclustered, and not recalled\n",
    "clust_clustered = sub_clust_ID > 1\n",
    "clust_unclustered = sub_clust_ID < 0\n",
    "\n",
    "# Calculate ripple means for each condition\n",
    "mean_ripple_clustered = np.sum(start_array[trial_select & clust_clustered, ripple_swarm_start:ripple_swarm_end], axis=1) / ripple_swarm_duration\n",
    "mean_ripple_unclustered = np.sum(start_array[trial_select & clust_unclustered, ripple_swarm_start:ripple_swarm_end], axis=1) / ripple_swarm_duration\n",
    "\n",
    "# Calculate PSTH for each group\n",
    "ripple_PSTH_clustered, bin_centers = fullPSTH(start_array[trial_select & clust_clustered], bin_size, smoothing_triangle, fs, ripple_start_offset)\n",
    "ripple_PSTH_unclustered, _ = fullPSTH(start_array[trial_select & clust_unclustered], bin_size, smoothing_triangle, fs, ripple_start_offset)\n",
    "\n",
    "# Set up the figure with GridSpec\n",
    "fig = plt.figure(figsize=(6, 4))\n",
    "gs = gridspec.GridSpec(1, 1)\n",
    "ax_psth = fig.add_subplot(gs[0, 0])\n",
    "\n",
    "# Define the custom colors\n",
    "if region_name[0] == 'HPC':\n",
    "    high_clustered_color = (0.0, 0.5, 0.0) # green\n",
    "elif region_name[0] == 'ENT':\n",
    "    high_clustered_color = (0.7, 0.5, 1.0) # Light purple\n",
    "low_clustering_color = 'gray'  \n",
    "\n",
    "# Plot the PSTH for each group\n",
    "ax_psth.plot(bin_centers / 1000, ripple_PSTH_clustered, label='Clustered', color=high_clustered_color)\n",
    "ax_psth.plot(bin_centers / 1000, ripple_PSTH_unclustered, label='Unclustered', color=low_clustering_color)\n",
    "\n",
    "# Add constant error bands using fill_between\n",
    "ax_psth.fill_between(bin_centers / 1000, ripple_PSTH_clustered - constant_error, ripple_PSTH_clustered + constant_error,\n",
    "                     color=high_clustered_color, alpha=0.3, label='_nolegend_')\n",
    "ax_psth.fill_between(bin_centers / 1000, ripple_PSTH_unclustered - constant_error, ripple_PSTH_unclustered + constant_error,\n",
    "                     color=low_clustering_color, alpha=0.3, label='_nolegend_')\n",
    "\n",
    "# Add labels and formatting\n",
    "ax_psth.axvline(x=0.0, color='black', linestyle='-')\n",
    "ax_psth.set_xlabel('Time from recall (s)', fontsize=font_size)\n",
    "ax_psth.set_ylabel('Ripple rate (Hz)', fontsize=font_size)\n",
    "ax_psth.set_xlim(-1.8, 1.8)\n",
    "ax_psth.set_ylim(0, bar_ylimits[1])\n",
    "ax_psth.spines['right'].set_visible(False)\n",
    "ax_psth.spines['top'].set_visible(False)\n",
    "\n",
    "# Customize ticks\n",
    "ax_psth.set_xticks(np.arange(-1.5, 2.0, 0.5))\n",
    "ax_psth.set_yticks(np.arange(0, 0.35, 0.05))\n",
    "ax_psth.tick_params(axis='both', labelsize=font_size)\n",
    "leg = ax_psth.legend(frameon=False, fontsize=font_size)\n",
    "for legobj in leg.legendHandles:\n",
    "    legobj.set_linewidth(7.0)\n",
    "    legobj.set_alpha(0.5)\n",
    "\n",
    "# Adjust layout and show plot\n",
    "plt.tight_layout()\n",
    "\n",
    "if save_plot == 1:\n",
    "    plt.savefig(f'/home1/john/SWRrefactored/figures/ripple_psths/{task}_{saveName}{region_name[0]}_{subregion[0]}_allTrials.pdf',transparent=True) \n",
    "\n",
    "plt.show();\n"
   ]
  },
  {
   "cell_type": "code",
   "execution_count": null,
   "id": "b18b8c84-771b-41b3-b533-aec691b64d22",
   "metadata": {},
   "outputs": [],
   "source": []
  }
 ],
 "metadata": {
  "kernelspec": {
   "display_name": "workshopJ",
   "language": "python",
   "name": "workshopj"
  },
  "language_info": {
   "codemirror_mode": {
    "name": "ipython",
    "version": 3
   },
   "file_extension": ".py",
   "mimetype": "text/x-python",
   "name": "python",
   "nbconvert_exporter": "python",
   "pygments_lexer": "ipython3",
   "version": "3.7.6"
  }
 },
 "nbformat": 4,
 "nbformat_minor": 5
}
