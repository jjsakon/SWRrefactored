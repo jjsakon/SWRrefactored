{
 "cells": [
  {
   "cell_type": "code",
   "execution_count": 143,
   "id": "fc17f345-6597-4a33-8ed8-1b3b07d4e1c7",
   "metadata": {},
   "outputs": [
    {
     "name": "stdout",
     "output_type": "stream",
     "text": [
      "The autoreload extension is already loaded. To reload it, use:\n",
      "  %reload_ext autoreload\n"
     ]
    }
   ],
   "source": [
    "%load_ext autoreload\n",
    "%autoreload\n",
    "\n",
    "import pandas as pd; pd.set_option('display.max_columns', 30)\n",
    "import numpy as np\n",
    "from cmlreaders import CMLReader, get_data_index\n",
    "import ptsa\n",
    "import sys\n",
    "import os\n",
    "import matplotlib.pyplot as plt\n",
    "import seaborn as sb\n",
    "from pylab import *\n",
    "from copy import copy\n",
    "from scipy import stats\n",
    "plt.rcParams['pdf.fonttype'] = 42; plt.rcParams['ps.fonttype'] = 42 # fix fonts for Illustrator\n",
    "sys.path.append('/home1/john/SWRrefactored/code/SWR_modules/')\n",
    "from SWRmodule import *\n",
    "from general import * #superVstack,findInd,findAinB\n",
    "from power_functions import z_score, process_power, load_z_scored_power\n",
    "\n",
    "base = '/home1/john/SWRrefactored'\n",
    "sys.path.append(f'{base}/code/')\n",
    "\n",
    "from load_data_numpy import load_data_np\n",
    "from SWRmodule import triangleSmooth\n",
    "# from comodulogram import remove_session_string, get_filtered_signal\n",
    "# from fooof import FOOOF\n",
    "\n",
    "import statsmodels.formula.api as smf\n",
    "from scipy.signal import decimate, resample, hilbert, welch, spectrogram\n",
    "from mne.time_frequency import tfr_array_morlet\n",
    "\n",
    "# # Import the time & event model objects and Bands object to manage oscillation band definitions\n",
    "# from specparam import SpectralTimeModel, SpectralTimeEventModel, Bands\n",
    "# # Import helper utilities for simulating and plotting spectrograms\n",
    "# from specparam.sim import sim_spectrogram\n",
    "# from specparam.plts.spectra import plot_spectrogram"
   ]
  },
  {
   "cell_type": "code",
   "execution_count": 44,
   "id": "f5dac9c3-36a4-4597-92ff-c8b0631f509c",
   "metadata": {},
   "outputs": [
    {
     "data": {
      "text/plain": [
       "array([30.        , 32.87874679, 36.03373302, 39.49146613, 43.28099718,\n",
       "       47.4341649 , 51.98586324, 56.97433447, 62.44149056, 68.43326524,\n",
       "       75.        ])"
      ]
     },
     "execution_count": 44,
     "metadata": {},
     "output_type": "execute_result"
    }
   ],
   "source": [
    "np.logspace(np.log10(30),np.log10(75),11)"
   ]
  },
  {
   "cell_type": "code",
   "execution_count": 93,
   "id": "5846d65a-6e2d-4517-a199-5519e465efa1",
   "metadata": {},
   "outputs": [],
   "source": [
    "# for now the plotting code only works with one region at a time\n",
    "region_name = ['HPC'] # ['ENT'] # ['AMY']\n",
    "subregion = [''] #['ca1'] # can use [''] to select ALL subregions\n",
    "task = 'catFR1' # 'catFR1'\n",
    "savePath = f'{base}/figures/'\n",
    "\n",
    "# 1 for encoding, 0 for recall\n",
    "encoding_mode_arr = [1] #[0,1] \n",
    "freq_range_str_arr = ['high', 'low']\n",
    "\n",
    "# define frequency ranges\n",
    "buffer = 2000 # time in ms to buffer trials (for Morlet)\n",
    "low_fq_range = [[2,4],[7,9]]\n",
    "high_fq_range = [[33.5,75], [80,178]]\n",
    "\n",
    "plot_error_bars = True\n",
    "\n",
    "fs = 500 # sampling rate for raw data and ripples from createEventsForDF.py"
   ]
  },
  {
   "cell_type": "code",
   "execution_count": 94,
   "id": "e797f45e-897c-4481-9c7d-21669bfa0307",
   "metadata": {
    "tags": []
   },
   "outputs": [
    {
     "data": {
      "text/plain": [
       "(18408, 1500)"
      ]
     },
     "execution_count": 94,
     "metadata": {},
     "output_type": "execute_result"
    },
    {
     "data": {
      "text/plain": [
       "(18408, 2500)"
      ]
     },
     "execution_count": 94,
     "metadata": {},
     "output_type": "execute_result"
    },
    {
     "data": {
      "text/plain": [
       "dict_keys(['ripple', 'clust', 'correct', 'position', 'list_num', 'subj', 'sess', 'elec_names', 'elec_labels', 'serial_pos', 'raw', 'elec_by_elec_correlation', 'trial_by_trial_correlation', 'elec_ripple_rate_array', 'category_array', 'clust_int'])"
      ]
     },
     "execution_count": 94,
     "metadata": {},
     "output_type": "execute_result"
    },
    {
     "data": {
      "text/plain": [
       "array(['R1108J-0_RU1-RU2', 'R1108J-0_RU3-RU4', 'R1108J-0_RU4-RU5',\n",
       "       'R1108J-0_RU5-RU6', 'R1108J-0_RU6-RU7', 'R1108J-0_RU8-RU9',\n",
       "       'R1108J-1_RU1-RU2', 'R1108J-1_RU3-RU4', 'R1108J-1_RU4-RU5',\n",
       "       'R1108J-1_RU5-RU6', 'R1108J-1_RU6-RU7', 'R1108J-1_RU8-RU9',\n",
       "       'R1108J-2_RU1-RU2', 'R1108J-2_RU3-RU4', 'R1108J-2_RU4-RU5',\n",
       "       'R1108J-2_RU5-RU6', 'R1108J-2_RU6-RU7', 'R1108J-2_RU8-RU9',\n",
       "       'R1108J-3_RU1-RU2', 'R1108J-3_RU3-RU4', 'R1108J-3_RU4-RU5',\n",
       "       'R1108J-3_RU5-RU6', 'R1108J-3_RU6-RU7', 'R1108J-3_RU8-RU9',\n",
       "       'R1112M-0_RAD3-RAD4', 'R1486J-0_ROF3-ROF4', 'R1486J-0_ROF7-ROF8',\n",
       "       'R1486J-0_ROF9-ROF10', 'R1486J-1_ROF3-ROF4', 'R1486J-1_ROF7-ROF8',\n",
       "       'R1486J-1_ROF9-ROF10', 'R1486J-2_ROF3-ROF4', 'R1486J-2_ROF7-ROF8',\n",
       "       'R1486J-2_ROF9-ROF10', 'R1486J-3_ROF3-ROF4', 'R1486J-3_ROF7-ROF8',\n",
       "       'R1486J-3_ROF9-ROF10', 'R1501J-6_Ri3-Ri4', 'R1501J-6_Ri5-Ri6',\n",
       "       'R1501J-6_Ri6-Ri7', 'R1501J-6_Ri7-Ri8', 'R1501J-8_Ri3-Ri4',\n",
       "       'R1501J-8_Ri5-Ri6', 'R1501J-8_Ri6-Ri7', 'R1501J-8_Ri7-Ri8',\n",
       "       'R1525J-0_RA1-RA2', 'R1525J-0_RA10-RA11', 'R1525J-0_RA11-RA12',\n",
       "       'R1525J-0_RA12-RA1', 'R1525J-0_RA3-RA4', 'R1525J-0_RA4-RA5',\n",
       "       'R1525J-0_RA7-RA8', 'R1525J-0_RA8-RA9', 'R1525J-0_RA9-RA10',\n",
       "       'R1525J-0_ROP1-ROP2', 'R1525J-0_ROP2-ROP3', 'R1525J-0_ROP5-ROP6',\n",
       "       'R1525J-0_ROP6-ROP7', 'R1525J-2_RA1-RA2', 'R1525J-2_RA10-RA11',\n",
       "       'R1525J-2_RA11-RA12', 'R1525J-2_RA12-RA1', 'R1525J-2_RA3-RA4',\n",
       "       'R1525J-2_RA4-RA5', 'R1525J-2_RA7-RA8', 'R1525J-2_RA8-RA9',\n",
       "       'R1525J-2_RA9-RA10', 'R1525J-2_ROP1-ROP2', 'R1525J-2_ROP2-ROP3',\n",
       "       'R1525J-2_ROP5-ROP6', 'R1525J-2_ROP6-ROP7', 'R1525J-4_RA1-RA2',\n",
       "       'R1525J-4_RA10-RA11', 'R1525J-4_RA11-RA12', 'R1525J-4_RA12-RA1',\n",
       "       'R1525J-4_RA3-RA4', 'R1525J-4_RA4-RA5', 'R1525J-4_RA7-RA8',\n",
       "       'R1525J-4_RA8-RA9', 'R1525J-4_RA9-RA10', 'R1525J-4_ROP1-ROP2',\n",
       "       'R1525J-4_ROP2-ROP3', 'R1525J-4_ROP5-ROP6', 'R1525J-4_ROP6-ROP7',\n",
       "       'R1525J-5_RA1-RA2', 'R1525J-5_RA10-RA11', 'R1525J-5_RA11-RA12',\n",
       "       'R1525J-5_RA12-RA1', 'R1525J-5_RA3-RA4', 'R1525J-5_RA4-RA5',\n",
       "       'R1525J-5_RA7-RA8', 'R1525J-5_RA8-RA9', 'R1525J-5_RA9-RA10',\n",
       "       'R1525J-5_ROP1-ROP2', 'R1525J-5_ROP2-ROP3', 'R1525J-5_ROP5-ROP6',\n",
       "       'R1525J-5_ROP6-ROP7', 'R1525J-6_RA1-RA2', 'R1525J-6_RA10-RA11',\n",
       "       'R1525J-6_RA11-RA12', 'R1525J-6_RA12-RA1', 'R1525J-6_RA3-RA4',\n",
       "       'R1525J-6_RA4-RA5', 'R1525J-6_RA7-RA8', 'R1525J-6_RA8-RA9',\n",
       "       'R1525J-6_RA9-RA10', 'R1525J-6_ROP1-ROP2', 'R1525J-6_ROP2-ROP3',\n",
       "       'R1525J-6_ROP5-ROP6', 'R1525J-6_ROP6-ROP7'], dtype='<U19')"
      ]
     },
     "execution_count": 94,
     "metadata": {},
     "output_type": "execute_result"
    }
   ],
   "source": [
    "np.shape(dd_trials['ripple'])\n",
    "np.shape(dd_trials['raw'])\n",
    "dd_trials.keys()\n",
    "np.unique(dd_trials['elec_labels'])"
   ]
  },
  {
   "cell_type": "code",
   "execution_count": 95,
   "id": "105c8ab8-3da0-405c-921b-f9ae99143a46",
   "metadata": {
    "collapsed": true,
    "jupyter": {
     "outputs_hidden": true
    },
    "tags": []
   },
   "outputs": [
    {
     "name": "stdout",
     "output_type": "stream",
     "text": [
      "Loading data\n",
      "LOADING DATA FROM: HPC FOR EXPERIMENT catFR1\n",
      "elec_by_elec_correlation\n",
      "elec_by_elec_correlation\n",
      "elec_by_elec_correlation\n",
      "elec_by_elec_correlation\n",
      "elec_by_elec_correlation\n",
      "elec_by_elec_correlation\n",
      "elec_by_elec_correlation\n",
      "elec_by_elec_correlation\n",
      "elec_by_elec_correlation\n",
      "elec_by_elec_correlation\n",
      "elec_by_elec_correlation\n",
      "elec_by_elec_correlation\n",
      "elec_by_elec_correlation\n",
      "elec_by_elec_correlation\n",
      "elec_by_elec_correlation\n",
      "elec_by_elec_correlation\n",
      "elec_by_elec_correlation\n",
      "elec_by_elec_correlation\n",
      "elec_by_elec_correlation\n",
      "elec_by_elec_correlation\n",
      "elec_by_elec_correlation\n",
      "elec_by_elec_correlation\n",
      "elec_by_elec_correlation\n",
      "order: C\n"
     ]
    },
    {
     "name": "stderr",
     "output_type": "stream",
     "text": [
      "/home1/john/SWRrefactored/code/SWR_modules/load_data.py:433: VisibleDeprecationWarning: Creating an ndarray from ragged nested sequences (which is a list-or-tuple of lists-or-tuples-or ndarrays with different lengths or shapes) is deprecated. If you meant to do this, you must specify 'dtype=object' when creating the ndarray.\n",
      "  dd_trials[key] = np.asarray(val)\n"
     ]
    },
    {
     "name": "stdout",
     "output_type": "stream",
     "text": [
      "Generating figures for run_mode:  1\n",
      "--Call--\n",
      "> \u001b[0;32m/home1/john/anaconda3/envs/workshopJ/lib/python3.7/site-packages/IPython/core/displayhook.py\u001b[0m(252)\u001b[0;36m__call__\u001b[0;34m()\u001b[0m\n",
      "\u001b[0;32m    251 \u001b[0;31m\u001b[0;34m\u001b[0m\u001b[0m\n",
      "\u001b[0m\u001b[0;32m--> 252 \u001b[0;31m    \u001b[0;32mdef\u001b[0m \u001b[0m__call__\u001b[0m\u001b[0;34m(\u001b[0m\u001b[0mself\u001b[0m\u001b[0;34m,\u001b[0m \u001b[0mresult\u001b[0m\u001b[0;34m=\u001b[0m\u001b[0;32mNone\u001b[0m\u001b[0;34m)\u001b[0m\u001b[0;34m:\u001b[0m\u001b[0;34m\u001b[0m\u001b[0;34m\u001b[0m\u001b[0m\n",
      "\u001b[0m\u001b[0;32m    253 \u001b[0;31m        \"\"\"Printing with history cache management.\n",
      "\u001b[0m\n"
     ]
    },
    {
     "name": "stdin",
     "output_type": "stream",
     "text": [
      "ipdb>  q\n"
     ]
    },
    {
     "ename": "BdbQuit",
     "evalue": "",
     "output_type": "error",
     "traceback": [
      "\u001b[0;31m---------------------------------------------------------------------------\u001b[0m",
      "\u001b[0;31mBdbQuit\u001b[0m                                   Traceback (most recent call last)",
      "\u001b[0;32m/tmp/ipykernel_114628/3407426715.py\u001b[0m in \u001b[0;36m<module>\u001b[0;34m\u001b[0m\n\u001b[1;32m     51\u001b[0m         \u001b[0;32melif\u001b[0m \u001b[0;34m'Theta'\u001b[0m \u001b[0;32min\u001b[0m \u001b[0mylabel\u001b[0m\u001b[0;34m:\u001b[0m\u001b[0;34m\u001b[0m\u001b[0;34m\u001b[0m\u001b[0m\n\u001b[1;32m     52\u001b[0m             \u001b[0mfq_range\u001b[0m \u001b[0;34m=\u001b[0m \u001b[0mlow_fq_range\u001b[0m\u001b[0;34m\u001b[0m\u001b[0;34m\u001b[0m\u001b[0m\n\u001b[0;32m---> 53\u001b[0;31m         \u001b[0;32mimport\u001b[0m \u001b[0mipdb\u001b[0m\u001b[0;34m;\u001b[0m \u001b[0mipdb\u001b[0m\u001b[0;34m.\u001b[0m\u001b[0mset_trace\u001b[0m\u001b[0;34m(\u001b[0m\u001b[0;34m)\u001b[0m\u001b[0;34m\u001b[0m\u001b[0;34m\u001b[0m\u001b[0m\n\u001b[0m\u001b[1;32m     54\u001b[0m         \u001b[0;31m# loop through sub-bands of gamma or theta\u001b[0m\u001b[0;34m\u001b[0m\u001b[0;34m\u001b[0m\u001b[0;34m\u001b[0m\u001b[0m\n\u001b[1;32m     55\u001b[0m         \u001b[0;32mfor\u001b[0m \u001b[0mpower_z_i\u001b[0m\u001b[0;34m,\u001b[0m \u001b[0mf\u001b[0m \u001b[0;32min\u001b[0m \u001b[0mzip\u001b[0m\u001b[0;34m(\u001b[0m\u001b[0mpower_z\u001b[0m\u001b[0;34m,\u001b[0m \u001b[0mfq_range\u001b[0m\u001b[0;34m)\u001b[0m\u001b[0;34m:\u001b[0m\u001b[0;34m\u001b[0m\u001b[0;34m\u001b[0m\u001b[0m\n",
      "\u001b[0;32m~/anaconda3/envs/workshopJ/lib/python3.7/site-packages/IPython/core/displayhook.py\u001b[0m in \u001b[0;36m__call__\u001b[0;34m(self, result)\u001b[0m\n\u001b[1;32m    250\u001b[0m         \u001b[0msys\u001b[0m\u001b[0;34m.\u001b[0m\u001b[0mstdout\u001b[0m\u001b[0;34m.\u001b[0m\u001b[0mflush\u001b[0m\u001b[0;34m(\u001b[0m\u001b[0;34m)\u001b[0m\u001b[0;34m\u001b[0m\u001b[0;34m\u001b[0m\u001b[0m\n\u001b[1;32m    251\u001b[0m \u001b[0;34m\u001b[0m\u001b[0m\n\u001b[0;32m--> 252\u001b[0;31m     \u001b[0;32mdef\u001b[0m \u001b[0m__call__\u001b[0m\u001b[0;34m(\u001b[0m\u001b[0mself\u001b[0m\u001b[0;34m,\u001b[0m \u001b[0mresult\u001b[0m\u001b[0;34m=\u001b[0m\u001b[0;32mNone\u001b[0m\u001b[0;34m)\u001b[0m\u001b[0;34m:\u001b[0m\u001b[0;34m\u001b[0m\u001b[0;34m\u001b[0m\u001b[0m\n\u001b[0m\u001b[1;32m    253\u001b[0m         \"\"\"Printing with history cache management.\n\u001b[1;32m    254\u001b[0m \u001b[0;34m\u001b[0m\u001b[0m\n",
      "\u001b[0;32m~/anaconda3/envs/workshopJ/lib/python3.7/bdb.py\u001b[0m in \u001b[0;36mtrace_dispatch\u001b[0;34m(self, frame, event, arg)\u001b[0m\n\u001b[1;32m     88\u001b[0m             \u001b[0;32mreturn\u001b[0m \u001b[0mself\u001b[0m\u001b[0;34m.\u001b[0m\u001b[0mdispatch_line\u001b[0m\u001b[0;34m(\u001b[0m\u001b[0mframe\u001b[0m\u001b[0;34m)\u001b[0m\u001b[0;34m\u001b[0m\u001b[0;34m\u001b[0m\u001b[0m\n\u001b[1;32m     89\u001b[0m         \u001b[0;32mif\u001b[0m \u001b[0mevent\u001b[0m \u001b[0;34m==\u001b[0m \u001b[0;34m'call'\u001b[0m\u001b[0;34m:\u001b[0m\u001b[0;34m\u001b[0m\u001b[0;34m\u001b[0m\u001b[0m\n\u001b[0;32m---> 90\u001b[0;31m             \u001b[0;32mreturn\u001b[0m \u001b[0mself\u001b[0m\u001b[0;34m.\u001b[0m\u001b[0mdispatch_call\u001b[0m\u001b[0;34m(\u001b[0m\u001b[0mframe\u001b[0m\u001b[0;34m,\u001b[0m \u001b[0marg\u001b[0m\u001b[0;34m)\u001b[0m\u001b[0;34m\u001b[0m\u001b[0;34m\u001b[0m\u001b[0m\n\u001b[0m\u001b[1;32m     91\u001b[0m         \u001b[0;32mif\u001b[0m \u001b[0mevent\u001b[0m \u001b[0;34m==\u001b[0m \u001b[0;34m'return'\u001b[0m\u001b[0;34m:\u001b[0m\u001b[0;34m\u001b[0m\u001b[0;34m\u001b[0m\u001b[0m\n\u001b[1;32m     92\u001b[0m             \u001b[0;32mreturn\u001b[0m \u001b[0mself\u001b[0m\u001b[0;34m.\u001b[0m\u001b[0mdispatch_return\u001b[0m\u001b[0;34m(\u001b[0m\u001b[0mframe\u001b[0m\u001b[0;34m,\u001b[0m \u001b[0marg\u001b[0m\u001b[0;34m)\u001b[0m\u001b[0;34m\u001b[0m\u001b[0;34m\u001b[0m\u001b[0m\n",
      "\u001b[0;32m~/anaconda3/envs/workshopJ/lib/python3.7/bdb.py\u001b[0m in \u001b[0;36mdispatch_call\u001b[0;34m(self, frame, arg)\u001b[0m\n\u001b[1;32m    133\u001b[0m             \u001b[0;32mreturn\u001b[0m \u001b[0mself\u001b[0m\u001b[0;34m.\u001b[0m\u001b[0mtrace_dispatch\u001b[0m\u001b[0;34m\u001b[0m\u001b[0;34m\u001b[0m\u001b[0m\n\u001b[1;32m    134\u001b[0m         \u001b[0mself\u001b[0m\u001b[0;34m.\u001b[0m\u001b[0muser_call\u001b[0m\u001b[0;34m(\u001b[0m\u001b[0mframe\u001b[0m\u001b[0;34m,\u001b[0m \u001b[0marg\u001b[0m\u001b[0;34m)\u001b[0m\u001b[0;34m\u001b[0m\u001b[0;34m\u001b[0m\u001b[0m\n\u001b[0;32m--> 135\u001b[0;31m         \u001b[0;32mif\u001b[0m \u001b[0mself\u001b[0m\u001b[0;34m.\u001b[0m\u001b[0mquitting\u001b[0m\u001b[0;34m:\u001b[0m \u001b[0;32mraise\u001b[0m \u001b[0mBdbQuit\u001b[0m\u001b[0;34m\u001b[0m\u001b[0;34m\u001b[0m\u001b[0m\n\u001b[0m\u001b[1;32m    136\u001b[0m         \u001b[0;32mreturn\u001b[0m \u001b[0mself\u001b[0m\u001b[0;34m.\u001b[0m\u001b[0mtrace_dispatch\u001b[0m\u001b[0;34m\u001b[0m\u001b[0;34m\u001b[0m\u001b[0m\n\u001b[1;32m    137\u001b[0m \u001b[0;34m\u001b[0m\u001b[0m\n",
      "\u001b[0;31mBdbQuit\u001b[0m: "
     ]
    }
   ],
   "source": [
    "for encoding_mode in encoding_mode_arr:\n",
    "\n",
    "    dd_trials = load_data_np(encoding_mode,task,\n",
    "        region_name=region_name, train_only=False, subregion=subregion)\n",
    "    \n",
    "    region_str = region_name[0]\n",
    "    subregion_str = subregion[0]\n",
    "    \n",
    "    clust = dd_trials['clust_int']\n",
    "    notclust_idxs = np.argwhere(clust<0).squeeze()\n",
    "    clust_idxs = np.argwhere(clust>0).squeeze()\n",
    "    \n",
    "    if encoding_mode:\n",
    "        saveName = 'encoding_'\n",
    "        recall_str = ''\n",
    "        time = np.linspace(-0.7, 2.3, 150)\n",
    "        correct = dd_trials['correct']\n",
    "        incorrect_idxs = np.argwhere(correct==0).squeeze()\n",
    "        start_cutoff = 300 # times (in s) relative to word_on \n",
    "        end_cutoff = 1300 \n",
    "        \n",
    "    else:\n",
    "        saveName = 'recall_'\n",
    "        recall_str = '_recall'\n",
    "        time = np.linspace(-2, 2, 200)\n",
    "        start_cutoff = -1000\n",
    "        end_cutoff = 0      \n",
    "        \n",
    "    # convert time ranges to samples\n",
    "    sr_factor = 1000/fs\n",
    "    # data taken is from -1.7 to 3.3 s from word_on so account for that by adding 1700 ms\n",
    "    start_cutoff = 0\n",
    "    end_cutoff = 2500 # just take the whole range of data to better estimate Morlet\n",
    "#     start_cutoff = int((1700+start_cutoff-buffer)/sr_factor) # this comes to 0:2500 anyway\n",
    "#     end_cutoff = int((1700+end_cutoff+buffer)/sr_factor)     # ...so just index in time from here\n",
    "    \n",
    "    \n",
    "    print(\"Generating figures for run_mode: \", encoding_mode)\n",
    "    # starts with high and moves to low\n",
    "    for power_z, ylabel in load_z_scored_power(dd_trials, freq_range_str_arr, encoding_mode,fs,\n",
    "                                    high_fq_range, low_fq_range, start_cutoff, end_cutoff):\n",
    "        # note that output is 50 Hz (20 ms bins) since started 500 hz and decimated 10x\n",
    "\n",
    "        if len(subregion[0]) > 0:\n",
    "            subregion_str = f'_{subregion[0]}'\n",
    "        else:\n",
    "            subregion_str = ''\n",
    "            \n",
    "        if 'Gamma' in ylabel:\n",
    "            fq_range = high_fq_range\n",
    "        elif 'Theta' in ylabel:\n",
    "            fq_range = low_fq_range\n",
    "        import ipdb; ipdb.set_trace()\n",
    "        # loop through sub-bands of gamma or theta\n",
    "        for power_z_i, f in zip(power_z, fq_range): \n",
    "\n",
    "            plt.figure(figsize=(10,6))\n",
    "\n",
    "            # Calculate mean and SEM\n",
    "            mean_clust = np.mean(power_z_i[clust_idxs].squeeze(), axis=0)\n",
    "            mean_not_clust = np.mean(power_z_i[notclust_idxs].squeeze(), axis=0)\n",
    "            sem_clust = np.std(power_z_i[clust_idxs].squeeze(), axis=0) / np.sqrt(len(clust_idxs))\n",
    "            sem_not_clust = np.std(power_z_i[notclust_idxs].squeeze(), axis=0) / np.sqrt(len(notclust_idxs))\n",
    "            \n",
    "            # Apply smoothing\n",
    "            mean_clust_smooth = triangleSmooth(mean_clust, smoothing_triangle=5)\n",
    "            mean_not_clust_smooth = triangleSmooth(mean_not_clust, smoothing_triangle=5)\n",
    "            sem_clust_smooth = triangleSmooth(sem_clust, smoothing_triangle=5)\n",
    "            sem_not_clust_smooth = triangleSmooth(sem_not_clust, smoothing_triangle=5)\n",
    "\n",
    "a=1;            "
   ]
  },
  {
   "cell_type": "code",
   "execution_count": 103,
   "id": "306ee27f-6e67-4b7d-8287-69622a8cca9b",
   "metadata": {},
   "outputs": [
    {
     "data": {
      "text/plain": [
       "dict_keys(['ripple', 'clust', 'correct', 'position', 'list_num', 'subj', 'sess', 'elec_names', 'elec_labels', 'serial_pos', 'raw', 'elec_by_elec_correlation', 'trial_by_trial_correlation', 'elec_ripple_rate_array', 'category_array', 'clust_int'])"
      ]
     },
     "execution_count": 103,
     "metadata": {},
     "output_type": "execute_result"
    },
    {
     "data": {
      "text/plain": [
       "(39768, 1500)"
      ]
     },
     "execution_count": 103,
     "metadata": {},
     "output_type": "execute_result"
    },
    {
     "data": {
      "text/plain": [
       "(39768, 2500)"
      ]
     },
     "execution_count": 103,
     "metadata": {},
     "output_type": "execute_result"
    },
    {
     "data": {
      "text/plain": [
       "array(['R1108J', 'R1112M', 'R1328E', 'R1405E', 'R1486J', 'R1501J',\n",
       "       'R1525J'], dtype='<U6')"
      ]
     },
     "execution_count": 103,
     "metadata": {},
     "output_type": "execute_result"
    },
    {
     "data": {
      "text/plain": [
       "(2, 39768, 250)"
      ]
     },
     "execution_count": 103,
     "metadata": {},
     "output_type": "execute_result"
    },
    {
     "data": {
      "text/plain": [
       "['high', 'low']"
      ]
     },
     "execution_count": 103,
     "metadata": {},
     "output_type": "execute_result"
    },
    {
     "data": {
      "text/plain": [
       "[[33.5, 75], [80, 178]]"
      ]
     },
     "execution_count": 103,
     "metadata": {},
     "output_type": "execute_result"
    },
    {
     "data": {
      "text/plain": [
       "[[2, 4], [7, 9]]"
      ]
     },
     "execution_count": 103,
     "metadata": {},
     "output_type": "execute_result"
    }
   ],
   "source": [
    "dd_trials.keys()\n",
    "np.shape(dd_trials['ripple'])\n",
    "np.shape(dd_trials['raw'])\n",
    "\n",
    "np.shape(power_z)\n",
    "freq_range_str_arr\n",
    "high_fq_range\n",
    "low_fq_range\n",
    "\n",
    "unique_subs = np.unique(dd_trials['subj'])\n",
    "unique_subs"
   ]
  },
  {
   "cell_type": "code",
   "execution_count": 157,
   "id": "7c8960e2-8765-4f83-9a75-ad842b2c1c6d",
   "metadata": {},
   "outputs": [
    {
     "data": {
      "text/plain": [
       "(2, 864, 250)"
      ]
     },
     "execution_count": 157,
     "metadata": {},
     "output_type": "execute_result"
    },
    {
     "name": "stdout",
     "output_type": "stream",
     "text": [
      "244 ripples trials are 28.24% of total\n"
     ]
    }
   ],
   "source": [
    "# select a patient\n",
    "patient_idx = 1\n",
    "unique_subs[patient_idx]\n",
    "sub_idxs = dd_trials['subj']==unique_subs[patient_idx]\n",
    "sum(sub_idxs)\n",
    "\n",
    "sub_ripples = dd_trials['ripple'][sub_idxs] # ripples are detected from -0.7 to 2.3 s @ 500 Hz\n",
    "sub_Zs = power_z[:,sub_idxs,:]\n",
    "np.shape(sub_Zs)\n",
    "ripple_start = 300 # time in ms\n",
    "ripple_end = 1300 # time in ms\n",
    "\n",
    "ripple_trials = np.sum(sub_ripples[:,int((700+ripple_start)/sr_factor):int((700+ripple_end)/sr_factor)],1)>0\n",
    "print(f'{sum(ripple_trials)} ripples trials are {np.round(100*sum(ripple_trials)/sum(sub_idxs),2)}% of total')\n",
    "\n",
    "z_factor = sr_factor*10 # z_score was decimated 10x\n",
    "# average z-score over time for same range as ripples\n",
    "ripple_time_range = slice(int((1700+ripple_start)/z_factor),int((1700+ripple_end)/z_factor))\n",
    "z_low_gamma_trials = np.mean(sub_Zs[0,:,ripple_time_range],1)>1.0\n",
    "z_high_gamma_trials = np.mean(sub_Zs[1,:,ripple_time_range],1)>1.0"
   ]
  },
  {
   "cell_type": "code",
   "execution_count": 181,
   "id": "d80a8a2d-fbb9-48b1-a49c-bec9dc3c9384",
   "metadata": {},
   "outputs": [
    {
     "name": "stderr",
     "output_type": "stream",
     "text": [
      "/home1/john/anaconda3/envs/workshopJ/lib/python3.7/site-packages/seaborn/categorical.py:1296: UserWarning: 9.2% of the points cannot be placed; you may want to decrease the size of the markers or use stripplot.\n",
      "  warnings.warn(msg, UserWarning)\n"
     ]
    },
    {
     "data": {
      "image/png": "[encoded data removed]",
      "text/plain": [
       "<Figure size 576x576 with 4 Axes>"
      ]
     },
     "metadata": {
      "needs_background": "light"
     },
     "output_type": "display_data"
    }
   ],
   "source": [
    "import seaborn as sb\n",
    "from scipy.signal import decimate\n",
    "import matplotlib.gridspec as gridspec\n",
    "\n",
    "# Set the time range for x-axis for mean over time (ripple_time_range handles the time range for the swarm)\n",
    "time_bins = np.linspace(-0.2, 2.0, 100)  # 100 bins from -0.2 to 2.0 seconds\n",
    "swarm_ylimits = [-4.0, 8.0]\n",
    "mean_ylimits = [-1.0, 2.0]\n",
    "\n",
    "\n",
    "# Extract the data for each group\n",
    "data_ripples = sub_Zs[0, ripple_trials, ripple_time_range].mean(axis=1)\n",
    "data_low_gamma = sub_Zs[0, ~ripple_trials, ripple_time_range].mean(axis=1)\n",
    "data_high_gamma = sub_Zs[0, ~ripple_trials & z_high_gamma_trials, ripple_time_range].mean(axis=1)\n",
    "\n",
    "# Combine the data into a single array\n",
    "data_combined = np.concatenate([data_ripples, data_low_gamma, data_high_gamma])\n",
    "\n",
    "# Create labels for each group\n",
    "labels = (['Ripple trials'] * len(data_ripples) +\n",
    "          ['Non-ripple trials'] * len(data_low_gamma) +\n",
    "          ['Non-ripple with high gamma'] * len(data_high_gamma))\n",
    "\n",
    "# Colors for each group\n",
    "palette = sb.color_palette(\"colorblind\", 3)\n",
    "\n",
    "# Set up the figure with GridSpec\n",
    "fig = plt.figure(figsize=(8, 8))  # Overall figure size\n",
    "gs = gridspec.GridSpec(4, 3, height_ratios=[3, 1, 1, 1])  # Swarm plot is 3x as tall\n",
    "\n",
    "# Create the swarmplot (span all 3 columns)\n",
    "ax_swarm = fig.add_subplot(gs[0, :])\n",
    "sb.swarmplot(x=labels, y=data_combined, palette=palette, size=3.5)  \n",
    "ax_swarm.set_ylabel('Gamma z-score')\n",
    "ax_swarm.set_xlabel('Trial Type')\n",
    "ax_swarm.set_ylim(swarm_ylimits)\n",
    "ax_swarm.title(\n",
    "\n",
    "# Function to calculate mean and SE\n",
    "def mean_and_se(data):\n",
    "    mean = data.mean(axis=0)\n",
    "    se = data.std(axis=0) / np.sqrt(data.shape[0])\n",
    "    return mean, se\n",
    "\n",
    "# Decimate time bins\n",
    "decimation_factor = 10\n",
    "time_bins_decimated = decimate(time_bins, decimation_factor)\n",
    "plot_time_range_decimated = slice(None, None, decimation_factor)\n",
    "\n",
    "# Plot for Ripple trials\n",
    "mean_ripples, se_ripples = mean_and_se(sub_Zs[0, ripple_trials, plot_time_range])\n",
    "mean_ripples_decimated = decimate(mean_ripples, decimation_factor)\n",
    "se_ripples_decimated = decimate(se_ripples, decimation_factor)\n",
    "\n",
    "ax_ripple = fig.add_subplot(gs[1, 0])  # Ripple plot\n",
    "ax_ripple.plot(time_bins_decimated, mean_ripples_decimated, label='Ripple trials', color=palette[0])\n",
    "ax_ripple.fill_between(time_bins_decimated, mean_ripples_decimated - se_ripples_decimated,\n",
    "                       mean_ripples_decimated + se_ripples_decimated, alpha=0.3, color=palette[0])\n",
    "ax_ripple.axvline(x=0.0, color='black', linestyle='--')\n",
    "ax_ripple.axvline(x=1.6, color='black', linestyle='--')\n",
    "ax_ripple.set_ylabel('Mean z-score')\n",
    "ax_ripple.set_xlabel('Time (s)')\n",
    "ax_ripple.set_xlim(-0.25, 2.05)\n",
    "ax_ripple.set_ylim(mean_ylimits)\n",
    "\n",
    "# Plot for Non-ripple trials\n",
    "mean_low_gamma, se_low_gamma = mean_and_se(sub_Zs[0, ~ripple_trials, plot_time_range])\n",
    "mean_low_gamma_decimated = decimate(mean_low_gamma, decimation_factor)\n",
    "se_low_gamma_decimated = decimate(se_low_gamma, decimation_factor)\n",
    "\n",
    "ax_low_gamma = fig.add_subplot(gs[1, 1])  # Non-ripple plot\n",
    "ax_low_gamma.plot(time_bins_decimated, mean_low_gamma_decimated, label='Non-ripple trials', color=palette[1])\n",
    "ax_low_gamma.fill_between(time_bins_decimated, mean_low_gamma_decimated - se_low_gamma_decimated,\n",
    "                          mean_low_gamma_decimated + se_low_gamma_decimated, alpha=0.3, color=palette[1])\n",
    "ax_low_gamma.axvline(x=0.0, color='black', linestyle='--')\n",
    "ax_low_gamma.axvline(x=1.6, color='black', linestyle='--')\n",
    "ax_low_gamma.set_xlabel('Time (s)')\n",
    "ax_low_gamma.set_xlim(-0.25, 2.05)\n",
    "ax_low_gamma.set_ylim(mean_ylimits)\n",
    "\n",
    "# Plot for Non-ripple trials with high gamma\n",
    "mean_high_gamma, se_high_gamma = mean_and_se(sub_Zs[0, ~ripple_trials & z_high_gamma_trials, plot_time_range])\n",
    "mean_high_gamma_decimated = decimate(mean_high_gamma, decimation_factor)\n",
    "se_high_gamma_decimated = decimate(se_high_gamma, decimation_factor)\n",
    "\n",
    "ax_high_gamma = fig.add_subplot(gs[1, 2])  # High gamma plot\n",
    "ax_high_gamma.plot(time_bins_decimated, mean_high_gamma_decimated, label='Non-ripple with High Gamma', color=palette[2])\n",
    "ax_high_gamma.fill_between(time_bins_decimated, mean_high_gamma_decimated - se_high_gamma_decimated,\n",
    "                           mean_high_gamma_decimated + se_high_gamma_decimated, alpha=0.3, color=palette[2])\n",
    "ax_high_gamma.axvline(x=0.0, color='black', linestyle='--')\n",
    "ax_high_gamma.axvline(x=1.6, color='black', linestyle='--')\n",
    "ax_high_gamma.set_xlabel('Time (s)')\n",
    "ax_high_gamma.set_xlim(-0.25, 2.05)\n",
    "ax_high_gamma.set_ylim(mean_ylimits)\n",
    "\n",
    "# Remove y-labels from all but the first plot\n",
    "ax_low_gamma.set_ylabel('')\n",
    "ax_high_gamma.set_ylabel('')\n",
    "\n",
    "# Adjust layout to ensure the plots align correctly\n",
    "plt.tight_layout(h_pad=2)\n",
    "plt.show();\n"
   ]
  },
  {
   "cell_type": "code",
   "execution_count": 150,
   "id": "97b2d2a4-0df1-457f-ac33-05b4d00d810c",
   "metadata": {},
   "outputs": [
    {
     "data": {
      "text/plain": [
       "82"
      ]
     },
     "execution_count": 150,
     "metadata": {},
     "output_type": "execute_result"
    },
    {
     "data": {
      "text/plain": [
       "103"
      ]
     },
     "execution_count": 150,
     "metadata": {},
     "output_type": "execute_result"
    },
    {
     "data": {
      "text/plain": [
       "45"
      ]
     },
     "execution_count": 150,
     "metadata": {},
     "output_type": "execute_result"
    },
    {
     "data": {
      "text/plain": [
       "110"
      ]
     },
     "execution_count": 150,
     "metadata": {},
     "output_type": "execute_result"
    },
    {
     "data": {
      "text/plain": [
       "96"
      ]
     },
     "execution_count": 150,
     "metadata": {},
     "output_type": "execute_result"
    }
   ],
   "source": [
    "sum(~ripple_trials & z_high_gamma_trials)\n",
    "sum(~ripple_trials & z_low_gamma_trials)\n",
    "sum(~ripple_trials & z_low_gamma_trials & z_high_gamma_trials)\n",
    "sum(ripple_trials & z_low_gamma_trials)\n",
    "sum(ripple_trials & z_low_gamma_trials & z_high_gamma_trials)"
   ]
  },
  {
   "cell_type": "code",
   "execution_count": 142,
   "id": "850eb22e-e041-4aa7-bc72-f773c505cdac",
   "metadata": {},
   "outputs": [
    {
     "data": {
      "text/plain": [
       "143"
      ]
     },
     "execution_count": 142,
     "metadata": {},
     "output_type": "execute_result"
    },
    {
     "data": {
      "text/plain": [
       "110"
      ]
     },
     "execution_count": 142,
     "metadata": {},
     "output_type": "execute_result"
    },
    {
     "data": {
      "text/plain": [
       "141"
      ]
     },
     "execution_count": 142,
     "metadata": {},
     "output_type": "execute_result"
    },
    {
     "data": {
      "text/plain": [
       "82"
      ]
     },
     "execution_count": 142,
     "metadata": {},
     "output_type": "execute_result"
    },
    {
     "data": {
      "text/plain": [
       "103"
      ]
     },
     "execution_count": 142,
     "metadata": {},
     "output_type": "execute_result"
    },
    {
     "data": {
      "text/plain": [
       "72"
      ]
     },
     "execution_count": 142,
     "metadata": {},
     "output_type": "execute_result"
    }
   ],
   "source": [
    "sum(ripple_trials & z_high_gamma_trials)\n",
    "sum(z_low_gamma_trials & ripple_trials)\n",
    "sum(z_low_gamma_trials & z_high_gamma_trials)\n",
    "sum(~ripple_trials & z_high_gamma_trials)\n",
    "sum(z_low_gamma_trials & ~ripple_trials)\n",
    "sum(z_low_gamma_trials & ~z_high_gamma_trials)"
   ]
  },
  {
   "cell_type": "code",
   "execution_count": 98,
   "id": "4c7dff15-2234-4f5b-bc05-a41bfb46827f",
   "metadata": {},
   "outputs": [
    {
     "data": {
      "text/plain": [
       "[<matplotlib.lines.Line2D at 0x2ac76f6f2fd0>]"
      ]
     },
     "execution_count": 98,
     "metadata": {},
     "output_type": "execute_result"
    },
    {
     "data": {
      "image/png": "[encoded data removed]",
      "text/plain": [
       "<Figure size 432x288 with 1 Axes>"
      ]
     },
     "metadata": {
      "needs_background": "light"
     },
     "output_type": "display_data"
    },
    {
     "data": {
      "text/plain": [
       "[<matplotlib.lines.Line2D at 0x2ac76eccb150>]"
      ]
     },
     "execution_count": 98,
     "metadata": {},
     "output_type": "execute_result"
    },
    {
     "data": {
      "image/png": "[encoded data removed]",
      "text/plain": [
       "<Figure size 432x288 with 1 Axes>"
      ]
     },
     "metadata": {
      "needs_background": "light"
     },
     "output_type": "display_data"
    }
   ],
   "source": [
    "for pp in range(2):\n",
    "    plt.plot(np.mean(power_z[pp,:,50:200],0))\n",
    "    plt.show() \n",
    "    "
   ]
  },
  {
   "cell_type": "code",
   "execution_count": null,
   "id": "3913c9e4-ccef-4db3-a646-cbf3f33aeb3f",
   "metadata": {},
   "outputs": [],
   "source": []
  },
  {
   "cell_type": "code",
   "execution_count": null,
   "id": "cb130c88-c9b1-47c7-acc6-66a0d2abda88",
   "metadata": {},
   "outputs": [],
   "source": []
  },
  {
   "cell_type": "markdown",
   "id": "2c506ba6-e0a3-435b-9572-0823f6b86ac4",
   "metadata": {},
   "source": [
    "# Ebrahim's combo of HFA/theta figures"
   ]
  },
  {
   "cell_type": "code",
   "execution_count": 54,
   "id": "f3505e76-c86f-4947-bf23-7ed5308f985d",
   "metadata": {},
   "outputs": [
    {
     "name": "stdout",
     "output_type": "stream",
     "text": [
      "Loading data\n",
      "LOADING DATA FROM: HPC FOR EXPERIMENT catFR1\n"
     ]
    },
    {
     "name": "stderr",
     "output_type": "stream",
     "text": [
      "/home1/john/anaconda3/envs/workshopJ/lib/python3.7/site-packages/numpy/core/fromnumeric.py:43: VisibleDeprecationWarning: Creating an ndarray from ragged nested sequences (which is a list-or-tuple of lists-or-tuples-or ndarrays with different lengths or shapes) is deprecated. If you meant to do this, you must specify 'dtype=object' when creating the ndarray.\n",
      "  result = getattr(asarray(obj), method)(*args, **kwds)\n"
     ]
    },
    {
     "name": "stdout",
     "output_type": "stream",
     "text": [
      "elec_by_elec_correlation\n",
      "elec_by_elec_correlation\n",
      "elec_by_elec_correlation\n",
      "elec_by_elec_correlation\n",
      "elec_by_elec_correlation\n",
      "elec_by_elec_correlation\n",
      "elec_by_elec_correlation\n",
      "elec_by_elec_correlation\n",
      "elec_by_elec_correlation\n",
      "elec_by_elec_correlation\n",
      "elec_by_elec_correlation\n",
      "elec_by_elec_correlation\n",
      "elec_by_elec_correlation\n",
      "elec_by_elec_correlation\n",
      "elec_by_elec_correlation\n",
      "elec_by_elec_correlation\n",
      "order: C\n"
     ]
    },
    {
     "name": "stderr",
     "output_type": "stream",
     "text": [
      "/home1/john/SWRrefactored/code/SWR_modules/load_data.py:433: VisibleDeprecationWarning: Creating an ndarray from ragged nested sequences (which is a list-or-tuple of lists-or-tuples-or ndarrays with different lengths or shapes) is deprecated. If you meant to do this, you must specify 'dtype=object' when creating the ndarray.\n",
      "  dd_trials[key] = np.asarray(val)\n"
     ]
    },
    {
     "ename": "TypeError",
     "evalue": "load_z_scored_power() missing 3 required positional arguments: 'low_fq_range', 'start_cutoff', and 'end_cutoff'",
     "output_type": "error",
     "traceback": [
      "\u001b[0;31m---------------------------------------------------------------------------\u001b[0m",
      "\u001b[0;31mTypeError\u001b[0m                                 Traceback (most recent call last)",
      "\u001b[0;32m/tmp/ipykernel_114628/1091949205.py\u001b[0m in \u001b[0;36m<module>\u001b[0;34m\u001b[0m\n\u001b[1;32m     26\u001b[0m \u001b[0;31m#     start_time =\u001b[0m\u001b[0;34m\u001b[0m\u001b[0;34m\u001b[0m\u001b[0;34m\u001b[0m\u001b[0m\n\u001b[1;32m     27\u001b[0m     for power_z, ylabel in load_z_scored_power(dd_trials, freq_range_str_arr, encoding_mode,\n\u001b[0;32m---> 28\u001b[0;31m                                               high_fq_range, low_fq_range):\n\u001b[0m\u001b[1;32m     29\u001b[0m \u001b[0;34m\u001b[0m\u001b[0m\n\u001b[1;32m     30\u001b[0m         \u001b[0;32mif\u001b[0m \u001b[0mlen\u001b[0m\u001b[0;34m(\u001b[0m\u001b[0msubregion\u001b[0m\u001b[0;34m[\u001b[0m\u001b[0;36m0\u001b[0m\u001b[0;34m]\u001b[0m\u001b[0;34m)\u001b[0m \u001b[0;34m>\u001b[0m \u001b[0;36m0\u001b[0m\u001b[0;34m:\u001b[0m\u001b[0;34m\u001b[0m\u001b[0;34m\u001b[0m\u001b[0m\n",
      "\u001b[0;31mTypeError\u001b[0m: load_z_scored_power() missing 3 required positional arguments: 'low_fq_range', 'start_cutoff', and 'end_cutoff'"
     ]
    }
   ],
   "source": [
    "for encoding_mode in encoding_mode_arr:\n",
    "\n",
    "    dd_trials = load_data_np(encoding_mode,task,\n",
    "        region_name=region_name, train_only=False, subregion=subregion)\n",
    "    \n",
    "    region_str = region_name[0]\n",
    "    subregion_str = subregion[0]\n",
    "    \n",
    "    clust = dd_trials['clust_int']\n",
    "    notclust_idxs = np.argwhere(clust<0).squeeze()\n",
    "    clust_idxs = np.argwhere(clust>0).squeeze()\n",
    "    \n",
    "    if encoding_mode:\n",
    "        saveName = 'encoding_'\n",
    "        recall_str = ''\n",
    "        time = np.linspace(-0.7, 2.3, 150)\n",
    "        correct = dd_trials['correct']\n",
    "        incorrect_idxs = np.argwhere(correct==0).squeeze()\n",
    "        \n",
    "    else:\n",
    "        saveName = 'recall_'\n",
    "        recall_str = '_recall'\n",
    "        time = np.linspace(-2, 2, 200)\n",
    "    \n",
    "    # times relative to -1.7 to 3.3 s from word_on\n",
    "#     start_time = \n",
    "    for power_z, ylabel in load_z_scored_power(dd_trials, freq_range_str_arr, encoding_mode,\n",
    "                                              high_fq_range, low_fq_range):\n",
    "\n",
    "        if len(subregion[0]) > 0:\n",
    "            subregion_str = f'_{subregion[0]}'\n",
    "        else:\n",
    "            subregion_str = ''\n",
    "            \n",
    "        if 'Gamma' in ylabel:\n",
    "            fq_range = high_fq_range\n",
    "        elif 'Theta' in ylabel:\n",
    "            fq_range = low_fq_range\n",
    "    \n",
    "        # loop through sub-bands of gamma or theta\n",
    "        for power_z_i, f in zip(power_z, fq_range): \n",
    "\n",
    "            plt.figure(figsize=(10,6))\n",
    "\n",
    "            # Calculate mean and SEM\n",
    "            mean_clust = np.mean(power_z_i[clust_idxs].squeeze(), axis=0)\n",
    "            mean_not_clust = np.mean(power_z_i[notclust_idxs].squeeze(), axis=0)\n",
    "            sem_clust = np.std(power_z_i[clust_idxs].squeeze(), axis=0) / np.sqrt(len(clust_idxs))\n",
    "            sem_not_clust = np.std(power_z_i[notclust_idxs].squeeze(), axis=0) / np.sqrt(len(notclust_idxs))\n",
    "            \n",
    "            # Apply smoothing\n",
    "            mean_clust_smooth = triangleSmooth(mean_clust, smoothing_triangle=5)\n",
    "            mean_not_clust_smooth = triangleSmooth(mean_not_clust, smoothing_triangle=5)\n",
    "            sem_clust_smooth = triangleSmooth(sem_clust, smoothing_triangle=5)\n",
    "            sem_not_clust_smooth = triangleSmooth(sem_not_clust, smoothing_triangle=5)\n",
    "\n",
    "            # Plotting\n",
    "            plt.plot(time, mean_clust_smooth, color='tab:blue', alpha=0.8, label=\"Clust\")\n",
    "            plt.plot(time, mean_not_clust_smooth, color='tab:orange', alpha=0.8, label=\"Not Clust\")\n",
    "            \n",
    "            if plot_error_bars:\n",
    "                plt.fill_between(time, mean_clust_smooth - sem_clust_smooth, mean_clust_smooth + sem_clust_smooth, \n",
    "                                 color='tab:blue', alpha=0.3)\n",
    "                plt.fill_between(time, mean_not_clust_smooth - sem_not_clust_smooth, mean_not_clust_smooth + sem_not_clust_smooth,\n",
    "                                 color='tab:orange', alpha=0.3)\n",
    "                \n",
    "            # plot not recalled data for encoding \n",
    "            if encoding_mode:\n",
    "                mean_not_recalled = np.mean(power_z_i[incorrect_idxs].squeeze(), axis=0)\n",
    "                mean_not_recalled_smooth = triangleSmooth(mean_not_recalled, smoothing_triangle=5)\n",
    "                \n",
    "                sem_not_recalled = np.std(power_z_i[incorrect_idxs].squeeze(), axis=0) / np.sqrt(len(incorrect_idxs))\n",
    "                sem_not_recalled_smooth = triangleSmooth(sem_not_recalled, smoothing_triangle=5)\n",
    "                                                    \n",
    "                plt.plot(time, mean_not_recalled_smooth, color='tab:pink', alpha=0.8, label=\"Not Recalled\")\n",
    "                \n",
    "                if plot_error_bars:\n",
    "                    plt.fill_between(time, mean_not_recalled - sem_not_recalled_smooth, \n",
    "                                     mean_not_recalled + sem_not_recalled_smooth, color='tab:pink', alpha=0.3)\n",
    "                \n",
    "\n",
    "            plt.axvline(0, color='black')\n",
    "            plt.ylabel(f\"{ylabel} ({f[0]}-{f[1]} Hz)\", fontsize=18)\n",
    "            plt.xlabel(\"Time\", fontsize=18)\n",
    "            sb.despine()\n",
    "            plt.legend(fontsize=16)\n",
    "            plt.savefig(f\"{savePath}/{ylabel}_{f[0]}-{f[1]}_zscore_elec_{region_str}{subregion_str}{recall_str}\", dpi=300, \n",
    "                        bbox_inches='tight')\n",
    "            plt.savefig(f\"{savePath}/{ylabel}_{f[0]}-{f[1]}_zscore_elec_{region_str}{subregion_str}{recall_str}.pdf\",\n",
    "                        bbox_inches='tight')\n",
    "            plt.show()\n",
    "a=1;            "
   ]
  },
  {
   "cell_type": "code",
   "execution_count": null,
   "id": "1ed3879a-9224-4725-956e-2863c0d9d84a",
   "metadata": {},
   "outputs": [],
   "source": [
    "plt.plot(np.mean(filtered_sig_power[2, selected_elec_idxs].squeeze(),axis=0))\n",
    "plt.show()\n",
    "plt.plot(np.mean(filtered_sig_power[1, selected_elec_idxs].squeeze(),axis=0))\n",
    "plt.show()\n",
    "plt.plot(np.mean(filtered_sig_power[0, selected_elec_idxs].squeeze(),axis=0))\n",
    "plt.show()\n"
   ]
  },
  {
   "cell_type": "code",
   "execution_count": null,
   "id": "6e15b07c-db04-4fb6-9d3a-70415f07b9ef",
   "metadata": {},
   "outputs": [],
   "source": [
    "from neurodsp.timefrequency.wavelets import compute_wavelet_transform\n",
    "from mne.time_frequency import tfr_array_morlet\n",
    "from neurodsp.plts import plot_time_series, plot_timefrequency"
   ]
  },
  {
   "cell_type": "code",
   "execution_count": null,
   "id": "48607525-d5be-4677-ac2d-3e955f0cbe49",
   "metadata": {},
   "outputs": [],
   "source": [
    "frequencies_low = [1,2,3,4,5,6,7,8,9,10]\n",
    "frequencies_high = np.arange(10,156,5)\n",
    "frequencies = np.hstack((frequencies_low, frequencies_high))\n",
    "n_freqs = frequencies.shape[0]\n",
    "n_cycles = np.floor(np.linspace(2,15,n_freqs))"
   ]
  },
  {
   "cell_type": "code",
   "execution_count": null,
   "id": "52dab360-bf52-494e-9470-6274dec7d8d9",
   "metadata": {},
   "outputs": [],
   "source": [
    "# Define general settings for across the example\n",
    "for selected_elec in np.unique(subj_elec_sess_labels):\n",
    "    print(selected_elec)\n",
    "    #selected_elec = best_power_elec\n",
    "    selected_elec_idxs = np.argwhere(subj_elec_sess_labels==selected_elec)\n",
    "    raw_data_elec = raw_data[selected_elec_idxs].squeeze()\n",
    "    fs = 500\n",
    "\n",
    "    buffer = 500\n",
    "\n",
    "    power_elec = tfr_array_morlet(np.expand_dims(raw_data_elec, axis=1), sfreq=500, \n",
    "                                  freqs=frequencies, output='power', n_cycles=n_cycles)\n",
    "    mwt = np.mean(power_elec.squeeze()[:, :, buffer:-buffer],axis=0) \n",
    "\n",
    "    # Define the baseline period as -500 ms to -100 ms \n",
    "    baseline_pow = np.mean(mwt[:, 100:300],axis=1)\n",
    "\n",
    "    mwt = mwt/np.expand_dims(baseline_pow,axis=1)\n",
    "\n",
    "    mwt_decibal = 10 * np.log10(mwt[:, 350:1100])\n",
    "\n",
    "    # plot data from 0 - 1500 ms \n",
    "    times = np.linspace(0,1.5,750)\n",
    "    plt.pcolormesh(times, frequencies, mwt_decibal, shading='gouraud')\n",
    "    plt.colorbar(label='Baseline Normalized Power (dB)')\n",
    "    plt.xlabel(\"Time after word onset (sec)\", fontsize=14)\n",
    "    plt.ylabel(\"Frequency (Hz)\", fontsize=14)\n",
    "    plt.title(selected_elec, fontsize=16)\n",
    "    plt.savefig(f'baselinenorm_spectrograms/{selected_elec}_6_16', dpi=300)\n",
    "    plt.close()"
   ]
  },
  {
   "cell_type": "code",
   "execution_count": null,
   "id": "37abfe22-fc2e-4986-91b5-3d65bd5f00bc",
   "metadata": {},
   "outputs": [],
   "source": [
    "power_elec = tfr_array_morlet(np.expand_dims(raw_data, axis=1), sfreq=500, \n",
    "                              freqs=frequencies, output='power', n_cycles=n_cycles)\n",
    "mwt = np.mean(power_elec.squeeze()[:, :, buffer:-buffer],axis=0) \n",
    "\n",
    "# Define the baseline period as -500 ms to -100 ms \n",
    "baseline_pow = np.mean(mwt[:, 100:300],axis=1)\n",
    "\n",
    "mwt = mwt/np.expand_dims(baseline_pow,axis=1)\n",
    "\n",
    "mwt_decibal = 10 * np.log10(mwt[:, 350:1100])\n",
    "\n",
    "# plot data from 0 - 1500 ms \n",
    "times = np.linspace(0,1.5,750)\n",
    "plt.pcolormesh(times, frequencies, mwt_decibal, shading='gouraud')\n",
    "plt.colorbar(label='Baseline Normalized Power (dB)')\n",
    "plt.xlabel(\"Time after word onset (sec)\", fontsize=14)\n",
    "plt.ylabel(\"Frequency (Hz)\", fontsize=14)\n",
    "plt.title(selected_elec, fontsize=16)\n",
    "plt.savefig(f'baselinenorm_spectrograms/{selected_elec}_6_16', dpi=300)\n",
    "plt.close()"
   ]
  },
  {
   "cell_type": "code",
   "execution_count": null,
   "id": "2293f1f9-0235-47c3-8d1b-2a4621c9d509",
   "metadata": {},
   "outputs": [],
   "source": [
    "# Create a mask where True indicates values above the threshold\n",
    "significant_mask = mwt_decibal > 0.5\n",
    "\n",
    "# Plot the significant mask\n",
    "plt.figure(figsize=(10, 6))\n",
    "plt.yticks(np.arange(0, len(frequencies), 10), frequencies[::10]) \n",
    "plt.imshow(significant_mask, aspect='auto', origin='lower')\n",
    "plt.show()\n"
   ]
  },
  {
   "cell_type": "code",
   "execution_count": null,
   "id": "8afdfe46-e263-4f5b-9eff-b85b91aef53e",
   "metadata": {},
   "outputs": [],
   "source": [
    "# Store the results\n",
    "Pxx_base_list = []\n",
    "Pxx_list = []\n",
    "\n",
    "fs = 500\n",
    "nperseg = 256\n",
    "n_trials = raw_data_elec.shape[0]\n",
    "\n",
    "start_roi = 200\n",
    "end_roi = 1200\n",
    "baseline_start = -700\n",
    "baseline_end = 300\n",
    "\n",
    "sr_factor = 1000 / fs\n",
    "# convert to indices based on start time and sampling rate factor\n",
    "start_idx = int((start_roi - start_time)/sr_factor)\n",
    "end_idx = int((end_roi-start_time)/sr_factor)\n",
    "\n",
    "# convert to indices based on start time and sampling rate factor\n",
    "baseline_start_idx = int((baseline_start - start_time)/sr_factor)\n",
    "baseline_end_idx = int((baseline_end - start_time)/sr_factor)\n",
    "\n",
    "nperseg = int(end_idx - start_idx)\n",
    "nperseg_base = int(baseline_end_idx - baseline_start_idx)\n",
    "\n",
    "for trial in range(n_trials):\n",
    "    f, Pxx = welch(raw_data_elec[trial, start_idx:end_idx], \n",
    "                   fs=fs, nperseg=nperseg)\n",
    "    f_base, Pxx_base = welch(raw_data_elec[trial, baseline_start_idx:baseline_end_idx], \n",
    "                   fs=fs, nperseg=nperseg_base)\n",
    "\n",
    "    Pxx_list.append(Pxx)\n",
    "    Pxx_base_list.append(Pxx_base)\n",
    "    \n",
    "\n",
    "Pxx_array = np.array(Pxx_list)\n",
    "Pxx_base_array = np.array(Pxx_base_list)\n",
    "\n",
    "Pxx_mean = np.mean(Pxx_array, axis=0)\n",
    "Pxx_base_mean = np.mean(Pxx_base_array, axis=0)\n",
    "\n",
    "\n",
    "# Plot the averaged periodogram\n",
    "plt.figure()\n",
    "plt.semilogy(f, Pxx_mean)\n",
    "plt.semilogy(f_base, Pxx_base_mean)\n",
    "plt.xlabel('Frequency [Hz]')\n",
    "plt.ylabel('Power spectral density [V^2/Hz]')\n",
    "plt.title('Averaged Welch Periodogram')\n",
    "plt.show()\n"
   ]
  },
  {
   "cell_type": "code",
   "execution_count": null,
   "id": "fefcc6ac-1dc7-40bb-88b2-c3056085309c",
   "metadata": {},
   "outputs": [],
   "source": [
    "plot_end_idx = 119 # 170 Hz\n",
    "Pxx_diff = Pxx_mean-Pxx_base_mean\n",
    "Pxx_diff_mean = np.mean(Pxx_diff)\n",
    "Pxx_diff_std = np.std(Pxx_diff)\n",
    "plt.axhline(Pxx_diff_mean+Pxx_diff_std*2, color='black', alpha=0.6, linestyle='--')\n",
    "plt.plot(f[:plot_end_idx], Pxx_diff[:plot_end_idx], linewidth=3)\n",
    "plt.show()"
   ]
  },
  {
   "cell_type": "code",
   "execution_count": null,
   "id": "06ad3d01-42b4-4db3-8e44-22c29dcd23fd",
   "metadata": {},
   "outputs": [],
   "source": [
    "np.argwhere(f==max_freq_to_plot)"
   ]
  },
  {
   "cell_type": "code",
   "execution_count": null,
   "id": "14bee991-4806-4711-b7a2-833a0174b63b",
   "metadata": {},
   "outputs": [],
   "source": [
    "# Initialize a model object\n",
    "fm = FOOOF(peak_width_limits=[1.2,12], aperiodic_mode='knee')\n",
    "\n",
    "# Set the frequency range to fit the model\n",
    "freq_range = [0.1,150]\n",
    "\n",
    "# Report: fit the model, print the resulting parameters, and plot the reconstruction\n",
    "fm.report(f, Pxx_mean, freq_range)"
   ]
  },
  {
   "cell_type": "code",
   "execution_count": null,
   "id": "3874aaa6-fa01-4d73-b398-8d127f94e8ad",
   "metadata": {},
   "outputs": [],
   "source": [
    "fs = 1  # Sampling frequency, adjust as per your data\n",
    "nperseg = 1500  # Length of each segment\n",
    "\n",
    "# Store the results\n",
    "f_list = []\n",
    "Pxx_list = []\n",
    "\n",
    "for trial in range(n_trials):\n",
    "    f, Pxx = welch(data[trial, :], fs=fs, nperseg=nperseg)\n",
    "    f_list.append(f)\n",
    "    Pxx_list.append(Pxx)\n",
    "\n",
    "# Convert lists to numpy arrays for easier handling\n",
    "f_array = np.array(f_list)\n",
    "Pxx_array = np.array(Pxx_list)"
   ]
  }
 ],
 "metadata": {
  "kernelspec": {
   "display_name": "workshopJ",
   "language": "python",
   "name": "workshopj"
  },
  "language_info": {
   "codemirror_mode": {
    "name": "ipython",
    "version": 3
   },
   "file_extension": ".py",
   "mimetype": "text/x-python",
   "name": "python",
   "nbconvert_exporter": "python",
   "pygments_lexer": "ipython3",
   "version": "3.7.6"
  }
 },
 "nbformat": 4,
 "nbformat_minor": 5
}
