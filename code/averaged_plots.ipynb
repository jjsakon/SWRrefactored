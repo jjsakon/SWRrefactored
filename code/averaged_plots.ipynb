{
 "cells": [
  {
   "cell_type": "code",
   "execution_count": null,
   "id": "0307f557-ecff-4bd5-9f99-0e10e2deb52f",
   "metadata": {},
   "outputs": [],
   "source": [
    "%load_ext autoreload\n",
    "%autoreload\n",
    "\n",
    "import pandas as pd; pd.set_option('display.max_columns', 30)\n",
    "import numpy as np\n",
    "from cmlreaders import CMLReader, get_data_index\n",
    "import ptsa\n",
    "import sys\n",
    "import os\n",
    "import matplotlib.pyplot as plt\n",
    "import seaborn as sb\n",
    "from pylab import *\n",
    "from copy import copy\n",
    "from scipy import stats\n",
    "plt.rcParams['pdf.fonttype'] = 42; plt.rcParams['ps.fonttype'] = 42 # fix fonts for Illustrator\n",
    "sys.path.append('/home1/john/SWRrefactored/code/SWR_modules/')\n",
    "from SWRmodule import *\n",
    "from general import * #superVstack,findInd,findAinB\n",
    "from power_functions import z_score, process_power, load_z_scored_power\n",
    "\n",
    "# base = '/home1/john/SWRrefactored'\n",
    "# sys.path.append(f'{base}/code/')\n",
    "\n",
    "# from load_data_numpy import load_data_np\n",
    "# from SWRmodule import triangleSmooth\n",
    "# # from comodulogram import remove_session_string, get_filtered_signal\n",
    "# # from fooof import FOOOF\n",
    "\n",
    "# import statsmodels.formula.api as smf\n",
    "# from scipy.signal import decimate, resample, hilbert, welch, spectrogram\n",
    "# from mne.time_frequency import tfr_array_morlet\n",
    "\n",
    "# # Import the time & event model objects and Bands object to manage oscillation band definitions\n",
    "# from specparam import SpectralTimeModel, SpectralTimeEventModel, Bands\n",
    "# # Import helper utilities for simulating and plotting spectrograms\n",
    "# from specparam.sim import sim_spectrogram\n",
    "# from specparam.plts.spectra import plot_spectrogram"
   ]
  },
  {
   "cell_type": "code",
   "execution_count": 33,
   "id": "1151a94a-f3ff-43ed-9bff-9abd8017f17d",
   "metadata": {},
   "outputs": [],
   "source": [
    "# for now the plotting code only works with one region at a time\n",
    "region_name = ['HPC'] \n",
    "subregion = ['ca1']\n",
    "task = 'catFR1' # 'catFR1'\n",
    "savePath = f'{base}/figures/'\n",
    "\n",
    "# 1 for encoding, 0 for recall\n",
    "encoding_mode_arr = [1] #[0,1] \n",
    "freq_range_str_arr = ['high', 'low']\n",
    "\n",
    "# define frequency ranges\n",
    "low_fq_range = [[2,4],[7,9]]\n",
    "high_fq_range = [[30,75], [80,170]]\n",
    "\n",
    "plot_error_bars = True"
   ]
  },
  {
   "cell_type": "code",
   "execution_count": null,
   "id": "c958d1c0-1cba-423b-ba92-ccd96e72fe3d",
   "metadata": {},
   "outputs": [
    {
     "name": "stdout",
     "output_type": "stream",
     "text": [
      "Loading data\n",
      "LOADING DATA FROM: HPC FOR EXPERIMENT FR1\n",
      "elec_by_elec_correlation\n",
      "> \u001b[0;32m/home1/john/SWRrefactored/code/SWR_modules/load_data.py\u001b[0m(360)\u001b[0;36mselect_region\u001b[0;34m()\u001b[0m\n",
      "\u001b[0;32m    359 \u001b[0;31m                \u001b[0;32mimport\u001b[0m \u001b[0mipdb\u001b[0m\u001b[0;34m;\u001b[0m \u001b[0mipdb\u001b[0m\u001b[0;34m.\u001b[0m\u001b[0mset_trace\u001b[0m\u001b[0;34m(\u001b[0m\u001b[0;34m)\u001b[0m\u001b[0;34m\u001b[0m\u001b[0;34m\u001b[0m\u001b[0m\n",
      "\u001b[0m\u001b[0;32m--> 360 \u001b[0;31m                \u001b[0mdata_dict_selected_elecs\u001b[0m\u001b[0;34m[\u001b[0m\u001b[0mkey\u001b[0m\u001b[0;34m]\u001b[0m\u001b[0;34m.\u001b[0m\u001b[0mappend\u001b[0m\u001b[0;34m(\u001b[0m\u001b[0mval\u001b[0m\u001b[0;34m[\u001b[0m\u001b[0msess\u001b[0m\u001b[0;34m]\u001b[0m\u001b[0;34m[\u001b[0m\u001b[0;34m:\u001b[0m\u001b[0;34m,\u001b[0m \u001b[0mselected_ind\u001b[0m\u001b[0;34m]\u001b[0m\u001b[0;34m)\u001b[0m\u001b[0;34m\u001b[0m\u001b[0;34m\u001b[0m\u001b[0m\n",
      "\u001b[0m\u001b[0;32m    361 \u001b[0;31m\u001b[0;34m\u001b[0m\u001b[0m\n",
      "\u001b[0m\n"
     ]
    },
    {
     "name": "stdin",
     "output_type": "stream",
     "text": [
      "ipdb>  c\n"
     ]
    },
    {
     "name": "stdout",
     "output_type": "stream",
     "text": [
      "> \u001b[0;32m/home1/john/SWRrefactored/code/SWR_modules/load_data.py\u001b[0m(359)\u001b[0;36mselect_region\u001b[0;34m()\u001b[0m\n",
      "\u001b[0;32m    358 \u001b[0;31m\u001b[0;31m#                 print(f'{sess},{selected_ind}')\u001b[0m\u001b[0;34m\u001b[0m\u001b[0;34m\u001b[0m\u001b[0;34m\u001b[0m\u001b[0m\n",
      "\u001b[0m\u001b[0;32m--> 359 \u001b[0;31m                \u001b[0;32mimport\u001b[0m \u001b[0mipdb\u001b[0m\u001b[0;34m;\u001b[0m \u001b[0mipdb\u001b[0m\u001b[0;34m.\u001b[0m\u001b[0mset_trace\u001b[0m\u001b[0;34m(\u001b[0m\u001b[0;34m)\u001b[0m\u001b[0;34m\u001b[0m\u001b[0;34m\u001b[0m\u001b[0m\n",
      "\u001b[0m\u001b[0;32m    360 \u001b[0;31m                \u001b[0mdata_dict_selected_elecs\u001b[0m\u001b[0;34m[\u001b[0m\u001b[0mkey\u001b[0m\u001b[0;34m]\u001b[0m\u001b[0;34m.\u001b[0m\u001b[0mappend\u001b[0m\u001b[0;34m(\u001b[0m\u001b[0mval\u001b[0m\u001b[0;34m[\u001b[0m\u001b[0msess\u001b[0m\u001b[0;34m]\u001b[0m\u001b[0;34m[\u001b[0m\u001b[0;34m:\u001b[0m\u001b[0;34m,\u001b[0m \u001b[0mselected_ind\u001b[0m\u001b[0;34m]\u001b[0m\u001b[0;34m)\u001b[0m\u001b[0;34m\u001b[0m\u001b[0;34m\u001b[0m\u001b[0m\n",
      "\u001b[0m\n"
     ]
    },
    {
     "name": "stdin",
     "output_type": "stream",
     "text": [
      "ipdb>  key\n"
     ]
    },
    {
     "name": "stdout",
     "output_type": "stream",
     "text": [
      "'clust'\n"
     ]
    },
    {
     "name": "stdin",
     "output_type": "stream",
     "text": [
      "ipdb>  val\n"
     ]
    },
    {
     "name": "stdout",
     "output_type": "stream",
     "text": [
      "[array([], shape=(180, 0), dtype=float64), array([], shape=(300, 0), dtype=float64), array([], shape=(300, 0), dtype=float64), array([], shape=(300, 0), dtype=float64), array([], shape=(300, 0), dtype=float64), array([], shape=(300, 0), dtype=float64), array([], shape=(180, 0), dtype=float64), array([], shape=(300, 0), dtype=float64), array([], shape=(288, 0), dtype=float64), array([], shape=(204, 0), dtype=float64), array([], shape=(300, 0), dtype=float64), array([], shape=(300, 0), dtype=float64), array([], shape=(300, 0), dtype=float64), array([], shape=(300, 0), dtype=float64), array([], shape=(300, 0), dtype=float64), array([], shape=(300, 0), dtype=float64), array([], shape=(300, 0), dtype=float64), array([], shape=(300, 0), dtype=float64), array([], shape=(180, 0), dtype=float64), array([], shape=(192, 0), dtype=float64), array([], shape=(252, 0), dtype=float64), array([], shape=(300, 0), dtype=float64), array([], shape=(300, 0), dtype=float64), array([], shape=(300, 0), dtype=float64), array([], shape=(300, 0), dtype=float64), array([], shape=(300, 0), dtype=float64), array([], shape=(300, 0), dtype=float64), array([], shape=(144, 0), dtype=float64), array([], shape=(300, 0), dtype=float64), array([], shape=(300, 0), dtype=float64)]\n"
     ]
    },
    {
     "name": "stdin",
     "output_type": "stream",
     "text": [
      "ipdb>  len(val)\n"
     ]
    },
    {
     "name": "stdout",
     "output_type": "stream",
     "text": [
      "30\n"
     ]
    },
    {
     "name": "stdin",
     "output_type": "stream",
     "text": [
      "ipdb>  sess\n"
     ]
    },
    {
     "name": "stdout",
     "output_type": "stream",
     "text": [
      "0\n"
     ]
    },
    {
     "name": "stdin",
     "output_type": "stream",
     "text": [
      "ipdb>  selected_ind\n"
     ]
    },
    {
     "name": "stdout",
     "output_type": "stream",
     "text": [
      "[2, 3]\n"
     ]
    },
    {
     "name": "stdin",
     "output_type": "stream",
     "text": [
      "ipdb>  one_d_keys\n"
     ]
    },
    {
     "name": "stdout",
     "output_type": "stream",
     "text": [
      "['trial_by_trial_correlation', 'elec_by_elec_correlation', 'elec_names', 'elec_labels', 'elec_ripple_rate_array']\n"
     ]
    },
    {
     "name": "stdin",
     "output_type": "stream",
     "text": [
      "ipdb>  val[sess][:, selected_ind]\n"
     ]
    },
    {
     "name": "stdout",
     "output_type": "stream",
     "text": [
      "*** IndexError: index 2 is out of bounds for axis 1 with size 0\n"
     ]
    }
   ],
   "source": [
    "for encoding_mode in encoding_mode_arr:\n",
    "\n",
    "    dd_trials = load_data_np(encoding_mode,task,\n",
    "        region_name=region_name, train_only=False, subregion=subregion)\n",
    "    \n",
    "    region_str = region_name[0]\n",
    "    subregion_str = subregion[0]\n",
    "    \n",
    "    clust = dd_trials['clust_int']\n",
    "    notclust_idxs = np.argwhere(clust<0).squeeze()\n",
    "    clust_idxs = np.argwhere(clust>0).squeeze()\n",
    "    \n",
    "    if encoding_mode:\n",
    "        saveName = 'encoding_'\n",
    "        recall_str = ''\n",
    "        time = np.linspace(-0.7, 2.3, 150)\n",
    "        correct = dd_trials['correct']\n",
    "        incorrect_idxs = np.argwhere(correct==0).squeeze()\n",
    "        \n",
    "    else:\n",
    "        saveName = 'recall_'\n",
    "        recall_str = '_recall'\n",
    "        time = np.linspace(-2, 2, 200)\n",
    "    \n",
    "    for power_z, ylabel in load_z_scored_power(dd_trials, freq_range_str_arr, encoding_mode):\n",
    "\n",
    "        if len(subregion[0]) > 0:\n",
    "            subregion_str = f'_{subregion[0]}'\n",
    "        else:\n",
    "            subregion_str = ''\n",
    "            \n",
    "        if 'Gamma' in ylabel:\n",
    "            fq_range = high_fq_range\n",
    "        elif 'Theta' in ylabel:\n",
    "            fq_range = low_fq_range\n",
    "    \n",
    "        # loop through sub-bands of gamma or theta\n",
    "        for power_z_i, f in zip(power_z, fq_range): \n",
    "\n",
    "            plt.figure(figsize=(10,6))\n",
    "\n",
    "            # Calculate mean and SEM\n",
    "            mean_clust = np.mean(power_z_i[clust_idxs].squeeze(), axis=0)\n",
    "            mean_not_clust = np.mean(power_z_i[notclust_idxs].squeeze(), axis=0)\n",
    "            sem_clust = np.std(power_z_i[clust_idxs].squeeze(), axis=0) / np.sqrt(len(clust_idxs))\n",
    "            sem_not_clust = np.std(power_z_i[notclust_idxs].squeeze(), axis=0) / np.sqrt(len(notclust_idxs))\n",
    "            \n",
    "            # Apply smoothing\n",
    "            mean_clust_smooth = triangleSmooth(mean_clust, smoothing_triangle=5)\n",
    "            mean_not_clust_smooth = triangleSmooth(mean_not_clust, smoothing_triangle=5)\n",
    "            sem_clust_smooth = triangleSmooth(sem_clust, smoothing_triangle=5)\n",
    "            sem_not_clust_smooth = triangleSmooth(sem_not_clust, smoothing_triangle=5)\n",
    "\n",
    "            # Plotting\n",
    "            plt.plot(time, mean_clust_smooth, color='tab:blue', alpha=0.8, label=\"Clust\")\n",
    "            plt.plot(time, mean_not_clust_smooth, color='tab:orange', alpha=0.8, label=\"Not Clust\")\n",
    "            \n",
    "            if plot_error_bars:\n",
    "                plt.fill_between(time, mean_clust_smooth - sem_clust_smooth, mean_clust_smooth + sem_clust_smooth, \n",
    "                                 color='tab:blue', alpha=0.3)\n",
    "                plt.fill_between(time, mean_not_clust_smooth - sem_not_clust_smooth, mean_not_clust_smooth + sem_not_clust_smooth,\n",
    "                                 color='tab:orange', alpha=0.3)\n",
    "                \n",
    "            # plot not recalled data for encoding \n",
    "            if encoding_mode:\n",
    "                mean_not_recalled = np.mean(power_z_i[incorrect_idxs].squeeze(), axis=0)\n",
    "                mean_not_recalled_smooth = triangleSmooth(mean_not_recalled, smoothing_triangle=5)\n",
    "                \n",
    "                sem_not_recalled = np.std(power_z_i[incorrect_idxs].squeeze(), axis=0) / np.sqrt(len(incorrect_idxs))\n",
    "                sem_not_recalled_smooth = triangleSmooth(sem_not_recalled, smoothing_triangle=5)\n",
    "                                                    \n",
    "                plt.plot(time, mean_not_recalled_smooth, color='tab:pink', alpha=0.8, label=\"Not Recalled\")\n",
    "                \n",
    "                if plot_error_bars:\n",
    "                    plt.fill_between(time, mean_not_recalled - sem_not_recalled_smooth, \n",
    "                                     mean_not_recalled + sem_not_recalled_smooth, color='tab:pink', alpha=0.3)\n",
    "                \n",
    "\n",
    "            plt.axvline(0, color='black')\n",
    "            plt.ylabel(f\"{ylabel} ({f[0]}-{f[1]} Hz)\", fontsize=18)\n",
    "            plt.xlabel(\"Time\", fontsize=18)\n",
    "            sb.despine()\n",
    "            plt.legend(fontsize=16)\n",
    "            plt.savefig(f\"{savePath}/{ylabel}_{f[0]}-{f[1]}_zscore_elec_{region_str}{subregion_str}{recall_str}\", dpi=300, \n",
    "                        bbox_inches='tight')\n",
    "            plt.savefig(f\"{savePath}/{ylabel}_{f[0]}-{f[1]}_zscore_elec_{region_str}{subregion_str}{recall_str}.pdf\",\n",
    "                        bbox_inches='tight')\n",
    "            plt.show()"
   ]
  },
  {
   "cell_type": "code",
   "execution_count": null,
   "id": "a71a3efc-8f41-4fee-bd2e-14e43fe1b85a",
   "metadata": {},
   "outputs": [
    {
     "data": {
      "image/png": "[encoded data removed]",
      "text/plain": [
       "<Figure size 432x288 with 1 Axes>"
      ]
     },
     "metadata": {
      "needs_background": "light"
     },
     "output_type": "display_data"
    },
    {
     "data": {
      "image/png": "[encoded data removed]",
      "text/plain": [
       "<Figure size 432x288 with 1 Axes>"
      ]
     },
     "metadata": {
      "needs_background": "light"
     },
     "output_type": "display_data"
    },
    {
     "data": {
      "image/png": "[encoded data removed]",
      "text/plain": [
       "<Figure size 432x288 with 1 Axes>"
      ]
     },
     "metadata": {
      "needs_background": "light"
     },
     "output_type": "display_data"
    }
   ],
   "source": [
    "plt.plot(np.mean(filtered_sig_power[2, selected_elec_idxs].squeeze(),axis=0))\n",
    "plt.show()\n",
    "plt.plot(np.mean(filtered_sig_power[1, selected_elec_idxs].squeeze(),axis=0))\n",
    "plt.show()\n",
    "plt.plot(np.mean(filtered_sig_power[0, selected_elec_idxs].squeeze(),axis=0))\n",
    "plt.show()\n"
   ]
  },
  {
   "cell_type": "code",
   "execution_count": null,
   "id": "c4b28341-5507-44b9-a01f-bf0082afa261",
   "metadata": {},
   "outputs": [],
   "source": [
    "from neurodsp.timefrequency.wavelets import compute_wavelet_transform\n",
    "from mne.time_frequency import tfr_array_morlet\n",
    "from neurodsp.plts import plot_time_series, plot_timefrequency"
   ]
  },
  {
   "cell_type": "code",
   "execution_count": null,
   "id": "1aeed7a8-cd96-43b6-be72-b4a88c5b1bc7",
   "metadata": {},
   "outputs": [],
   "source": [
    "frequencies_low = [1,2,3,4,5,6,7,8,9,10]\n",
    "frequencies_high = np.arange(10,156,5)\n",
    "frequencies = np.hstack((frequencies_low, frequencies_high))\n",
    "n_freqs = frequencies.shape[0]\n",
    "n_cycles = np.floor(np.linspace(2,15,n_freqs))"
   ]
  },
  {
   "cell_type": "code",
   "execution_count": null,
   "id": "2f1ff3b0-7f58-4d30-9475-c43ae8820dd5",
   "metadata": {},
   "outputs": [
    {
     "name": "stdout",
     "output_type": "stream",
     "text": [
      "R1065J-0_LE2-LE3\n",
      "R1065J-0_LS1-LS2\n",
      "R1065J-0_LS11-LS12\n",
      "R1065J-0_LS12-LS13\n",
      "R1065J-0_LS3-LS4\n",
      "R1065J-0_LS4-LS5\n",
      "R1065J-0_LS5-LS6\n",
      "R1065J-0_LS6-LS7\n",
      "R1065J-0_LS7-LS8\n",
      "R1065J-1_LE2-LE3\n",
      "R1065J-1_LS1-LS2\n",
      "R1065J-1_LS11-LS12\n",
      "R1065J-1_LS12-LS13\n",
      "R1065J-1_LS3-LS4\n",
      "R1065J-1_LS4-LS5\n",
      "R1065J-1_LS5-LS6\n",
      "R1065J-1_LS6-LS7\n",
      "R1065J-1_LS7-LS8\n",
      "R1065J-2_LE2-LE3\n",
      "R1065J-2_LS1-LS2\n",
      "R1065J-2_LS11-LS12\n",
      "R1065J-2_LS12-LS13\n",
      "R1065J-2_LS3-LS4\n",
      "R1065J-2_LS4-LS5\n",
      "R1065J-2_LS5-LS6\n",
      "R1065J-2_LS6-LS7\n",
      "R1065J-2_LS7-LS8\n",
      "R1065J-3_LE2-LE3\n",
      "R1065J-3_LS1-LS2\n",
      "R1065J-3_LS11-LS12\n",
      "R1065J-3_LS12-LS13\n",
      "R1065J-3_LS3-LS4\n",
      "R1065J-3_LS4-LS5\n",
      "R1065J-3_LS5-LS6\n",
      "R1065J-3_LS6-LS7\n",
      "R1065J-3_LS7-LS8\n",
      "R1105E-0_RORBFD1-RORBFD2\n",
      "R1108J-0_RU1-RU2\n",
      "R1108J-0_RU3-RU4\n",
      "R1108J-0_RU4-RU5\n",
      "R1108J-0_RU5-RU6\n",
      "R1108J-0_RU6-RU7\n",
      "R1108J-0_RU8-RU9\n",
      "R1108J-1_RU1-RU2\n",
      "R1108J-1_RU3-RU4\n",
      "R1108J-1_RU4-RU5\n",
      "R1108J-1_RU5-RU6\n",
      "R1108J-1_RU6-RU7\n",
      "R1108J-1_RU8-RU9\n",
      "R1108J-2_RU1-RU2\n",
      "R1108J-2_RU3-RU4\n",
      "R1108J-2_RU4-RU5\n",
      "R1108J-2_RU5-RU6\n",
      "R1108J-2_RU6-RU7\n",
      "R1108J-2_RU8-RU9\n",
      "R1108J-3_RU1-RU2\n",
      "R1108J-3_RU3-RU4\n",
      "R1108J-3_RU4-RU5\n",
      "R1108J-3_RU5-RU6\n",
      "R1108J-3_RU6-RU7\n",
      "R1108J-3_RU8-RU9\n",
      "R1112M-0_RAD3-RAD4\n",
      "R1131M-0_RA1-RA2\n",
      "R1131M-0_RA2-RA3\n",
      "R1131M-0_RA3-RA4\n",
      "R1138T-0_LB2-LB3\n",
      "R1138T-0_LB3-LB4\n",
      "R1138T-1_LB2-LB3\n",
      "R1138T-1_LB3-LB4\n",
      "R1144E-0_LAHD3-LAHD4\n",
      "R1144E-0_LAHD4-LAHD5\n",
      "R1144E-0_LAMYD3-LAMYD4\n",
      "R1144E-0_LAMYD6-LAMYD7\n",
      "R1144E-0_LAMYD8-LAMYD9\n",
      "R1144E-0_LAMYD9-LAMYD10\n",
      "R1144E-1_LAHD3-LAHD4\n",
      "R1144E-1_LAHD4-LAHD5\n",
      "R1144E-1_LAMYD3-LAMYD4\n",
      "R1144E-1_LAMYD6-LAMYD7\n",
      "R1144E-1_LAMYD8-LAMYD9\n",
      "R1144E-1_LAMYD9-LAMYD10\n",
      "R1144E-2_LAHD3-LAHD4\n",
      "R1144E-2_LAHD4-LAHD5\n",
      "R1144E-2_LAMYD3-LAMYD4\n",
      "R1144E-2_LAMYD6-LAMYD7\n",
      "R1144E-2_LAMYD8-LAMYD9\n",
      "R1144E-2_LAMYD9-LAMYD10\n",
      "R1157C-0_OF1-OF2\n",
      "R1157C-0_OF2-OF3\n",
      "R1157C-0_OF3-OF4\n",
      "R1157C-1_OF1-OF2\n",
      "R1157C-1_OF2-OF3\n",
      "R1157C-1_OF3-OF4\n",
      "R1157C-2_OF1-OF2\n",
      "R1157C-2_OF2-OF3\n",
      "R1157C-2_OF3-OF4\n",
      "R1158T-0_RB2-RB3\n",
      "R1158T-0_RB5-RB6\n",
      "R1158T-0_RB6-RB7\n",
      "R1158T-0_RB7-RB8\n",
      "R1167M-0_LAI2-LAI3\n",
      "R1171M-0_RO1-RO2\n",
      "R1171M-0_RO3-RO4\n",
      "R1171M-0_RO4-RO5\n",
      "R1174T-0_LX2-LX3\n",
      "R1174T-0_LX5-LX6\n",
      "R1174T-0_LX8-LX9\n",
      "R1176M-0_RC1-RC2\n",
      "R1188C-0_TP3-TP4\n",
      "R1204T-0_RX1-RX2\n",
      "R1204T-0_RX2-RX3\n",
      "R1204T-0_RX3-RX5\n",
      "R1207J-0_LT2-LT3\n",
      "R1207J-1_LT2-LT3\n",
      "R1207J-2_LT2-LT3\n",
      "R1207J-3_LT2-LT3\n",
      "R1217T-0_RZ4-RZ5\n",
      "R1226D-0_LTG1-LTG9\n",
      "R1226D-0_LTG2-LTG10\n",
      "R1226D-2_LTG1-LTG9\n",
      "R1226D-2_LTG2-LTG10\n",
      "R1226D-3_LTG1-LTG9\n",
      "R1226D-3_LTG2-LTG10\n",
      "R1226D-4_LTG1-LTG9\n",
      "R1226D-4_LTG2-LTG10\n",
      "R1227T-0_LX2-LX5\n",
      "R1227T-0_LX5-LX6\n",
      "R1227T-0_LX6-LX7\n",
      "R1230J-0_LR1-LR2\n",
      "R1230J-0_LR2-LR3\n",
      "R1230J-0_LR3-LR4\n",
      "R1236J-0_RC1-RC2\n",
      "R1236J-0_RC4-RC5\n",
      "R1236J-2_RC1-RC2\n",
      "R1236J-2_RC4-RC5\n",
      "R1236J-3_RC1-RC2\n",
      "R1236J-3_RC4-RC5\n",
      "R1239E-1_1LD1-1LD2\n",
      "R1239E-1_1LD2-1LD3\n",
      "R1239E-1_1LD3-1LD4\n",
      "R1239E-1_1LD4-1LD5\n",
      "R1239E-1_1LD5-1LD6\n",
      "R1239E-1_1LD6-1LD7\n",
      "R1239E-1_1LD9-1LD10\n",
      "R1243T-0_LX2-LX3\n",
      "R1243T-0_LX3-LX4\n",
      "R1243T-1_LX2-LX3\n",
      "R1243T-1_LX3-LX4\n",
      "R1243T-2_LX2-LX3\n",
      "R1243T-2_LX3-LX4\n",
      "R1243T-3_LX2-LX3\n",
      "R1243T-3_LX3-LX4\n",
      "R1245E-0_1LD1-1LD2\n",
      "R1245E-0_1LD3-1LD4\n",
      "R1260D-0_LTPG1-LTPG2\n",
      "R1260D-0_LTPG2-LTPG10\n",
      "R1260D-1_LTPG1-LTPG2\n",
      "R1260D-1_LTPG2-LTPG10\n",
      "R1269E-0_2RD3-2RD4\n",
      "R1269E-0_2RD5-2RD6\n",
      "R1269E-1_2RD3-2RD4\n",
      "R1269E-1_2RD5-2RD6\n",
      "R1269E-2_2RD3-2RD4\n",
      "R1269E-2_2RD5-2RD6\n",
      "R1278E-0_1LD5-1LD6\n",
      "R1278E-0_3LD2-3LD3\n",
      "R1278E-0_3LD3-3LD4\n",
      "R1278E-10_1LD5-1LD6\n",
      "R1278E-10_3LD2-3LD3\n",
      "R1278E-10_3LD3-3LD4\n",
      "R1293P-1_LA3-LA4\n",
      "R1310J-0_RD2-RD3\n",
      "R1310J-0_RD3-RD4\n",
      "R1310J-0_RD4-RD5\n",
      "R1310J-0_RD7-RD8\n",
      "R1310J-0_RD8-RD9\n",
      "R1313J-0_ROF1-ROF2\n",
      "R1313J-0_ROF2-ROF3\n",
      "R1315T-0_RC1-RC2\n",
      "R1315T-0_RC2-RC3\n",
      "R1315T-0_RC4-RC6\n",
      "R1315T-0_RC7-RC8\n",
      "R1315T-0_RC8-RC9\n",
      "R1330D-0_RAD1-RAD2\n",
      "R1330D-0_RAD2-RAD3\n",
      "R1330D-0_RAD3-RAD4\n",
      "R1330D-1_RAD1-RAD2\n",
      "R1330D-1_RAD2-RAD3\n",
      "R1330D-1_RAD3-RAD4\n",
      "R1332M-0_LA3-LA4\n",
      "R1332M-0_LA6-LA7\n",
      "R1332M-0_LA9-LA10\n",
      "R1332M-1_LA3-LA4\n",
      "R1332M-1_LA6-LA7\n",
      "R1332M-1_LA9-LA10\n",
      "R1334T-0_LB4-LB5\n",
      "R1334T-0_LB5-LB6\n",
      "R1334T-0_LB6-LB7\n",
      "R1334T-0_LB8-LB9\n",
      "R1338T-0_RM1-RM2\n",
      "R1338T-0_RM3-RM4\n",
      "R1343J-1_LJ1-LJ2\n",
      "R1343J-1_LJ2-LJ3\n",
      "R1343J-1_LJ4-LJ5\n",
      "R1343J-1_LJ5-LJ6\n",
      "R1348J-1_LOA3-LOA4\n",
      "R1354E-0_1Ld1-1Ld2\n",
      "R1354E-1_1Ld1-1Ld2\n",
      "R1354E-2_1Ld1-1Ld2\n",
      "R1354E-3_1Ld1-1Ld2\n",
      "R1366J-0_RF1-RF2\n",
      "R1366J-0_RF2-RF3\n",
      "R1366J-0_RF3-RF9\n",
      "R1367D-0_LOFD1-LOFD2\n",
      "R1367D-0_LOFD11-LOFD12\n",
      "R1367D-0_LOFD12-LOFD13\n",
      "R1367D-0_LOFD4-LOFD5\n",
      "R1368T-0_RB1-RB2\n",
      "R1368T-0_RB3-RB8\n",
      "R1374T-0_LM3-LM4\n",
      "R1374T-0_LM5-LM6\n",
      "R1374T-1_LM3-LM4\n",
      "R1374T-1_LM5-LM6\n"
     ]
    }
   ],
   "source": [
    "# Define general settings for across the example\n",
    "for selected_elec in np.unique(subj_elec_sess_labels):\n",
    "    print(selected_elec)\n",
    "    #selected_elec = best_power_elec\n",
    "    selected_elec_idxs = np.argwhere(subj_elec_sess_labels==selected_elec)\n",
    "    raw_data_elec = raw_data[selected_elec_idxs].squeeze()\n",
    "    fs = 500\n",
    "\n",
    "    buffer = 500\n",
    "\n",
    "    power_elec = tfr_array_morlet(np.expand_dims(raw_data_elec, axis=1), sfreq=500, \n",
    "                                  freqs=frequencies, output='power', n_cycles=n_cycles)\n",
    "    mwt = np.mean(power_elec.squeeze()[:, :, buffer:-buffer],axis=0) \n",
    "\n",
    "    # Define the baseline period as -500 ms to -100 ms \n",
    "    baseline_pow = np.mean(mwt[:, 100:300],axis=1)\n",
    "\n",
    "    mwt = mwt/np.expand_dims(baseline_pow,axis=1)\n",
    "\n",
    "    mwt_decibal = 10 * np.log10(mwt[:, 350:1100])\n",
    "\n",
    "    # plot data from 0 - 1500 ms \n",
    "    times = np.linspace(0,1.5,750)\n",
    "    plt.pcolormesh(times, frequencies, mwt_decibal, shading='gouraud')\n",
    "    plt.colorbar(label='Baseline Normalized Power (dB)')\n",
    "    plt.xlabel(\"Time after word onset (sec)\", fontsize=14)\n",
    "    plt.ylabel(\"Frequency (Hz)\", fontsize=14)\n",
    "    plt.title(selected_elec, fontsize=16)\n",
    "    plt.savefig(f'baselinenorm_spectrograms/{selected_elec}_6_16', dpi=300)\n",
    "    plt.close()"
   ]
  },
  {
   "cell_type": "code",
   "execution_count": null,
   "id": "35c129b5-f0b9-4855-b081-d11984c1ce6c",
   "metadata": {},
   "outputs": [],
   "source": [
    "power_elec = tfr_array_morlet(np.expand_dims(raw_data, axis=1), sfreq=500, \n",
    "                              freqs=frequencies, output='power', n_cycles=n_cycles)\n",
    "mwt = np.mean(power_elec.squeeze()[:, :, buffer:-buffer],axis=0) \n",
    "\n",
    "# Define the baseline period as -500 ms to -100 ms \n",
    "baseline_pow = np.mean(mwt[:, 100:300],axis=1)\n",
    "\n",
    "mwt = mwt/np.expand_dims(baseline_pow,axis=1)\n",
    "\n",
    "mwt_decibal = 10 * np.log10(mwt[:, 350:1100])\n",
    "\n",
    "# plot data from 0 - 1500 ms \n",
    "times = np.linspace(0,1.5,750)\n",
    "plt.pcolormesh(times, frequencies, mwt_decibal, shading='gouraud')\n",
    "plt.colorbar(label='Baseline Normalized Power (dB)')\n",
    "plt.xlabel(\"Time after word onset (sec)\", fontsize=14)\n",
    "plt.ylabel(\"Frequency (Hz)\", fontsize=14)\n",
    "plt.title(selected_elec, fontsize=16)\n",
    "plt.savefig(f'baselinenorm_spectrograms/{selected_elec}_6_16', dpi=300)\n",
    "plt.close()"
   ]
  },
  {
   "cell_type": "code",
   "execution_count": 141,
   "id": "dcda90fe-e48b-4607-9760-9f4d45b1432a",
   "metadata": {},
   "outputs": [
    {
     "data": {
      "image/png": "[encoded data removed]",
      "text/plain": [
       "<Figure size 720x432 with 1 Axes>"
      ]
     },
     "metadata": {
      "needs_background": "light"
     },
     "output_type": "display_data"
    }
   ],
   "source": [
    "# Create a mask where True indicates values above the threshold\n",
    "significant_mask = mwt_decibal > 0.5\n",
    "\n",
    "# Plot the significant mask\n",
    "plt.figure(figsize=(10, 6))\n",
    "plt.yticks(np.arange(0, len(frequencies), 10), frequencies[::10]) \n",
    "plt.imshow(significant_mask, aspect='auto', origin='lower')\n",
    "plt.show()\n"
   ]
  },
  {
   "cell_type": "code",
   "execution_count": 270,
   "id": "9e9544e1-a3cc-4808-b443-043f4190db4f",
   "metadata": {},
   "outputs": [
    {
     "data": {
      "image/png": "[encoded data removed]",
      "text/plain": [
       "<Figure size 432x288 with 1 Axes>"
      ]
     },
     "metadata": {
      "needs_background": "light"
     },
     "output_type": "display_data"
    }
   ],
   "source": [
    "# Store the results\n",
    "Pxx_base_list = []\n",
    "Pxx_list = []\n",
    "\n",
    "fs = 500\n",
    "nperseg = 256\n",
    "n_trials = raw_data_elec.shape[0]\n",
    "\n",
    "start_roi = 200\n",
    "end_roi = 1200\n",
    "baseline_start = -700\n",
    "baseline_end = 300\n",
    "\n",
    "sr_factor = 1000 / fs\n",
    "# convert to indices based on start time and sampling rate factor\n",
    "start_idx = int((start_roi - start_time)/sr_factor)\n",
    "end_idx = int((end_roi-start_time)/sr_factor)\n",
    "\n",
    "# convert to indices based on start time and sampling rate factor\n",
    "baseline_start_idx = int((baseline_start - start_time)/sr_factor)\n",
    "baseline_end_idx = int((baseline_end - start_time)/sr_factor)\n",
    "\n",
    "nperseg = int(end_idx - start_idx)\n",
    "nperseg_base = int(baseline_end_idx - baseline_start_idx)\n",
    "\n",
    "for trial in range(n_trials):\n",
    "    f, Pxx = welch(raw_data_elec[trial, start_idx:end_idx], \n",
    "                   fs=fs, nperseg=nperseg)\n",
    "    f_base, Pxx_base = welch(raw_data_elec[trial, baseline_start_idx:baseline_end_idx], \n",
    "                   fs=fs, nperseg=nperseg_base)\n",
    "\n",
    "    Pxx_list.append(Pxx)\n",
    "    Pxx_base_list.append(Pxx_base)\n",
    "    \n",
    "\n",
    "Pxx_array = np.array(Pxx_list)\n",
    "Pxx_base_array = np.array(Pxx_base_list)\n",
    "\n",
    "Pxx_mean = np.mean(Pxx_array, axis=0)\n",
    "Pxx_base_mean = np.mean(Pxx_base_array, axis=0)\n",
    "\n",
    "\n",
    "# Plot the averaged periodogram\n",
    "plt.figure()\n",
    "plt.semilogy(f, Pxx_mean)\n",
    "plt.semilogy(f_base, Pxx_base_mean)\n",
    "plt.xlabel('Frequency [Hz]')\n",
    "plt.ylabel('Power spectral density [V^2/Hz]')\n",
    "plt.title('Averaged Welch Periodogram')\n",
    "plt.show()\n"
   ]
  },
  {
   "cell_type": "code",
   "execution_count": 271,
   "id": "8625d46c-b98d-4322-a6ed-5adcf259cfd5",
   "metadata": {},
   "outputs": [
    {
     "data": {
      "image/png": "[encoded data removed]",
      "text/plain": [
       "<Figure size 432x288 with 1 Axes>"
      ]
     },
     "metadata": {
      "needs_background": "light"
     },
     "output_type": "display_data"
    }
   ],
   "source": [
    "plot_end_idx = 119 # 170 Hz\n",
    "Pxx_diff = Pxx_mean-Pxx_base_mean\n",
    "Pxx_diff_mean = np.mean(Pxx_diff)\n",
    "Pxx_diff_std = np.std(Pxx_diff)\n",
    "plt.axhline(Pxx_diff_mean+Pxx_diff_std*2, color='black', alpha=0.6, linestyle='--')\n",
    "plt.plot(f[:plot_end_idx], Pxx_diff[:plot_end_idx], linewidth=3)\n",
    "plt.show()"
   ]
  },
  {
   "cell_type": "code",
   "execution_count": 238,
   "id": "34e73fbf-b0b6-46c6-b20e-be3434089240",
   "metadata": {},
   "outputs": [
    {
     "data": {
      "text/plain": [
       "array([], shape=(0, 1), dtype=int64)"
      ]
     },
     "execution_count": 238,
     "metadata": {},
     "output_type": "execute_result"
    }
   ],
   "source": [
    "np.argwhere(f==max_freq_to_plot)"
   ]
  },
  {
   "cell_type": "code",
   "execution_count": 205,
   "id": "65d4fe2d-022e-4480-8a57-9288890b0c3f",
   "metadata": {},
   "outputs": [
    {
     "name": "stdout",
     "output_type": "stream",
     "text": [
      "==================================================================================================\n",
      "                                                                                                  \n",
      "                                   FOOOF - POWER SPECTRUM MODEL                                   \n",
      "                                                                                                  \n",
      "                       The model was run on the frequency range 0 - 150 Hz                        \n",
      "                                 Frequency Resolution is 0.71 Hz                                  \n",
      "                                                                                                  \n",
      "                         Aperiodic Parameters (offset, knee, exponent):                           \n",
      "                                      4.1529, 8.9977, 2.5010                                      \n",
      "                                                                                                  \n",
      "                                       9 peaks were found:                                        \n",
      "                                CF:  14.41, PW:  0.114, BW:  1.80                                 \n",
      "                                CF:  36.21, PW:  0.119, BW:  6.04                                 \n",
      "                                CF:  39.87, PW:  0.195, BW:  1.20                                 \n",
      "                                CF:  48.62, PW:  0.235, BW: 12.00                                 \n",
      "                                CF:  60.03, PW:  0.520, BW:  1.20                                 \n",
      "                                CF:  62.51, PW:  0.240, BW: 12.00                                 \n",
      "                                CF:  75.61, PW:  0.183, BW: 12.00                                 \n",
      "                                CF:  88.72, PW:  0.106, BW: 12.00                                 \n",
      "                                CF: 143.64, PW:  0.068, BW:  9.97                                 \n",
      "                                                                                                  \n",
      "                                     Goodness of fit metrics:                                     \n",
      "                                    R^2 of model fit is 0.9989                                    \n",
      "                                    Error of the fit is 0.0246                                    \n",
      "                                                                                                  \n",
      "==================================================================================================\n"
     ]
    },
    {
     "data": {
      "image/png": "[encoded data removed]",
      "text/plain": [
       "<Figure size 612x468 with 1 Axes>"
      ]
     },
     "metadata": {
      "needs_background": "light"
     },
     "output_type": "display_data"
    }
   ],
   "source": [
    "# Initialize a model object\n",
    "fm = FOOOF(peak_width_limits=[1.2,12], aperiodic_mode='knee')\n",
    "\n",
    "# Set the frequency range to fit the model\n",
    "freq_range = [0.1,150]\n",
    "\n",
    "# Report: fit the model, print the resulting parameters, and plot the reconstruction\n",
    "fm.report(f, Pxx_mean, freq_range)"
   ]
  },
  {
   "cell_type": "code",
   "execution_count": null,
   "id": "8880fccc-aab8-48c1-bd2b-16f390525ef6",
   "metadata": {},
   "outputs": [],
   "source": [
    "fs = 1  # Sampling frequency, adjust as per your data\n",
    "nperseg = 1500  # Length of each segment\n",
    "\n",
    "# Store the results\n",
    "f_list = []\n",
    "Pxx_list = []\n",
    "\n",
    "for trial in range(n_trials):\n",
    "    f, Pxx = welch(data[trial, :], fs=fs, nperseg=nperseg)\n",
    "    f_list.append(f)\n",
    "    Pxx_list.append(Pxx)\n",
    "\n",
    "# Convert lists to numpy arrays for easier handling\n",
    "f_array = np.array(f_list)\n",
    "Pxx_array = np.array(Pxx_list)"
   ]
  },
  {
   "cell_type": "code",
   "execution_count": 206,
   "id": "7200826f-c0bd-45d8-b0f2-9ad73ae9138c",
   "metadata": {},
   "outputs": [],
   "source": [
    "gamma_include_indices = np.argwhere((max_indices >= 45) & (max_indices <= 115))"
   ]
  },
  {
   "cell_type": "code",
   "execution_count": 202,
   "id": "f13367e8-69ba-4c84-8f70-c5fd10b637e5",
   "metadata": {},
   "outputs": [],
   "source": [
    "theta_include_indices = np.argwhere((max_indices >= 45) & (max_indices <= 115))"
   ]
  },
  {
   "cell_type": "code",
   "execution_count": 207,
   "id": "6d412398-a6e0-4eee-a80b-196d9b33b91f",
   "metadata": {},
   "outputs": [
    {
     "data": {
      "text/plain": [
       "102"
      ]
     },
     "execution_count": 207,
     "metadata": {},
     "output_type": "execute_result"
    }
   ],
   "source": [
    "np.intersect1d(theta_include_indices, gamma_include_indices).shape[0]"
   ]
  },
  {
   "cell_type": "code",
   "execution_count": 163,
   "id": "9a0635b0-7417-47c9-b5d7-28a7552a44ee",
   "metadata": {},
   "outputs": [],
   "source": [
    "# relative to word onset, in ms \n",
    "start_roi = 200\n",
    "end_roi = 900\n",
    "baseline_start_roi = -700\n",
    "baseline_end_roi = 0\n",
    "correct = dd_trials['correct']\n",
    "correct_idxs = np.argwhere(correct==1)\n",
    "\n",
    "# convert to indices based on start time and sampling rate factor\n",
    "start_idx = int((start_roi - start_time)/sr_factor)\n",
    "end_idx = int((end_roi-start_time)/sr_factor)\n",
    "baseline_start_idx = int((baseline_start_roi - start_time)/sr_factor)\n",
    "baseline_end_idx = int((baseline_end_roi - start_time)/sr_factor)\n",
    "\n",
    "electrode_trial_count = []\n",
    "electrode_p_value_ttest = []\n",
    "electrode_p_value_wilcox = []\n",
    "electrode_label = []\n",
    "electrode_max_time = []\n",
    "\n",
    "for seu in subj_elec_unique:\n",
    "    \n",
    "    electrode_label.append(seu)\n",
    "    \n",
    "    se_idxs = np.argwhere(subj_elec_sess_labels==seu).squeeze()\n",
    "    \n",
    "    se_correct_idxs = np.intersect1d(se_idxs, correct_idxs).squeeze()\n",
    "    \n",
    "    filtered_elec = filtered_sig_power[se_idxs].squeeze()\n",
    "    \n",
    "    pow_roi = np.mean(filtered_elec[:, start_idx:end_idx], axis=1)\n",
    "    pow_base = np.mean(filtered_elec[:, baseline_start_idx:baseline_end_idx], axis=1)\n",
    "    \n",
    "    ttest_res = ttest_rel(pow_roi, pow_base, alternative='greater')\n",
    "    \n",
    "    d = np.around(pow_roi-pow_base, decimals=5)\n",
    "    wilcox_res = wilcoxon(d, alternative='greater')\n",
    "    \n",
    "    electrode_p_value_ttest.append(ttest_res.pvalue)\n",
    "    electrode_p_value_wilcox.append(wilcox_res.pvalue)\n",
    "    \n",
    "    electrode_trial_count.append(se_idxs.shape[0])\n",
    "\n",
    "    "
   ]
  },
  {
   "cell_type": "code",
   "execution_count": 99,
   "id": "717bb412-c4a5-4ba2-80a2-44dc78c930b0",
   "metadata": {},
   "outputs": [
    {
     "name": "stdout",
     "output_type": "stream",
     "text": [
      "Number of electrodes:  201\n"
     ]
    }
   ],
   "source": [
    "print(\"Number of electrodes: \", len(electrode_label))"
   ]
  },
  {
   "cell_type": "code",
   "execution_count": 100,
   "id": "fcfd4d35-4628-4d6c-bbf4-5e000578a392",
   "metadata": {},
   "outputs": [
    {
     "name": "stdout",
     "output_type": "stream",
     "text": [
      "Number of nonsig elecs by ttest:  129\n",
      "Number of nonsig elecs by wilcox:  123\n"
     ]
    }
   ],
   "source": [
    "print(\"Number of nonsig elecs by ttest: \", np.argwhere(np.array(electrode_p_value_ttest) > 0.05).shape[0])\n",
    "print(\"Number of nonsig elecs by wilcox: \", np.argwhere(np.array(electrode_p_value_wilcox) > 0.05).shape[0])"
   ]
  },
  {
   "cell_type": "code",
   "execution_count": 94,
   "id": "33ba2139-4467-4dab-b02b-8b6355212fde",
   "metadata": {},
   "outputs": [
    {
     "data": {
      "text/plain": [
       "<matplotlib.collections.PathCollection at 0x2ae2cfe4d190>"
      ]
     },
     "execution_count": 94,
     "metadata": {},
     "output_type": "execute_result"
    },
    {
     "data": {
      "image/png": "[encoded data removed]",
      "text/plain": [
       "<Figure size 432x288 with 1 Axes>"
      ]
     },
     "metadata": {
      "needs_background": "light"
     },
     "output_type": "display_data"
    }
   ],
   "source": [
    "plt.scatter(electrode_trial_count, electrode_p_value_ttest)"
   ]
  },
  {
   "cell_type": "code",
   "execution_count": 32,
   "id": "5b130da4-89aa-45f2-ae34-c56299adf5c3",
   "metadata": {},
   "outputs": [
    {
     "ename": "NameError",
     "evalue": "name 'savePath' is not defined",
     "output_type": "error",
     "traceback": [
      "\u001b[0;31m---------------------------------------------------------------------------\u001b[0m",
      "\u001b[0;31mNameError\u001b[0m                                 Traceback (most recent call last)",
      "\u001b[0;32m<ipython-input-32-3758f038357d>\u001b[0m in \u001b[0;36m<module>\u001b[0;34m\u001b[0m\n\u001b[1;32m      1\u001b[0m elec_stats = pd.DataFrame({'electrode_label': electrode_label, 'pval_t_test': electrode_p_value_ttest, 'pval_wilcox': electrode_p_value_wilcox, \n\u001b[1;32m      2\u001b[0m                   'electrode_trial_count': electrode_trial_count})\n\u001b[0;32m----> 3\u001b[0;31m \u001b[0melec_stats\u001b[0m\u001b[0;34m.\u001b[0m\u001b[0mto_csv\u001b[0m\u001b[0;34m(\u001b[0m\u001b[0;34mf\"{savePath}/{freq_band}_elec_stats.csv\"\u001b[0m\u001b[0;34m)\u001b[0m\u001b[0;34m\u001b[0m\u001b[0;34m\u001b[0m\u001b[0m\n\u001b[0m",
      "\u001b[0;31mNameError\u001b[0m: name 'savePath' is not defined"
     ]
    }
   ],
   "source": [
    "elec_stats = pd.DataFrame({'electrode_label': electrode_label, 'pval_t_test': electrode_p_value_ttest, 'pval_wilcox': electrode_p_value_wilcox, \n",
    "                  'electrode_trial_count': electrode_trial_count})\n",
    "elec_stats.to_csv(f\"{savePath}/{freq_band}_elec_stats.csv\")"
   ]
  },
  {
   "cell_type": "code",
   "execution_count": null,
   "id": "ef215b81-6de2-4a12-8d49-a1a12ed79b63",
   "metadata": {},
   "outputs": [],
   "source": []
  }
 ],
 "metadata": {
  "kernelspec": {
   "display_name": "env1",
   "language": "python",
   "name": "env1"
  },
  "language_info": {
   "codemirror_mode": {
    "name": "ipython",
    "version": 3
   },
   "file_extension": ".py",
   "mimetype": "text/x-python",
   "name": "python",
   "nbconvert_exporter": "python",
   "pygments_lexer": "ipython3",
   "version": "3.7.5"
  }
 },
 "nbformat": 4,
 "nbformat_minor": 5
}
